{
  "nbformat": 4,
  "nbformat_minor": 0,
  "metadata": {
    "colab": {
      "provenance": []
    },
    "kernelspec": {
      "name": "python3",
      "display_name": "Python 3"
    },
    "language_info": {
      "name": "python"
    }
  },
  "cells": [
    {
      "cell_type": "markdown",
      "source": [
        "**PROBLEM STATEMENT** \n",
        "  : The problem statement for logistic regression on the Titanic dataset is to predict whether a passenger survived or not based on their features such as age, gender, class, and fare. The goal is to build a binary classification model that can accurately classify a new passenger as either having survived or not survived based on their features.\n",
        "\n",
        "Logistic regression is a suitable model for this problem because it can model the probability of survival based on the passenger's features. The logistic regression model takes the form of a sigmoid function, which maps the input features to a probability value between 0 and 1. This probability can then be thresholded to make a binary prediction of whether the passenger survived or not.\n",
        "\n",
        "The logistic regression model can be trained using the labeled data in the Titanic dataset, where the Survived column is used as the target variable. The model is then used to predict the survival of new passengers based on their features.\n",
        "\n",
        "The accuracy of the logistic regression model can be evaluated using metrics such as accuracy, precision, recall, and F1 score. The model can also be visualized using a confusion matrix to see how well it is performing in terms of true positives, true negatives, false positives, and false negatives."
      ],
      "metadata": {
        "id": "Y4MJjpuBcw32"
      }
    },
    {
      "cell_type": "markdown",
      "source": [
        "**Understanding of titanic dataset**\n",
        "\n",
        "The Titanic dataset is a famous dataset used for machine learning and data analysis. It contains information about the passengers who were on board the Titanic when it sank on its maiden voyage in 1912. The dataset is often used to predict whether a passenger survived or not based on a set of features such as their age, gender, class, and fare.\n",
        "\n",
        "The dataset contains 891 rows and 12 columns, with each row representing a passenger and each column representing a feature of the passenger. The columns include features such as the passenger's name, age, gender, ticket class, and cabin number.\n",
        "\n",
        "The target variable in the dataset is the \"Survived\" column, which indicates whether the passenger survived the sinking or not (0 = did not survive, 1 = survived). The goal of many analyses of the dataset is to build a model that can accurately predict whether a new passenger would have survived or not based on their features.\n",
        "\n",
        "The Titanic dataset is often used as a teaching tool for introductory data analysis and machine learning because of its relatively small size and simple structure."
      ],
      "metadata": {
        "id": "o6OYbAQWePKT"
      }
    },
    {
      "cell_type": "markdown",
      "source": [
        "**Column explanation**\n",
        "\n",
        "1. PassengerId: A unique identifier for each passenger.\n",
        "2. Survived: A binary variable indicating whether the passenger survived or not. 0 = did not survive, 1 = survived.\n",
        "3. Pclass: The ticket class of the passenger. 1 = 1st class, 2 = 2nd class, 3 = 3rd class.\n",
        "4. Name: The name of the passenger.\n",
        "5. Sex: The gender of the passenger.\n",
        "6. Age: The age of the passenger in years.\n",
        "7. SibSp: The number of siblings/spouses the passenger had aboard the Titanic.\n",
        "8. Parch: The number of parents/children the passenger had aboard the Titanic.\n",
        "9. Ticket: The ticket number of the passenger.\n",
        "10. Fare: The fare paid by the passenger.\n",
        "11. Cabin: The cabin number of the passenger.\n",
        "12. Embarked: The port of embarkation of the passenger. C = Cherbourg, Q = Queenstown, S = Southampton.\n",
        "\n",
        "These columns provide information about the passengers that can be used to predict whether they survived or not. For example, it is known that passengers in higher ticket classes had a higher survival rate, and that women and children were more likely to survive than men. By analyzing these columns, machine learning models can be built to predict whether a new passenger would have survived or not based on their features."
      ],
      "metadata": {
        "id": "u_uNScYqf4PA"
      }
    },
    {
      "cell_type": "code",
      "source": [
        "#Importing Data: importing the necessary libraries and the dataset. I use pandas library for importing data.\n",
        "import numpy as np # linear algebra\n",
        "import pandas as pd # data processing, CSV file I/O (e.g. pd.read_csv)\n",
        "# importing libraries for visualization\n",
        "import matplotlib.pyplot as plt\n",
        "import seaborn as sns\n",
        "import warnings\n",
        "warnings.filterwarnings(\"ignore\")\n",
        "%matplotlib inline\n"
      ],
      "metadata": {
        "id": "HaoABe-Why54"
      },
      "execution_count": null,
      "outputs": []
    },
    {
      "cell_type": "code",
      "source": [
        "# reading data\n",
        "train_df = pd.read_csv('/content/titanic_train.csv')\n",
        "test_df = pd.read_csv('/content/titanic_test.csv')"
      ],
      "metadata": {
        "id": "TBhO6U37iecy"
      },
      "execution_count": null,
      "outputs": []
    },
    {
      "cell_type": "code",
      "source": [
        "train_df.shape #shape of train data"
      ],
      "metadata": {
        "colab": {
          "base_uri": "https://localhost:8080/"
        },
        "id": "40cD82wOkCr6",
        "outputId": "177c87a3-2dae-4ac1-f2c3-0d718f15a0c9"
      },
      "execution_count": null,
      "outputs": [
        {
          "output_type": "execute_result",
          "data": {
            "text/plain": [
              "(891, 12)"
            ]
          },
          "metadata": {},
          "execution_count": 6
        }
      ]
    },
    {
      "cell_type": "code",
      "source": [
        "test_df.shape #shape of test data"
      ],
      "metadata": {
        "colab": {
          "base_uri": "https://localhost:8080/"
        },
        "id": "2LMn4OISkhC1",
        "outputId": "645d530c-6c35-4790-8b30-ce7a3750b80b"
      },
      "execution_count": null,
      "outputs": [
        {
          "output_type": "execute_result",
          "data": {
            "text/plain": [
              "(418, 11)"
            ]
          },
          "metadata": {},
          "execution_count": 7
        }
      ]
    },
    {
      "cell_type": "markdown",
      "source": [
        "**EDA**"
      ],
      "metadata": {
        "id": "3RfsojAn3qt3"
      }
    },
    {
      "cell_type": "code",
      "source": [
        "train_df.head(5) # checking first five rows of train data "
      ],
      "metadata": {
        "colab": {
          "base_uri": "https://localhost:8080/",
          "height": 285
        },
        "id": "FpyCOLW5kmOy",
        "outputId": "cbeee4ec-ea52-489d-9c2f-98a256db7ec6"
      },
      "execution_count": null,
      "outputs": [
        {
          "output_type": "execute_result",
          "data": {
            "text/plain": [
              "   PassengerId  Survived  Pclass  \\\n",
              "0            1         0       3   \n",
              "1            2         1       1   \n",
              "2            3         1       3   \n",
              "3            4         1       1   \n",
              "4            5         0       3   \n",
              "\n",
              "                                                Name     Sex   Age  SibSp  \\\n",
              "0                            Braund, Mr. Owen Harris    male  22.0      1   \n",
              "1  Cumings, Mrs. John Bradley (Florence Briggs Th...  female  38.0      1   \n",
              "2                             Heikkinen, Miss. Laina  female  26.0      0   \n",
              "3       Futrelle, Mrs. Jacques Heath (Lily May Peel)  female  35.0      1   \n",
              "4                           Allen, Mr. William Henry    male  35.0      0   \n",
              "\n",
              "   Parch            Ticket     Fare Cabin Embarked  \n",
              "0      0         A/5 21171   7.2500   NaN        S  \n",
              "1      0          PC 17599  71.2833   C85        C  \n",
              "2      0  STON/O2. 3101282   7.9250   NaN        S  \n",
              "3      0            113803  53.1000  C123        S  \n",
              "4      0            373450   8.0500   NaN        S  "
            ],
            "text/html": [
              "\n",
              "  <div id=\"df-56678174-5b1a-4888-aa4c-864d1714442f\">\n",
              "    <div class=\"colab-df-container\">\n",
              "      <div>\n",
              "<style scoped>\n",
              "    .dataframe tbody tr th:only-of-type {\n",
              "        vertical-align: middle;\n",
              "    }\n",
              "\n",
              "    .dataframe tbody tr th {\n",
              "        vertical-align: top;\n",
              "    }\n",
              "\n",
              "    .dataframe thead th {\n",
              "        text-align: right;\n",
              "    }\n",
              "</style>\n",
              "<table border=\"1\" class=\"dataframe\">\n",
              "  <thead>\n",
              "    <tr style=\"text-align: right;\">\n",
              "      <th></th>\n",
              "      <th>PassengerId</th>\n",
              "      <th>Survived</th>\n",
              "      <th>Pclass</th>\n",
              "      <th>Name</th>\n",
              "      <th>Sex</th>\n",
              "      <th>Age</th>\n",
              "      <th>SibSp</th>\n",
              "      <th>Parch</th>\n",
              "      <th>Ticket</th>\n",
              "      <th>Fare</th>\n",
              "      <th>Cabin</th>\n",
              "      <th>Embarked</th>\n",
              "    </tr>\n",
              "  </thead>\n",
              "  <tbody>\n",
              "    <tr>\n",
              "      <th>0</th>\n",
              "      <td>1</td>\n",
              "      <td>0</td>\n",
              "      <td>3</td>\n",
              "      <td>Braund, Mr. Owen Harris</td>\n",
              "      <td>male</td>\n",
              "      <td>22.0</td>\n",
              "      <td>1</td>\n",
              "      <td>0</td>\n",
              "      <td>A/5 21171</td>\n",
              "      <td>7.2500</td>\n",
              "      <td>NaN</td>\n",
              "      <td>S</td>\n",
              "    </tr>\n",
              "    <tr>\n",
              "      <th>1</th>\n",
              "      <td>2</td>\n",
              "      <td>1</td>\n",
              "      <td>1</td>\n",
              "      <td>Cumings, Mrs. John Bradley (Florence Briggs Th...</td>\n",
              "      <td>female</td>\n",
              "      <td>38.0</td>\n",
              "      <td>1</td>\n",
              "      <td>0</td>\n",
              "      <td>PC 17599</td>\n",
              "      <td>71.2833</td>\n",
              "      <td>C85</td>\n",
              "      <td>C</td>\n",
              "    </tr>\n",
              "    <tr>\n",
              "      <th>2</th>\n",
              "      <td>3</td>\n",
              "      <td>1</td>\n",
              "      <td>3</td>\n",
              "      <td>Heikkinen, Miss. Laina</td>\n",
              "      <td>female</td>\n",
              "      <td>26.0</td>\n",
              "      <td>0</td>\n",
              "      <td>0</td>\n",
              "      <td>STON/O2. 3101282</td>\n",
              "      <td>7.9250</td>\n",
              "      <td>NaN</td>\n",
              "      <td>S</td>\n",
              "    </tr>\n",
              "    <tr>\n",
              "      <th>3</th>\n",
              "      <td>4</td>\n",
              "      <td>1</td>\n",
              "      <td>1</td>\n",
              "      <td>Futrelle, Mrs. Jacques Heath (Lily May Peel)</td>\n",
              "      <td>female</td>\n",
              "      <td>35.0</td>\n",
              "      <td>1</td>\n",
              "      <td>0</td>\n",
              "      <td>113803</td>\n",
              "      <td>53.1000</td>\n",
              "      <td>C123</td>\n",
              "      <td>S</td>\n",
              "    </tr>\n",
              "    <tr>\n",
              "      <th>4</th>\n",
              "      <td>5</td>\n",
              "      <td>0</td>\n",
              "      <td>3</td>\n",
              "      <td>Allen, Mr. William Henry</td>\n",
              "      <td>male</td>\n",
              "      <td>35.0</td>\n",
              "      <td>0</td>\n",
              "      <td>0</td>\n",
              "      <td>373450</td>\n",
              "      <td>8.0500</td>\n",
              "      <td>NaN</td>\n",
              "      <td>S</td>\n",
              "    </tr>\n",
              "  </tbody>\n",
              "</table>\n",
              "</div>\n",
              "      <button class=\"colab-df-convert\" onclick=\"convertToInteractive('df-56678174-5b1a-4888-aa4c-864d1714442f')\"\n",
              "              title=\"Convert this dataframe to an interactive table.\"\n",
              "              style=\"display:none;\">\n",
              "        \n",
              "  <svg xmlns=\"http://www.w3.org/2000/svg\" height=\"24px\"viewBox=\"0 0 24 24\"\n",
              "       width=\"24px\">\n",
              "    <path d=\"M0 0h24v24H0V0z\" fill=\"none\"/>\n",
              "    <path d=\"M18.56 5.44l.94 2.06.94-2.06 2.06-.94-2.06-.94-.94-2.06-.94 2.06-2.06.94zm-11 1L8.5 8.5l.94-2.06 2.06-.94-2.06-.94L8.5 2.5l-.94 2.06-2.06.94zm10 10l.94 2.06.94-2.06 2.06-.94-2.06-.94-.94-2.06-.94 2.06-2.06.94z\"/><path d=\"M17.41 7.96l-1.37-1.37c-.4-.4-.92-.59-1.43-.59-.52 0-1.04.2-1.43.59L10.3 9.45l-7.72 7.72c-.78.78-.78 2.05 0 2.83L4 21.41c.39.39.9.59 1.41.59.51 0 1.02-.2 1.41-.59l7.78-7.78 2.81-2.81c.8-.78.8-2.07 0-2.86zM5.41 20L4 18.59l7.72-7.72 1.47 1.35L5.41 20z\"/>\n",
              "  </svg>\n",
              "      </button>\n",
              "      \n",
              "  <style>\n",
              "    .colab-df-container {\n",
              "      display:flex;\n",
              "      flex-wrap:wrap;\n",
              "      gap: 12px;\n",
              "    }\n",
              "\n",
              "    .colab-df-convert {\n",
              "      background-color: #E8F0FE;\n",
              "      border: none;\n",
              "      border-radius: 50%;\n",
              "      cursor: pointer;\n",
              "      display: none;\n",
              "      fill: #1967D2;\n",
              "      height: 32px;\n",
              "      padding: 0 0 0 0;\n",
              "      width: 32px;\n",
              "    }\n",
              "\n",
              "    .colab-df-convert:hover {\n",
              "      background-color: #E2EBFA;\n",
              "      box-shadow: 0px 1px 2px rgba(60, 64, 67, 0.3), 0px 1px 3px 1px rgba(60, 64, 67, 0.15);\n",
              "      fill: #174EA6;\n",
              "    }\n",
              "\n",
              "    [theme=dark] .colab-df-convert {\n",
              "      background-color: #3B4455;\n",
              "      fill: #D2E3FC;\n",
              "    }\n",
              "\n",
              "    [theme=dark] .colab-df-convert:hover {\n",
              "      background-color: #434B5C;\n",
              "      box-shadow: 0px 1px 3px 1px rgba(0, 0, 0, 0.15);\n",
              "      filter: drop-shadow(0px 1px 2px rgba(0, 0, 0, 0.3));\n",
              "      fill: #FFFFFF;\n",
              "    }\n",
              "  </style>\n",
              "\n",
              "      <script>\n",
              "        const buttonEl =\n",
              "          document.querySelector('#df-56678174-5b1a-4888-aa4c-864d1714442f button.colab-df-convert');\n",
              "        buttonEl.style.display =\n",
              "          google.colab.kernel.accessAllowed ? 'block' : 'none';\n",
              "\n",
              "        async function convertToInteractive(key) {\n",
              "          const element = document.querySelector('#df-56678174-5b1a-4888-aa4c-864d1714442f');\n",
              "          const dataTable =\n",
              "            await google.colab.kernel.invokeFunction('convertToInteractive',\n",
              "                                                     [key], {});\n",
              "          if (!dataTable) return;\n",
              "\n",
              "          const docLinkHtml = 'Like what you see? Visit the ' +\n",
              "            '<a target=\"_blank\" href=https://colab.research.google.com/notebooks/data_table.ipynb>data table notebook</a>'\n",
              "            + ' to learn more about interactive tables.';\n",
              "          element.innerHTML = '';\n",
              "          dataTable['output_type'] = 'display_data';\n",
              "          await google.colab.output.renderOutput(dataTable, element);\n",
              "          const docLink = document.createElement('div');\n",
              "          docLink.innerHTML = docLinkHtml;\n",
              "          element.appendChild(docLink);\n",
              "        }\n",
              "      </script>\n",
              "    </div>\n",
              "  </div>\n",
              "  "
            ]
          },
          "metadata": {},
          "execution_count": 8
        }
      ]
    },
    {
      "cell_type": "code",
      "source": [
        "test_df.head(5) #checking first five rows of test data"
      ],
      "metadata": {
        "colab": {
          "base_uri": "https://localhost:8080/",
          "height": 206
        },
        "id": "NFdw3GDXlC-A",
        "outputId": "1ee7e24f-bd01-476b-a1e2-4a1b6d561e9e"
      },
      "execution_count": null,
      "outputs": [
        {
          "output_type": "execute_result",
          "data": {
            "text/plain": [
              "   PassengerId  Pclass                                          Name     Sex  \\\n",
              "0          892       3                              Kelly, Mr. James    male   \n",
              "1          893       3              Wilkes, Mrs. James (Ellen Needs)  female   \n",
              "2          894       2                     Myles, Mr. Thomas Francis    male   \n",
              "3          895       3                              Wirz, Mr. Albert    male   \n",
              "4          896       3  Hirvonen, Mrs. Alexander (Helga E Lindqvist)  female   \n",
              "\n",
              "    Age  SibSp  Parch   Ticket     Fare Cabin Embarked  \n",
              "0  34.5      0      0   330911   7.8292   NaN        Q  \n",
              "1  47.0      1      0   363272   7.0000   NaN        S  \n",
              "2  62.0      0      0   240276   9.6875   NaN        Q  \n",
              "3  27.0      0      0   315154   8.6625   NaN        S  \n",
              "4  22.0      1      1  3101298  12.2875   NaN        S  "
            ],
            "text/html": [
              "\n",
              "  <div id=\"df-658f75ba-9d7d-48b4-b71e-61ef22024226\">\n",
              "    <div class=\"colab-df-container\">\n",
              "      <div>\n",
              "<style scoped>\n",
              "    .dataframe tbody tr th:only-of-type {\n",
              "        vertical-align: middle;\n",
              "    }\n",
              "\n",
              "    .dataframe tbody tr th {\n",
              "        vertical-align: top;\n",
              "    }\n",
              "\n",
              "    .dataframe thead th {\n",
              "        text-align: right;\n",
              "    }\n",
              "</style>\n",
              "<table border=\"1\" class=\"dataframe\">\n",
              "  <thead>\n",
              "    <tr style=\"text-align: right;\">\n",
              "      <th></th>\n",
              "      <th>PassengerId</th>\n",
              "      <th>Pclass</th>\n",
              "      <th>Name</th>\n",
              "      <th>Sex</th>\n",
              "      <th>Age</th>\n",
              "      <th>SibSp</th>\n",
              "      <th>Parch</th>\n",
              "      <th>Ticket</th>\n",
              "      <th>Fare</th>\n",
              "      <th>Cabin</th>\n",
              "      <th>Embarked</th>\n",
              "    </tr>\n",
              "  </thead>\n",
              "  <tbody>\n",
              "    <tr>\n",
              "      <th>0</th>\n",
              "      <td>892</td>\n",
              "      <td>3</td>\n",
              "      <td>Kelly, Mr. James</td>\n",
              "      <td>male</td>\n",
              "      <td>34.5</td>\n",
              "      <td>0</td>\n",
              "      <td>0</td>\n",
              "      <td>330911</td>\n",
              "      <td>7.8292</td>\n",
              "      <td>NaN</td>\n",
              "      <td>Q</td>\n",
              "    </tr>\n",
              "    <tr>\n",
              "      <th>1</th>\n",
              "      <td>893</td>\n",
              "      <td>3</td>\n",
              "      <td>Wilkes, Mrs. James (Ellen Needs)</td>\n",
              "      <td>female</td>\n",
              "      <td>47.0</td>\n",
              "      <td>1</td>\n",
              "      <td>0</td>\n",
              "      <td>363272</td>\n",
              "      <td>7.0000</td>\n",
              "      <td>NaN</td>\n",
              "      <td>S</td>\n",
              "    </tr>\n",
              "    <tr>\n",
              "      <th>2</th>\n",
              "      <td>894</td>\n",
              "      <td>2</td>\n",
              "      <td>Myles, Mr. Thomas Francis</td>\n",
              "      <td>male</td>\n",
              "      <td>62.0</td>\n",
              "      <td>0</td>\n",
              "      <td>0</td>\n",
              "      <td>240276</td>\n",
              "      <td>9.6875</td>\n",
              "      <td>NaN</td>\n",
              "      <td>Q</td>\n",
              "    </tr>\n",
              "    <tr>\n",
              "      <th>3</th>\n",
              "      <td>895</td>\n",
              "      <td>3</td>\n",
              "      <td>Wirz, Mr. Albert</td>\n",
              "      <td>male</td>\n",
              "      <td>27.0</td>\n",
              "      <td>0</td>\n",
              "      <td>0</td>\n",
              "      <td>315154</td>\n",
              "      <td>8.6625</td>\n",
              "      <td>NaN</td>\n",
              "      <td>S</td>\n",
              "    </tr>\n",
              "    <tr>\n",
              "      <th>4</th>\n",
              "      <td>896</td>\n",
              "      <td>3</td>\n",
              "      <td>Hirvonen, Mrs. Alexander (Helga E Lindqvist)</td>\n",
              "      <td>female</td>\n",
              "      <td>22.0</td>\n",
              "      <td>1</td>\n",
              "      <td>1</td>\n",
              "      <td>3101298</td>\n",
              "      <td>12.2875</td>\n",
              "      <td>NaN</td>\n",
              "      <td>S</td>\n",
              "    </tr>\n",
              "  </tbody>\n",
              "</table>\n",
              "</div>\n",
              "      <button class=\"colab-df-convert\" onclick=\"convertToInteractive('df-658f75ba-9d7d-48b4-b71e-61ef22024226')\"\n",
              "              title=\"Convert this dataframe to an interactive table.\"\n",
              "              style=\"display:none;\">\n",
              "        \n",
              "  <svg xmlns=\"http://www.w3.org/2000/svg\" height=\"24px\"viewBox=\"0 0 24 24\"\n",
              "       width=\"24px\">\n",
              "    <path d=\"M0 0h24v24H0V0z\" fill=\"none\"/>\n",
              "    <path d=\"M18.56 5.44l.94 2.06.94-2.06 2.06-.94-2.06-.94-.94-2.06-.94 2.06-2.06.94zm-11 1L8.5 8.5l.94-2.06 2.06-.94-2.06-.94L8.5 2.5l-.94 2.06-2.06.94zm10 10l.94 2.06.94-2.06 2.06-.94-2.06-.94-.94-2.06-.94 2.06-2.06.94z\"/><path d=\"M17.41 7.96l-1.37-1.37c-.4-.4-.92-.59-1.43-.59-.52 0-1.04.2-1.43.59L10.3 9.45l-7.72 7.72c-.78.78-.78 2.05 0 2.83L4 21.41c.39.39.9.59 1.41.59.51 0 1.02-.2 1.41-.59l7.78-7.78 2.81-2.81c.8-.78.8-2.07 0-2.86zM5.41 20L4 18.59l7.72-7.72 1.47 1.35L5.41 20z\"/>\n",
              "  </svg>\n",
              "      </button>\n",
              "      \n",
              "  <style>\n",
              "    .colab-df-container {\n",
              "      display:flex;\n",
              "      flex-wrap:wrap;\n",
              "      gap: 12px;\n",
              "    }\n",
              "\n",
              "    .colab-df-convert {\n",
              "      background-color: #E8F0FE;\n",
              "      border: none;\n",
              "      border-radius: 50%;\n",
              "      cursor: pointer;\n",
              "      display: none;\n",
              "      fill: #1967D2;\n",
              "      height: 32px;\n",
              "      padding: 0 0 0 0;\n",
              "      width: 32px;\n",
              "    }\n",
              "\n",
              "    .colab-df-convert:hover {\n",
              "      background-color: #E2EBFA;\n",
              "      box-shadow: 0px 1px 2px rgba(60, 64, 67, 0.3), 0px 1px 3px 1px rgba(60, 64, 67, 0.15);\n",
              "      fill: #174EA6;\n",
              "    }\n",
              "\n",
              "    [theme=dark] .colab-df-convert {\n",
              "      background-color: #3B4455;\n",
              "      fill: #D2E3FC;\n",
              "    }\n",
              "\n",
              "    [theme=dark] .colab-df-convert:hover {\n",
              "      background-color: #434B5C;\n",
              "      box-shadow: 0px 1px 3px 1px rgba(0, 0, 0, 0.15);\n",
              "      filter: drop-shadow(0px 1px 2px rgba(0, 0, 0, 0.3));\n",
              "      fill: #FFFFFF;\n",
              "    }\n",
              "  </style>\n",
              "\n",
              "      <script>\n",
              "        const buttonEl =\n",
              "          document.querySelector('#df-658f75ba-9d7d-48b4-b71e-61ef22024226 button.colab-df-convert');\n",
              "        buttonEl.style.display =\n",
              "          google.colab.kernel.accessAllowed ? 'block' : 'none';\n",
              "\n",
              "        async function convertToInteractive(key) {\n",
              "          const element = document.querySelector('#df-658f75ba-9d7d-48b4-b71e-61ef22024226');\n",
              "          const dataTable =\n",
              "            await google.colab.kernel.invokeFunction('convertToInteractive',\n",
              "                                                     [key], {});\n",
              "          if (!dataTable) return;\n",
              "\n",
              "          const docLinkHtml = 'Like what you see? Visit the ' +\n",
              "            '<a target=\"_blank\" href=https://colab.research.google.com/notebooks/data_table.ipynb>data table notebook</a>'\n",
              "            + ' to learn more about interactive tables.';\n",
              "          element.innerHTML = '';\n",
              "          dataTable['output_type'] = 'display_data';\n",
              "          await google.colab.output.renderOutput(dataTable, element);\n",
              "          const docLink = document.createElement('div');\n",
              "          docLink.innerHTML = docLinkHtml;\n",
              "          element.appendChild(docLink);\n",
              "        }\n",
              "      </script>\n",
              "    </div>\n",
              "  </div>\n",
              "  "
            ]
          },
          "metadata": {},
          "execution_count": 9
        }
      ]
    },
    {
      "cell_type": "code",
      "source": [
        "train_df.tail(5) #checking last five rows of train data"
      ],
      "metadata": {
        "colab": {
          "base_uri": "https://localhost:8080/",
          "height": 206
        },
        "id": "9oAEOETvlHhE",
        "outputId": "66b94e38-1cdf-4185-bd21-048227023928"
      },
      "execution_count": null,
      "outputs": [
        {
          "output_type": "execute_result",
          "data": {
            "text/plain": [
              "     PassengerId  Survived  Pclass                                      Name  \\\n",
              "886          887         0       2                     Montvila, Rev. Juozas   \n",
              "887          888         1       1              Graham, Miss. Margaret Edith   \n",
              "888          889         0       3  Johnston, Miss. Catherine Helen \"Carrie\"   \n",
              "889          890         1       1                     Behr, Mr. Karl Howell   \n",
              "890          891         0       3                       Dooley, Mr. Patrick   \n",
              "\n",
              "        Sex   Age  SibSp  Parch      Ticket   Fare Cabin Embarked  \n",
              "886    male  27.0      0      0      211536  13.00   NaN        S  \n",
              "887  female  19.0      0      0      112053  30.00   B42        S  \n",
              "888  female   NaN      1      2  W./C. 6607  23.45   NaN        S  \n",
              "889    male  26.0      0      0      111369  30.00  C148        C  \n",
              "890    male  32.0      0      0      370376   7.75   NaN        Q  "
            ],
            "text/html": [
              "\n",
              "  <div id=\"df-6605b8f9-f5d0-4af7-a123-b034e7cbb3ef\">\n",
              "    <div class=\"colab-df-container\">\n",
              "      <div>\n",
              "<style scoped>\n",
              "    .dataframe tbody tr th:only-of-type {\n",
              "        vertical-align: middle;\n",
              "    }\n",
              "\n",
              "    .dataframe tbody tr th {\n",
              "        vertical-align: top;\n",
              "    }\n",
              "\n",
              "    .dataframe thead th {\n",
              "        text-align: right;\n",
              "    }\n",
              "</style>\n",
              "<table border=\"1\" class=\"dataframe\">\n",
              "  <thead>\n",
              "    <tr style=\"text-align: right;\">\n",
              "      <th></th>\n",
              "      <th>PassengerId</th>\n",
              "      <th>Survived</th>\n",
              "      <th>Pclass</th>\n",
              "      <th>Name</th>\n",
              "      <th>Sex</th>\n",
              "      <th>Age</th>\n",
              "      <th>SibSp</th>\n",
              "      <th>Parch</th>\n",
              "      <th>Ticket</th>\n",
              "      <th>Fare</th>\n",
              "      <th>Cabin</th>\n",
              "      <th>Embarked</th>\n",
              "    </tr>\n",
              "  </thead>\n",
              "  <tbody>\n",
              "    <tr>\n",
              "      <th>886</th>\n",
              "      <td>887</td>\n",
              "      <td>0</td>\n",
              "      <td>2</td>\n",
              "      <td>Montvila, Rev. Juozas</td>\n",
              "      <td>male</td>\n",
              "      <td>27.0</td>\n",
              "      <td>0</td>\n",
              "      <td>0</td>\n",
              "      <td>211536</td>\n",
              "      <td>13.00</td>\n",
              "      <td>NaN</td>\n",
              "      <td>S</td>\n",
              "    </tr>\n",
              "    <tr>\n",
              "      <th>887</th>\n",
              "      <td>888</td>\n",
              "      <td>1</td>\n",
              "      <td>1</td>\n",
              "      <td>Graham, Miss. Margaret Edith</td>\n",
              "      <td>female</td>\n",
              "      <td>19.0</td>\n",
              "      <td>0</td>\n",
              "      <td>0</td>\n",
              "      <td>112053</td>\n",
              "      <td>30.00</td>\n",
              "      <td>B42</td>\n",
              "      <td>S</td>\n",
              "    </tr>\n",
              "    <tr>\n",
              "      <th>888</th>\n",
              "      <td>889</td>\n",
              "      <td>0</td>\n",
              "      <td>3</td>\n",
              "      <td>Johnston, Miss. Catherine Helen \"Carrie\"</td>\n",
              "      <td>female</td>\n",
              "      <td>NaN</td>\n",
              "      <td>1</td>\n",
              "      <td>2</td>\n",
              "      <td>W./C. 6607</td>\n",
              "      <td>23.45</td>\n",
              "      <td>NaN</td>\n",
              "      <td>S</td>\n",
              "    </tr>\n",
              "    <tr>\n",
              "      <th>889</th>\n",
              "      <td>890</td>\n",
              "      <td>1</td>\n",
              "      <td>1</td>\n",
              "      <td>Behr, Mr. Karl Howell</td>\n",
              "      <td>male</td>\n",
              "      <td>26.0</td>\n",
              "      <td>0</td>\n",
              "      <td>0</td>\n",
              "      <td>111369</td>\n",
              "      <td>30.00</td>\n",
              "      <td>C148</td>\n",
              "      <td>C</td>\n",
              "    </tr>\n",
              "    <tr>\n",
              "      <th>890</th>\n",
              "      <td>891</td>\n",
              "      <td>0</td>\n",
              "      <td>3</td>\n",
              "      <td>Dooley, Mr. Patrick</td>\n",
              "      <td>male</td>\n",
              "      <td>32.0</td>\n",
              "      <td>0</td>\n",
              "      <td>0</td>\n",
              "      <td>370376</td>\n",
              "      <td>7.75</td>\n",
              "      <td>NaN</td>\n",
              "      <td>Q</td>\n",
              "    </tr>\n",
              "  </tbody>\n",
              "</table>\n",
              "</div>\n",
              "      <button class=\"colab-df-convert\" onclick=\"convertToInteractive('df-6605b8f9-f5d0-4af7-a123-b034e7cbb3ef')\"\n",
              "              title=\"Convert this dataframe to an interactive table.\"\n",
              "              style=\"display:none;\">\n",
              "        \n",
              "  <svg xmlns=\"http://www.w3.org/2000/svg\" height=\"24px\"viewBox=\"0 0 24 24\"\n",
              "       width=\"24px\">\n",
              "    <path d=\"M0 0h24v24H0V0z\" fill=\"none\"/>\n",
              "    <path d=\"M18.56 5.44l.94 2.06.94-2.06 2.06-.94-2.06-.94-.94-2.06-.94 2.06-2.06.94zm-11 1L8.5 8.5l.94-2.06 2.06-.94-2.06-.94L8.5 2.5l-.94 2.06-2.06.94zm10 10l.94 2.06.94-2.06 2.06-.94-2.06-.94-.94-2.06-.94 2.06-2.06.94z\"/><path d=\"M17.41 7.96l-1.37-1.37c-.4-.4-.92-.59-1.43-.59-.52 0-1.04.2-1.43.59L10.3 9.45l-7.72 7.72c-.78.78-.78 2.05 0 2.83L4 21.41c.39.39.9.59 1.41.59.51 0 1.02-.2 1.41-.59l7.78-7.78 2.81-2.81c.8-.78.8-2.07 0-2.86zM5.41 20L4 18.59l7.72-7.72 1.47 1.35L5.41 20z\"/>\n",
              "  </svg>\n",
              "      </button>\n",
              "      \n",
              "  <style>\n",
              "    .colab-df-container {\n",
              "      display:flex;\n",
              "      flex-wrap:wrap;\n",
              "      gap: 12px;\n",
              "    }\n",
              "\n",
              "    .colab-df-convert {\n",
              "      background-color: #E8F0FE;\n",
              "      border: none;\n",
              "      border-radius: 50%;\n",
              "      cursor: pointer;\n",
              "      display: none;\n",
              "      fill: #1967D2;\n",
              "      height: 32px;\n",
              "      padding: 0 0 0 0;\n",
              "      width: 32px;\n",
              "    }\n",
              "\n",
              "    .colab-df-convert:hover {\n",
              "      background-color: #E2EBFA;\n",
              "      box-shadow: 0px 1px 2px rgba(60, 64, 67, 0.3), 0px 1px 3px 1px rgba(60, 64, 67, 0.15);\n",
              "      fill: #174EA6;\n",
              "    }\n",
              "\n",
              "    [theme=dark] .colab-df-convert {\n",
              "      background-color: #3B4455;\n",
              "      fill: #D2E3FC;\n",
              "    }\n",
              "\n",
              "    [theme=dark] .colab-df-convert:hover {\n",
              "      background-color: #434B5C;\n",
              "      box-shadow: 0px 1px 3px 1px rgba(0, 0, 0, 0.15);\n",
              "      filter: drop-shadow(0px 1px 2px rgba(0, 0, 0, 0.3));\n",
              "      fill: #FFFFFF;\n",
              "    }\n",
              "  </style>\n",
              "\n",
              "      <script>\n",
              "        const buttonEl =\n",
              "          document.querySelector('#df-6605b8f9-f5d0-4af7-a123-b034e7cbb3ef button.colab-df-convert');\n",
              "        buttonEl.style.display =\n",
              "          google.colab.kernel.accessAllowed ? 'block' : 'none';\n",
              "\n",
              "        async function convertToInteractive(key) {\n",
              "          const element = document.querySelector('#df-6605b8f9-f5d0-4af7-a123-b034e7cbb3ef');\n",
              "          const dataTable =\n",
              "            await google.colab.kernel.invokeFunction('convertToInteractive',\n",
              "                                                     [key], {});\n",
              "          if (!dataTable) return;\n",
              "\n",
              "          const docLinkHtml = 'Like what you see? Visit the ' +\n",
              "            '<a target=\"_blank\" href=https://colab.research.google.com/notebooks/data_table.ipynb>data table notebook</a>'\n",
              "            + ' to learn more about interactive tables.';\n",
              "          element.innerHTML = '';\n",
              "          dataTable['output_type'] = 'display_data';\n",
              "          await google.colab.output.renderOutput(dataTable, element);\n",
              "          const docLink = document.createElement('div');\n",
              "          docLink.innerHTML = docLinkHtml;\n",
              "          element.appendChild(docLink);\n",
              "        }\n",
              "      </script>\n",
              "    </div>\n",
              "  </div>\n",
              "  "
            ]
          },
          "metadata": {},
          "execution_count": 10
        }
      ]
    },
    {
      "cell_type": "code",
      "source": [
        "test_df.tail(5) #checking last five rows of test data"
      ],
      "metadata": {
        "colab": {
          "base_uri": "https://localhost:8080/",
          "height": 206
        },
        "id": "MKDakw2tlvcZ",
        "outputId": "9dd5ab1f-e046-407a-f5fb-d227f1f2a4bc"
      },
      "execution_count": null,
      "outputs": [
        {
          "output_type": "execute_result",
          "data": {
            "text/plain": [
              "     PassengerId  Pclass                          Name     Sex   Age  SibSp  \\\n",
              "413         1305       3            Spector, Mr. Woolf    male   NaN      0   \n",
              "414         1306       1  Oliva y Ocana, Dona. Fermina  female  39.0      0   \n",
              "415         1307       3  Saether, Mr. Simon Sivertsen    male  38.5      0   \n",
              "416         1308       3           Ware, Mr. Frederick    male   NaN      0   \n",
              "417         1309       3      Peter, Master. Michael J    male   NaN      1   \n",
              "\n",
              "     Parch              Ticket      Fare Cabin Embarked  \n",
              "413      0           A.5. 3236    8.0500   NaN        S  \n",
              "414      0            PC 17758  108.9000  C105        C  \n",
              "415      0  SOTON/O.Q. 3101262    7.2500   NaN        S  \n",
              "416      0              359309    8.0500   NaN        S  \n",
              "417      1                2668   22.3583   NaN        C  "
            ],
            "text/html": [
              "\n",
              "  <div id=\"df-90514b7f-6a61-41c9-aee8-29de0a9ed956\">\n",
              "    <div class=\"colab-df-container\">\n",
              "      <div>\n",
              "<style scoped>\n",
              "    .dataframe tbody tr th:only-of-type {\n",
              "        vertical-align: middle;\n",
              "    }\n",
              "\n",
              "    .dataframe tbody tr th {\n",
              "        vertical-align: top;\n",
              "    }\n",
              "\n",
              "    .dataframe thead th {\n",
              "        text-align: right;\n",
              "    }\n",
              "</style>\n",
              "<table border=\"1\" class=\"dataframe\">\n",
              "  <thead>\n",
              "    <tr style=\"text-align: right;\">\n",
              "      <th></th>\n",
              "      <th>PassengerId</th>\n",
              "      <th>Pclass</th>\n",
              "      <th>Name</th>\n",
              "      <th>Sex</th>\n",
              "      <th>Age</th>\n",
              "      <th>SibSp</th>\n",
              "      <th>Parch</th>\n",
              "      <th>Ticket</th>\n",
              "      <th>Fare</th>\n",
              "      <th>Cabin</th>\n",
              "      <th>Embarked</th>\n",
              "    </tr>\n",
              "  </thead>\n",
              "  <tbody>\n",
              "    <tr>\n",
              "      <th>413</th>\n",
              "      <td>1305</td>\n",
              "      <td>3</td>\n",
              "      <td>Spector, Mr. Woolf</td>\n",
              "      <td>male</td>\n",
              "      <td>NaN</td>\n",
              "      <td>0</td>\n",
              "      <td>0</td>\n",
              "      <td>A.5. 3236</td>\n",
              "      <td>8.0500</td>\n",
              "      <td>NaN</td>\n",
              "      <td>S</td>\n",
              "    </tr>\n",
              "    <tr>\n",
              "      <th>414</th>\n",
              "      <td>1306</td>\n",
              "      <td>1</td>\n",
              "      <td>Oliva y Ocana, Dona. Fermina</td>\n",
              "      <td>female</td>\n",
              "      <td>39.0</td>\n",
              "      <td>0</td>\n",
              "      <td>0</td>\n",
              "      <td>PC 17758</td>\n",
              "      <td>108.9000</td>\n",
              "      <td>C105</td>\n",
              "      <td>C</td>\n",
              "    </tr>\n",
              "    <tr>\n",
              "      <th>415</th>\n",
              "      <td>1307</td>\n",
              "      <td>3</td>\n",
              "      <td>Saether, Mr. Simon Sivertsen</td>\n",
              "      <td>male</td>\n",
              "      <td>38.5</td>\n",
              "      <td>0</td>\n",
              "      <td>0</td>\n",
              "      <td>SOTON/O.Q. 3101262</td>\n",
              "      <td>7.2500</td>\n",
              "      <td>NaN</td>\n",
              "      <td>S</td>\n",
              "    </tr>\n",
              "    <tr>\n",
              "      <th>416</th>\n",
              "      <td>1308</td>\n",
              "      <td>3</td>\n",
              "      <td>Ware, Mr. Frederick</td>\n",
              "      <td>male</td>\n",
              "      <td>NaN</td>\n",
              "      <td>0</td>\n",
              "      <td>0</td>\n",
              "      <td>359309</td>\n",
              "      <td>8.0500</td>\n",
              "      <td>NaN</td>\n",
              "      <td>S</td>\n",
              "    </tr>\n",
              "    <tr>\n",
              "      <th>417</th>\n",
              "      <td>1309</td>\n",
              "      <td>3</td>\n",
              "      <td>Peter, Master. Michael J</td>\n",
              "      <td>male</td>\n",
              "      <td>NaN</td>\n",
              "      <td>1</td>\n",
              "      <td>1</td>\n",
              "      <td>2668</td>\n",
              "      <td>22.3583</td>\n",
              "      <td>NaN</td>\n",
              "      <td>C</td>\n",
              "    </tr>\n",
              "  </tbody>\n",
              "</table>\n",
              "</div>\n",
              "      <button class=\"colab-df-convert\" onclick=\"convertToInteractive('df-90514b7f-6a61-41c9-aee8-29de0a9ed956')\"\n",
              "              title=\"Convert this dataframe to an interactive table.\"\n",
              "              style=\"display:none;\">\n",
              "        \n",
              "  <svg xmlns=\"http://www.w3.org/2000/svg\" height=\"24px\"viewBox=\"0 0 24 24\"\n",
              "       width=\"24px\">\n",
              "    <path d=\"M0 0h24v24H0V0z\" fill=\"none\"/>\n",
              "    <path d=\"M18.56 5.44l.94 2.06.94-2.06 2.06-.94-2.06-.94-.94-2.06-.94 2.06-2.06.94zm-11 1L8.5 8.5l.94-2.06 2.06-.94-2.06-.94L8.5 2.5l-.94 2.06-2.06.94zm10 10l.94 2.06.94-2.06 2.06-.94-2.06-.94-.94-2.06-.94 2.06-2.06.94z\"/><path d=\"M17.41 7.96l-1.37-1.37c-.4-.4-.92-.59-1.43-.59-.52 0-1.04.2-1.43.59L10.3 9.45l-7.72 7.72c-.78.78-.78 2.05 0 2.83L4 21.41c.39.39.9.59 1.41.59.51 0 1.02-.2 1.41-.59l7.78-7.78 2.81-2.81c.8-.78.8-2.07 0-2.86zM5.41 20L4 18.59l7.72-7.72 1.47 1.35L5.41 20z\"/>\n",
              "  </svg>\n",
              "      </button>\n",
              "      \n",
              "  <style>\n",
              "    .colab-df-container {\n",
              "      display:flex;\n",
              "      flex-wrap:wrap;\n",
              "      gap: 12px;\n",
              "    }\n",
              "\n",
              "    .colab-df-convert {\n",
              "      background-color: #E8F0FE;\n",
              "      border: none;\n",
              "      border-radius: 50%;\n",
              "      cursor: pointer;\n",
              "      display: none;\n",
              "      fill: #1967D2;\n",
              "      height: 32px;\n",
              "      padding: 0 0 0 0;\n",
              "      width: 32px;\n",
              "    }\n",
              "\n",
              "    .colab-df-convert:hover {\n",
              "      background-color: #E2EBFA;\n",
              "      box-shadow: 0px 1px 2px rgba(60, 64, 67, 0.3), 0px 1px 3px 1px rgba(60, 64, 67, 0.15);\n",
              "      fill: #174EA6;\n",
              "    }\n",
              "\n",
              "    [theme=dark] .colab-df-convert {\n",
              "      background-color: #3B4455;\n",
              "      fill: #D2E3FC;\n",
              "    }\n",
              "\n",
              "    [theme=dark] .colab-df-convert:hover {\n",
              "      background-color: #434B5C;\n",
              "      box-shadow: 0px 1px 3px 1px rgba(0, 0, 0, 0.15);\n",
              "      filter: drop-shadow(0px 1px 2px rgba(0, 0, 0, 0.3));\n",
              "      fill: #FFFFFF;\n",
              "    }\n",
              "  </style>\n",
              "\n",
              "      <script>\n",
              "        const buttonEl =\n",
              "          document.querySelector('#df-90514b7f-6a61-41c9-aee8-29de0a9ed956 button.colab-df-convert');\n",
              "        buttonEl.style.display =\n",
              "          google.colab.kernel.accessAllowed ? 'block' : 'none';\n",
              "\n",
              "        async function convertToInteractive(key) {\n",
              "          const element = document.querySelector('#df-90514b7f-6a61-41c9-aee8-29de0a9ed956');\n",
              "          const dataTable =\n",
              "            await google.colab.kernel.invokeFunction('convertToInteractive',\n",
              "                                                     [key], {});\n",
              "          if (!dataTable) return;\n",
              "\n",
              "          const docLinkHtml = 'Like what you see? Visit the ' +\n",
              "            '<a target=\"_blank\" href=https://colab.research.google.com/notebooks/data_table.ipynb>data table notebook</a>'\n",
              "            + ' to learn more about interactive tables.';\n",
              "          element.innerHTML = '';\n",
              "          dataTable['output_type'] = 'display_data';\n",
              "          await google.colab.output.renderOutput(dataTable, element);\n",
              "          const docLink = document.createElement('div');\n",
              "          docLink.innerHTML = docLinkHtml;\n",
              "          element.appendChild(docLink);\n",
              "        }\n",
              "      </script>\n",
              "    </div>\n",
              "  </div>\n",
              "  "
            ]
          },
          "metadata": {},
          "execution_count": 11
        }
      ]
    },
    {
      "cell_type": "code",
      "source": [
        "train_df.describe(include='all') # the summary statistics for all columns"
      ],
      "metadata": {
        "colab": {
          "base_uri": "https://localhost:8080/",
          "height": 438
        },
        "id": "IM4wvl2YnAv9",
        "outputId": "97c99a5f-7f6c-4f7e-8912-5f729935b47f"
      },
      "execution_count": null,
      "outputs": [
        {
          "output_type": "execute_result",
          "data": {
            "text/plain": [
              "        PassengerId    Survived      Pclass                     Name   Sex  \\\n",
              "count    891.000000  891.000000  891.000000                      891   891   \n",
              "unique          NaN         NaN         NaN                      891     2   \n",
              "top             NaN         NaN         NaN  Braund, Mr. Owen Harris  male   \n",
              "freq            NaN         NaN         NaN                        1   577   \n",
              "mean     446.000000    0.383838    2.308642                      NaN   NaN   \n",
              "std      257.353842    0.486592    0.836071                      NaN   NaN   \n",
              "min        1.000000    0.000000    1.000000                      NaN   NaN   \n",
              "25%      223.500000    0.000000    2.000000                      NaN   NaN   \n",
              "50%      446.000000    0.000000    3.000000                      NaN   NaN   \n",
              "75%      668.500000    1.000000    3.000000                      NaN   NaN   \n",
              "max      891.000000    1.000000    3.000000                      NaN   NaN   \n",
              "\n",
              "               Age       SibSp       Parch  Ticket        Fare    Cabin  \\\n",
              "count   714.000000  891.000000  891.000000     891  891.000000      204   \n",
              "unique         NaN         NaN         NaN     681         NaN      147   \n",
              "top            NaN         NaN         NaN  347082         NaN  B96 B98   \n",
              "freq           NaN         NaN         NaN       7         NaN        4   \n",
              "mean     29.699118    0.523008    0.381594     NaN   32.204208      NaN   \n",
              "std      14.526497    1.102743    0.806057     NaN   49.693429      NaN   \n",
              "min       0.420000    0.000000    0.000000     NaN    0.000000      NaN   \n",
              "25%      20.125000    0.000000    0.000000     NaN    7.910400      NaN   \n",
              "50%      28.000000    0.000000    0.000000     NaN   14.454200      NaN   \n",
              "75%      38.000000    1.000000    0.000000     NaN   31.000000      NaN   \n",
              "max      80.000000    8.000000    6.000000     NaN  512.329200      NaN   \n",
              "\n",
              "       Embarked  \n",
              "count       889  \n",
              "unique        3  \n",
              "top           S  \n",
              "freq        644  \n",
              "mean        NaN  \n",
              "std         NaN  \n",
              "min         NaN  \n",
              "25%         NaN  \n",
              "50%         NaN  \n",
              "75%         NaN  \n",
              "max         NaN  "
            ],
            "text/html": [
              "\n",
              "  <div id=\"df-926f1dde-23db-4ea3-89c9-4f544406adb4\">\n",
              "    <div class=\"colab-df-container\">\n",
              "      <div>\n",
              "<style scoped>\n",
              "    .dataframe tbody tr th:only-of-type {\n",
              "        vertical-align: middle;\n",
              "    }\n",
              "\n",
              "    .dataframe tbody tr th {\n",
              "        vertical-align: top;\n",
              "    }\n",
              "\n",
              "    .dataframe thead th {\n",
              "        text-align: right;\n",
              "    }\n",
              "</style>\n",
              "<table border=\"1\" class=\"dataframe\">\n",
              "  <thead>\n",
              "    <tr style=\"text-align: right;\">\n",
              "      <th></th>\n",
              "      <th>PassengerId</th>\n",
              "      <th>Survived</th>\n",
              "      <th>Pclass</th>\n",
              "      <th>Name</th>\n",
              "      <th>Sex</th>\n",
              "      <th>Age</th>\n",
              "      <th>SibSp</th>\n",
              "      <th>Parch</th>\n",
              "      <th>Ticket</th>\n",
              "      <th>Fare</th>\n",
              "      <th>Cabin</th>\n",
              "      <th>Embarked</th>\n",
              "    </tr>\n",
              "  </thead>\n",
              "  <tbody>\n",
              "    <tr>\n",
              "      <th>count</th>\n",
              "      <td>891.000000</td>\n",
              "      <td>891.000000</td>\n",
              "      <td>891.000000</td>\n",
              "      <td>891</td>\n",
              "      <td>891</td>\n",
              "      <td>714.000000</td>\n",
              "      <td>891.000000</td>\n",
              "      <td>891.000000</td>\n",
              "      <td>891</td>\n",
              "      <td>891.000000</td>\n",
              "      <td>204</td>\n",
              "      <td>889</td>\n",
              "    </tr>\n",
              "    <tr>\n",
              "      <th>unique</th>\n",
              "      <td>NaN</td>\n",
              "      <td>NaN</td>\n",
              "      <td>NaN</td>\n",
              "      <td>891</td>\n",
              "      <td>2</td>\n",
              "      <td>NaN</td>\n",
              "      <td>NaN</td>\n",
              "      <td>NaN</td>\n",
              "      <td>681</td>\n",
              "      <td>NaN</td>\n",
              "      <td>147</td>\n",
              "      <td>3</td>\n",
              "    </tr>\n",
              "    <tr>\n",
              "      <th>top</th>\n",
              "      <td>NaN</td>\n",
              "      <td>NaN</td>\n",
              "      <td>NaN</td>\n",
              "      <td>Braund, Mr. Owen Harris</td>\n",
              "      <td>male</td>\n",
              "      <td>NaN</td>\n",
              "      <td>NaN</td>\n",
              "      <td>NaN</td>\n",
              "      <td>347082</td>\n",
              "      <td>NaN</td>\n",
              "      <td>B96 B98</td>\n",
              "      <td>S</td>\n",
              "    </tr>\n",
              "    <tr>\n",
              "      <th>freq</th>\n",
              "      <td>NaN</td>\n",
              "      <td>NaN</td>\n",
              "      <td>NaN</td>\n",
              "      <td>1</td>\n",
              "      <td>577</td>\n",
              "      <td>NaN</td>\n",
              "      <td>NaN</td>\n",
              "      <td>NaN</td>\n",
              "      <td>7</td>\n",
              "      <td>NaN</td>\n",
              "      <td>4</td>\n",
              "      <td>644</td>\n",
              "    </tr>\n",
              "    <tr>\n",
              "      <th>mean</th>\n",
              "      <td>446.000000</td>\n",
              "      <td>0.383838</td>\n",
              "      <td>2.308642</td>\n",
              "      <td>NaN</td>\n",
              "      <td>NaN</td>\n",
              "      <td>29.699118</td>\n",
              "      <td>0.523008</td>\n",
              "      <td>0.381594</td>\n",
              "      <td>NaN</td>\n",
              "      <td>32.204208</td>\n",
              "      <td>NaN</td>\n",
              "      <td>NaN</td>\n",
              "    </tr>\n",
              "    <tr>\n",
              "      <th>std</th>\n",
              "      <td>257.353842</td>\n",
              "      <td>0.486592</td>\n",
              "      <td>0.836071</td>\n",
              "      <td>NaN</td>\n",
              "      <td>NaN</td>\n",
              "      <td>14.526497</td>\n",
              "      <td>1.102743</td>\n",
              "      <td>0.806057</td>\n",
              "      <td>NaN</td>\n",
              "      <td>49.693429</td>\n",
              "      <td>NaN</td>\n",
              "      <td>NaN</td>\n",
              "    </tr>\n",
              "    <tr>\n",
              "      <th>min</th>\n",
              "      <td>1.000000</td>\n",
              "      <td>0.000000</td>\n",
              "      <td>1.000000</td>\n",
              "      <td>NaN</td>\n",
              "      <td>NaN</td>\n",
              "      <td>0.420000</td>\n",
              "      <td>0.000000</td>\n",
              "      <td>0.000000</td>\n",
              "      <td>NaN</td>\n",
              "      <td>0.000000</td>\n",
              "      <td>NaN</td>\n",
              "      <td>NaN</td>\n",
              "    </tr>\n",
              "    <tr>\n",
              "      <th>25%</th>\n",
              "      <td>223.500000</td>\n",
              "      <td>0.000000</td>\n",
              "      <td>2.000000</td>\n",
              "      <td>NaN</td>\n",
              "      <td>NaN</td>\n",
              "      <td>20.125000</td>\n",
              "      <td>0.000000</td>\n",
              "      <td>0.000000</td>\n",
              "      <td>NaN</td>\n",
              "      <td>7.910400</td>\n",
              "      <td>NaN</td>\n",
              "      <td>NaN</td>\n",
              "    </tr>\n",
              "    <tr>\n",
              "      <th>50%</th>\n",
              "      <td>446.000000</td>\n",
              "      <td>0.000000</td>\n",
              "      <td>3.000000</td>\n",
              "      <td>NaN</td>\n",
              "      <td>NaN</td>\n",
              "      <td>28.000000</td>\n",
              "      <td>0.000000</td>\n",
              "      <td>0.000000</td>\n",
              "      <td>NaN</td>\n",
              "      <td>14.454200</td>\n",
              "      <td>NaN</td>\n",
              "      <td>NaN</td>\n",
              "    </tr>\n",
              "    <tr>\n",
              "      <th>75%</th>\n",
              "      <td>668.500000</td>\n",
              "      <td>1.000000</td>\n",
              "      <td>3.000000</td>\n",
              "      <td>NaN</td>\n",
              "      <td>NaN</td>\n",
              "      <td>38.000000</td>\n",
              "      <td>1.000000</td>\n",
              "      <td>0.000000</td>\n",
              "      <td>NaN</td>\n",
              "      <td>31.000000</td>\n",
              "      <td>NaN</td>\n",
              "      <td>NaN</td>\n",
              "    </tr>\n",
              "    <tr>\n",
              "      <th>max</th>\n",
              "      <td>891.000000</td>\n",
              "      <td>1.000000</td>\n",
              "      <td>3.000000</td>\n",
              "      <td>NaN</td>\n",
              "      <td>NaN</td>\n",
              "      <td>80.000000</td>\n",
              "      <td>8.000000</td>\n",
              "      <td>6.000000</td>\n",
              "      <td>NaN</td>\n",
              "      <td>512.329200</td>\n",
              "      <td>NaN</td>\n",
              "      <td>NaN</td>\n",
              "    </tr>\n",
              "  </tbody>\n",
              "</table>\n",
              "</div>\n",
              "      <button class=\"colab-df-convert\" onclick=\"convertToInteractive('df-926f1dde-23db-4ea3-89c9-4f544406adb4')\"\n",
              "              title=\"Convert this dataframe to an interactive table.\"\n",
              "              style=\"display:none;\">\n",
              "        \n",
              "  <svg xmlns=\"http://www.w3.org/2000/svg\" height=\"24px\"viewBox=\"0 0 24 24\"\n",
              "       width=\"24px\">\n",
              "    <path d=\"M0 0h24v24H0V0z\" fill=\"none\"/>\n",
              "    <path d=\"M18.56 5.44l.94 2.06.94-2.06 2.06-.94-2.06-.94-.94-2.06-.94 2.06-2.06.94zm-11 1L8.5 8.5l.94-2.06 2.06-.94-2.06-.94L8.5 2.5l-.94 2.06-2.06.94zm10 10l.94 2.06.94-2.06 2.06-.94-2.06-.94-.94-2.06-.94 2.06-2.06.94z\"/><path d=\"M17.41 7.96l-1.37-1.37c-.4-.4-.92-.59-1.43-.59-.52 0-1.04.2-1.43.59L10.3 9.45l-7.72 7.72c-.78.78-.78 2.05 0 2.83L4 21.41c.39.39.9.59 1.41.59.51 0 1.02-.2 1.41-.59l7.78-7.78 2.81-2.81c.8-.78.8-2.07 0-2.86zM5.41 20L4 18.59l7.72-7.72 1.47 1.35L5.41 20z\"/>\n",
              "  </svg>\n",
              "      </button>\n",
              "      \n",
              "  <style>\n",
              "    .colab-df-container {\n",
              "      display:flex;\n",
              "      flex-wrap:wrap;\n",
              "      gap: 12px;\n",
              "    }\n",
              "\n",
              "    .colab-df-convert {\n",
              "      background-color: #E8F0FE;\n",
              "      border: none;\n",
              "      border-radius: 50%;\n",
              "      cursor: pointer;\n",
              "      display: none;\n",
              "      fill: #1967D2;\n",
              "      height: 32px;\n",
              "      padding: 0 0 0 0;\n",
              "      width: 32px;\n",
              "    }\n",
              "\n",
              "    .colab-df-convert:hover {\n",
              "      background-color: #E2EBFA;\n",
              "      box-shadow: 0px 1px 2px rgba(60, 64, 67, 0.3), 0px 1px 3px 1px rgba(60, 64, 67, 0.15);\n",
              "      fill: #174EA6;\n",
              "    }\n",
              "\n",
              "    [theme=dark] .colab-df-convert {\n",
              "      background-color: #3B4455;\n",
              "      fill: #D2E3FC;\n",
              "    }\n",
              "\n",
              "    [theme=dark] .colab-df-convert:hover {\n",
              "      background-color: #434B5C;\n",
              "      box-shadow: 0px 1px 3px 1px rgba(0, 0, 0, 0.15);\n",
              "      filter: drop-shadow(0px 1px 2px rgba(0, 0, 0, 0.3));\n",
              "      fill: #FFFFFF;\n",
              "    }\n",
              "  </style>\n",
              "\n",
              "      <script>\n",
              "        const buttonEl =\n",
              "          document.querySelector('#df-926f1dde-23db-4ea3-89c9-4f544406adb4 button.colab-df-convert');\n",
              "        buttonEl.style.display =\n",
              "          google.colab.kernel.accessAllowed ? 'block' : 'none';\n",
              "\n",
              "        async function convertToInteractive(key) {\n",
              "          const element = document.querySelector('#df-926f1dde-23db-4ea3-89c9-4f544406adb4');\n",
              "          const dataTable =\n",
              "            await google.colab.kernel.invokeFunction('convertToInteractive',\n",
              "                                                     [key], {});\n",
              "          if (!dataTable) return;\n",
              "\n",
              "          const docLinkHtml = 'Like what you see? Visit the ' +\n",
              "            '<a target=\"_blank\" href=https://colab.research.google.com/notebooks/data_table.ipynb>data table notebook</a>'\n",
              "            + ' to learn more about interactive tables.';\n",
              "          element.innerHTML = '';\n",
              "          dataTable['output_type'] = 'display_data';\n",
              "          await google.colab.output.renderOutput(dataTable, element);\n",
              "          const docLink = document.createElement('div');\n",
              "          docLink.innerHTML = docLinkHtml;\n",
              "          element.appendChild(docLink);\n",
              "        }\n",
              "      </script>\n",
              "    </div>\n",
              "  </div>\n",
              "  "
            ]
          },
          "metadata": {},
          "execution_count": 12
        }
      ]
    },
    {
      "cell_type": "markdown",
      "source": [
        "The code train_df.describe(include='all') returns the summary statistics of a Pandas DataFrame named train_df, including descriptive statistics for both numeric and non-numeric columns.\n",
        "\n",
        "The include='all' argument means that statistics will be calculated for all columns, including non-numeric columns such as object and categorical columns. Here's what each of the statistics means:\n",
        "\n",
        "count: The number of non-null values for each column.\n",
        "\n",
        "unique: The number of unique values for each column. Only applies to non-numeric columns.\n",
        "\n",
        "top: The most frequently occurring value for each column. Only applies to non-numeric columns.\n",
        "\n",
        "freq: The frequency of the most frequently occurring value for each column. Only applies to non-numeric columns.\n",
        "\n",
        "mean: The mean value for each numeric column.\n",
        "\n",
        "std: The standard deviation of the values for each numeric column.\n",
        "\n",
        "min: The minimum value for each numeric column.\n",
        "\n",
        "25%: The first quartile value (25th percentile) for each numeric column.\n",
        "\n",
        "50%: The median value (50th percentile) for each numeric column.\n",
        "\n",
        "75%: The third quartile value (75th percentile) for each numeric column.\n",
        "\n",
        "max: The maximum value for each numeric column."
      ],
      "metadata": {
        "id": "gPI0WXAsov1B"
      }
    },
    {
      "cell_type": "code",
      "source": [
        "test_df.describe(include='all') #the summary statistics for all columns of test dataset"
      ],
      "metadata": {
        "colab": {
          "base_uri": "https://localhost:8080/",
          "height": 394
        },
        "id": "FVkhPjUys43O",
        "outputId": "a82d86d7-4e28-426a-f242-1a3164e6866c"
      },
      "execution_count": null,
      "outputs": [
        {
          "output_type": "execute_result",
          "data": {
            "text/plain": [
              "        PassengerId      Pclass              Name   Sex         Age  \\\n",
              "count    418.000000  418.000000               418   418  332.000000   \n",
              "unique          NaN         NaN               418     2         NaN   \n",
              "top             NaN         NaN  Kelly, Mr. James  male         NaN   \n",
              "freq            NaN         NaN                 1   266         NaN   \n",
              "mean    1100.500000    2.265550               NaN   NaN   30.272590   \n",
              "std      120.810458    0.841838               NaN   NaN   14.181209   \n",
              "min      892.000000    1.000000               NaN   NaN    0.170000   \n",
              "25%      996.250000    1.000000               NaN   NaN   21.000000   \n",
              "50%     1100.500000    3.000000               NaN   NaN   27.000000   \n",
              "75%     1204.750000    3.000000               NaN   NaN   39.000000   \n",
              "max     1309.000000    3.000000               NaN   NaN   76.000000   \n",
              "\n",
              "             SibSp       Parch    Ticket        Fare            Cabin Embarked  \n",
              "count   418.000000  418.000000       418  417.000000               91      418  \n",
              "unique         NaN         NaN       363         NaN               76        3  \n",
              "top            NaN         NaN  PC 17608         NaN  B57 B59 B63 B66        S  \n",
              "freq           NaN         NaN         5         NaN                3      270  \n",
              "mean      0.447368    0.392344       NaN   35.627188              NaN      NaN  \n",
              "std       0.896760    0.981429       NaN   55.907576              NaN      NaN  \n",
              "min       0.000000    0.000000       NaN    0.000000              NaN      NaN  \n",
              "25%       0.000000    0.000000       NaN    7.895800              NaN      NaN  \n",
              "50%       0.000000    0.000000       NaN   14.454200              NaN      NaN  \n",
              "75%       1.000000    0.000000       NaN   31.500000              NaN      NaN  \n",
              "max       8.000000    9.000000       NaN  512.329200              NaN      NaN  "
            ],
            "text/html": [
              "\n",
              "  <div id=\"df-8841da35-fa2f-4b12-889b-467759a1c913\">\n",
              "    <div class=\"colab-df-container\">\n",
              "      <div>\n",
              "<style scoped>\n",
              "    .dataframe tbody tr th:only-of-type {\n",
              "        vertical-align: middle;\n",
              "    }\n",
              "\n",
              "    .dataframe tbody tr th {\n",
              "        vertical-align: top;\n",
              "    }\n",
              "\n",
              "    .dataframe thead th {\n",
              "        text-align: right;\n",
              "    }\n",
              "</style>\n",
              "<table border=\"1\" class=\"dataframe\">\n",
              "  <thead>\n",
              "    <tr style=\"text-align: right;\">\n",
              "      <th></th>\n",
              "      <th>PassengerId</th>\n",
              "      <th>Pclass</th>\n",
              "      <th>Name</th>\n",
              "      <th>Sex</th>\n",
              "      <th>Age</th>\n",
              "      <th>SibSp</th>\n",
              "      <th>Parch</th>\n",
              "      <th>Ticket</th>\n",
              "      <th>Fare</th>\n",
              "      <th>Cabin</th>\n",
              "      <th>Embarked</th>\n",
              "    </tr>\n",
              "  </thead>\n",
              "  <tbody>\n",
              "    <tr>\n",
              "      <th>count</th>\n",
              "      <td>418.000000</td>\n",
              "      <td>418.000000</td>\n",
              "      <td>418</td>\n",
              "      <td>418</td>\n",
              "      <td>332.000000</td>\n",
              "      <td>418.000000</td>\n",
              "      <td>418.000000</td>\n",
              "      <td>418</td>\n",
              "      <td>417.000000</td>\n",
              "      <td>91</td>\n",
              "      <td>418</td>\n",
              "    </tr>\n",
              "    <tr>\n",
              "      <th>unique</th>\n",
              "      <td>NaN</td>\n",
              "      <td>NaN</td>\n",
              "      <td>418</td>\n",
              "      <td>2</td>\n",
              "      <td>NaN</td>\n",
              "      <td>NaN</td>\n",
              "      <td>NaN</td>\n",
              "      <td>363</td>\n",
              "      <td>NaN</td>\n",
              "      <td>76</td>\n",
              "      <td>3</td>\n",
              "    </tr>\n",
              "    <tr>\n",
              "      <th>top</th>\n",
              "      <td>NaN</td>\n",
              "      <td>NaN</td>\n",
              "      <td>Kelly, Mr. James</td>\n",
              "      <td>male</td>\n",
              "      <td>NaN</td>\n",
              "      <td>NaN</td>\n",
              "      <td>NaN</td>\n",
              "      <td>PC 17608</td>\n",
              "      <td>NaN</td>\n",
              "      <td>B57 B59 B63 B66</td>\n",
              "      <td>S</td>\n",
              "    </tr>\n",
              "    <tr>\n",
              "      <th>freq</th>\n",
              "      <td>NaN</td>\n",
              "      <td>NaN</td>\n",
              "      <td>1</td>\n",
              "      <td>266</td>\n",
              "      <td>NaN</td>\n",
              "      <td>NaN</td>\n",
              "      <td>NaN</td>\n",
              "      <td>5</td>\n",
              "      <td>NaN</td>\n",
              "      <td>3</td>\n",
              "      <td>270</td>\n",
              "    </tr>\n",
              "    <tr>\n",
              "      <th>mean</th>\n",
              "      <td>1100.500000</td>\n",
              "      <td>2.265550</td>\n",
              "      <td>NaN</td>\n",
              "      <td>NaN</td>\n",
              "      <td>30.272590</td>\n",
              "      <td>0.447368</td>\n",
              "      <td>0.392344</td>\n",
              "      <td>NaN</td>\n",
              "      <td>35.627188</td>\n",
              "      <td>NaN</td>\n",
              "      <td>NaN</td>\n",
              "    </tr>\n",
              "    <tr>\n",
              "      <th>std</th>\n",
              "      <td>120.810458</td>\n",
              "      <td>0.841838</td>\n",
              "      <td>NaN</td>\n",
              "      <td>NaN</td>\n",
              "      <td>14.181209</td>\n",
              "      <td>0.896760</td>\n",
              "      <td>0.981429</td>\n",
              "      <td>NaN</td>\n",
              "      <td>55.907576</td>\n",
              "      <td>NaN</td>\n",
              "      <td>NaN</td>\n",
              "    </tr>\n",
              "    <tr>\n",
              "      <th>min</th>\n",
              "      <td>892.000000</td>\n",
              "      <td>1.000000</td>\n",
              "      <td>NaN</td>\n",
              "      <td>NaN</td>\n",
              "      <td>0.170000</td>\n",
              "      <td>0.000000</td>\n",
              "      <td>0.000000</td>\n",
              "      <td>NaN</td>\n",
              "      <td>0.000000</td>\n",
              "      <td>NaN</td>\n",
              "      <td>NaN</td>\n",
              "    </tr>\n",
              "    <tr>\n",
              "      <th>25%</th>\n",
              "      <td>996.250000</td>\n",
              "      <td>1.000000</td>\n",
              "      <td>NaN</td>\n",
              "      <td>NaN</td>\n",
              "      <td>21.000000</td>\n",
              "      <td>0.000000</td>\n",
              "      <td>0.000000</td>\n",
              "      <td>NaN</td>\n",
              "      <td>7.895800</td>\n",
              "      <td>NaN</td>\n",
              "      <td>NaN</td>\n",
              "    </tr>\n",
              "    <tr>\n",
              "      <th>50%</th>\n",
              "      <td>1100.500000</td>\n",
              "      <td>3.000000</td>\n",
              "      <td>NaN</td>\n",
              "      <td>NaN</td>\n",
              "      <td>27.000000</td>\n",
              "      <td>0.000000</td>\n",
              "      <td>0.000000</td>\n",
              "      <td>NaN</td>\n",
              "      <td>14.454200</td>\n",
              "      <td>NaN</td>\n",
              "      <td>NaN</td>\n",
              "    </tr>\n",
              "    <tr>\n",
              "      <th>75%</th>\n",
              "      <td>1204.750000</td>\n",
              "      <td>3.000000</td>\n",
              "      <td>NaN</td>\n",
              "      <td>NaN</td>\n",
              "      <td>39.000000</td>\n",
              "      <td>1.000000</td>\n",
              "      <td>0.000000</td>\n",
              "      <td>NaN</td>\n",
              "      <td>31.500000</td>\n",
              "      <td>NaN</td>\n",
              "      <td>NaN</td>\n",
              "    </tr>\n",
              "    <tr>\n",
              "      <th>max</th>\n",
              "      <td>1309.000000</td>\n",
              "      <td>3.000000</td>\n",
              "      <td>NaN</td>\n",
              "      <td>NaN</td>\n",
              "      <td>76.000000</td>\n",
              "      <td>8.000000</td>\n",
              "      <td>9.000000</td>\n",
              "      <td>NaN</td>\n",
              "      <td>512.329200</td>\n",
              "      <td>NaN</td>\n",
              "      <td>NaN</td>\n",
              "    </tr>\n",
              "  </tbody>\n",
              "</table>\n",
              "</div>\n",
              "      <button class=\"colab-df-convert\" onclick=\"convertToInteractive('df-8841da35-fa2f-4b12-889b-467759a1c913')\"\n",
              "              title=\"Convert this dataframe to an interactive table.\"\n",
              "              style=\"display:none;\">\n",
              "        \n",
              "  <svg xmlns=\"http://www.w3.org/2000/svg\" height=\"24px\"viewBox=\"0 0 24 24\"\n",
              "       width=\"24px\">\n",
              "    <path d=\"M0 0h24v24H0V0z\" fill=\"none\"/>\n",
              "    <path d=\"M18.56 5.44l.94 2.06.94-2.06 2.06-.94-2.06-.94-.94-2.06-.94 2.06-2.06.94zm-11 1L8.5 8.5l.94-2.06 2.06-.94-2.06-.94L8.5 2.5l-.94 2.06-2.06.94zm10 10l.94 2.06.94-2.06 2.06-.94-2.06-.94-.94-2.06-.94 2.06-2.06.94z\"/><path d=\"M17.41 7.96l-1.37-1.37c-.4-.4-.92-.59-1.43-.59-.52 0-1.04.2-1.43.59L10.3 9.45l-7.72 7.72c-.78.78-.78 2.05 0 2.83L4 21.41c.39.39.9.59 1.41.59.51 0 1.02-.2 1.41-.59l7.78-7.78 2.81-2.81c.8-.78.8-2.07 0-2.86zM5.41 20L4 18.59l7.72-7.72 1.47 1.35L5.41 20z\"/>\n",
              "  </svg>\n",
              "      </button>\n",
              "      \n",
              "  <style>\n",
              "    .colab-df-container {\n",
              "      display:flex;\n",
              "      flex-wrap:wrap;\n",
              "      gap: 12px;\n",
              "    }\n",
              "\n",
              "    .colab-df-convert {\n",
              "      background-color: #E8F0FE;\n",
              "      border: none;\n",
              "      border-radius: 50%;\n",
              "      cursor: pointer;\n",
              "      display: none;\n",
              "      fill: #1967D2;\n",
              "      height: 32px;\n",
              "      padding: 0 0 0 0;\n",
              "      width: 32px;\n",
              "    }\n",
              "\n",
              "    .colab-df-convert:hover {\n",
              "      background-color: #E2EBFA;\n",
              "      box-shadow: 0px 1px 2px rgba(60, 64, 67, 0.3), 0px 1px 3px 1px rgba(60, 64, 67, 0.15);\n",
              "      fill: #174EA6;\n",
              "    }\n",
              "\n",
              "    [theme=dark] .colab-df-convert {\n",
              "      background-color: #3B4455;\n",
              "      fill: #D2E3FC;\n",
              "    }\n",
              "\n",
              "    [theme=dark] .colab-df-convert:hover {\n",
              "      background-color: #434B5C;\n",
              "      box-shadow: 0px 1px 3px 1px rgba(0, 0, 0, 0.15);\n",
              "      filter: drop-shadow(0px 1px 2px rgba(0, 0, 0, 0.3));\n",
              "      fill: #FFFFFF;\n",
              "    }\n",
              "  </style>\n",
              "\n",
              "      <script>\n",
              "        const buttonEl =\n",
              "          document.querySelector('#df-8841da35-fa2f-4b12-889b-467759a1c913 button.colab-df-convert');\n",
              "        buttonEl.style.display =\n",
              "          google.colab.kernel.accessAllowed ? 'block' : 'none';\n",
              "\n",
              "        async function convertToInteractive(key) {\n",
              "          const element = document.querySelector('#df-8841da35-fa2f-4b12-889b-467759a1c913');\n",
              "          const dataTable =\n",
              "            await google.colab.kernel.invokeFunction('convertToInteractive',\n",
              "                                                     [key], {});\n",
              "          if (!dataTable) return;\n",
              "\n",
              "          const docLinkHtml = 'Like what you see? Visit the ' +\n",
              "            '<a target=\"_blank\" href=https://colab.research.google.com/notebooks/data_table.ipynb>data table notebook</a>'\n",
              "            + ' to learn more about interactive tables.';\n",
              "          element.innerHTML = '';\n",
              "          dataTable['output_type'] = 'display_data';\n",
              "          await google.colab.output.renderOutput(dataTable, element);\n",
              "          const docLink = document.createElement('div');\n",
              "          docLink.innerHTML = docLinkHtml;\n",
              "          element.appendChild(docLink);\n",
              "        }\n",
              "      </script>\n",
              "    </div>\n",
              "  </div>\n",
              "  "
            ]
          },
          "metadata": {},
          "execution_count": 13
        }
      ]
    },
    {
      "cell_type": "code",
      "source": [
        "train_df.info() # understand the structure of train data"
      ],
      "metadata": {
        "colab": {
          "base_uri": "https://localhost:8080/"
        },
        "id": "UjWVzlMzoxkn",
        "outputId": "6b6f45a9-92a4-49de-b7e2-2b8a4816d283"
      },
      "execution_count": null,
      "outputs": [
        {
          "output_type": "stream",
          "name": "stdout",
          "text": [
            "<class 'pandas.core.frame.DataFrame'>\n",
            "RangeIndex: 891 entries, 0 to 890\n",
            "Data columns (total 12 columns):\n",
            " #   Column       Non-Null Count  Dtype  \n",
            "---  ------       --------------  -----  \n",
            " 0   PassengerId  891 non-null    int64  \n",
            " 1   Survived     891 non-null    int64  \n",
            " 2   Pclass       891 non-null    int64  \n",
            " 3   Name         891 non-null    object \n",
            " 4   Sex          891 non-null    object \n",
            " 5   Age          714 non-null    float64\n",
            " 6   SibSp        891 non-null    int64  \n",
            " 7   Parch        891 non-null    int64  \n",
            " 8   Ticket       891 non-null    object \n",
            " 9   Fare         891 non-null    float64\n",
            " 10  Cabin        204 non-null    object \n",
            " 11  Embarked     889 non-null    object \n",
            "dtypes: float64(2), int64(5), object(5)\n",
            "memory usage: 83.7+ KB\n"
          ]
        }
      ]
    },
    {
      "cell_type": "markdown",
      "source": [
        "The code train_df.info() returns information about a Pandas DataFrame named train_df, including the data type, number of non-null values, and memory usage for each column.\n",
        "\n",
        "The output of train_df.info() includes:\n",
        "\n",
        "The number of rows and columns in the DataFrame.\n",
        "\n",
        "The name of each column and its data type (e.g., int64, float64, object).\n",
        "The number of non-null values in each column.\n",
        "\n",
        "The memory usage of the DataFrame.\n",
        "\n",
        "The output of train_df.info() can help to understand the structure of  DataFrame and identify potential issues, such as missing values or columns with incorrect data types."
      ],
      "metadata": {
        "id": "Ir56fcEkro9e"
      }
    },
    {
      "cell_type": "code",
      "source": [
        "test_df.info() # understand the structure of test data"
      ],
      "metadata": {
        "colab": {
          "base_uri": "https://localhost:8080/"
        },
        "id": "2e5OnBXOnJgW",
        "outputId": "d2925926-b647-4457-e8a1-d53df1302e8d"
      },
      "execution_count": null,
      "outputs": [
        {
          "output_type": "stream",
          "name": "stdout",
          "text": [
            "<class 'pandas.core.frame.DataFrame'>\n",
            "RangeIndex: 418 entries, 0 to 417\n",
            "Data columns (total 11 columns):\n",
            " #   Column       Non-Null Count  Dtype  \n",
            "---  ------       --------------  -----  \n",
            " 0   PassengerId  418 non-null    int64  \n",
            " 1   Pclass       418 non-null    int64  \n",
            " 2   Name         418 non-null    object \n",
            " 3   Sex          418 non-null    object \n",
            " 4   Age          332 non-null    float64\n",
            " 5   SibSp        418 non-null    int64  \n",
            " 6   Parch        418 non-null    int64  \n",
            " 7   Ticket       418 non-null    object \n",
            " 8   Fare         417 non-null    float64\n",
            " 9   Cabin        91 non-null     object \n",
            " 10  Embarked     418 non-null    object \n",
            "dtypes: float64(2), int64(4), object(5)\n",
            "memory usage: 36.0+ KB\n"
          ]
        }
      ]
    },
    {
      "cell_type": "code",
      "source": [
        "# to understand the unique values in train dataset \n",
        "train_df.nunique()"
      ],
      "metadata": {
        "colab": {
          "base_uri": "https://localhost:8080/"
        },
        "id": "8BiC2MmdyUAx",
        "outputId": "e7967f26-1aaf-4281-bd50-2672f0fa0919"
      },
      "execution_count": null,
      "outputs": [
        {
          "output_type": "execute_result",
          "data": {
            "text/plain": [
              "PassengerId    891\n",
              "Survived         2\n",
              "Pclass           3\n",
              "Name           891\n",
              "Sex              2\n",
              "Age             88\n",
              "SibSp            7\n",
              "Parch            7\n",
              "Ticket         681\n",
              "Fare           248\n",
              "Cabin          147\n",
              "Embarked         3\n",
              "dtype: int64"
            ]
          },
          "metadata": {},
          "execution_count": 16
        }
      ]
    },
    {
      "cell_type": "code",
      "source": [
        "test_df.nunique()   # to understand the unique values in test dataset"
      ],
      "metadata": {
        "colab": {
          "base_uri": "https://localhost:8080/"
        },
        "id": "-5hFtLkT80tB",
        "outputId": "b65834c4-b5be-4ca5-b26f-6eba0f55604b"
      },
      "execution_count": null,
      "outputs": [
        {
          "output_type": "execute_result",
          "data": {
            "text/plain": [
              "PassengerId    418\n",
              "Pclass           3\n",
              "Name           418\n",
              "Sex              2\n",
              "Age             79\n",
              "SibSp            7\n",
              "Parch            8\n",
              "Ticket         363\n",
              "Fare           169\n",
              "Cabin           76\n",
              "Embarked         3\n",
              "dtype: int64"
            ]
          },
          "metadata": {},
          "execution_count": 17
        }
      ]
    },
    {
      "cell_type": "code",
      "source": [
        "train_df['Sex'].unique() #checking uniques of Sex column"
      ],
      "metadata": {
        "colab": {
          "base_uri": "https://localhost:8080/"
        },
        "id": "4XJn8m4DtW7H",
        "outputId": "7e12d80c-c078-4477-b7c9-184e08c3fd30"
      },
      "execution_count": null,
      "outputs": [
        {
          "output_type": "execute_result",
          "data": {
            "text/plain": [
              "array(['male', 'female'], dtype=object)"
            ]
          },
          "metadata": {},
          "execution_count": 18
        }
      ]
    },
    {
      "cell_type": "code",
      "source": [
        "train_df['Pclass'].unique() #checking uniques of Pclass column"
      ],
      "metadata": {
        "colab": {
          "base_uri": "https://localhost:8080/"
        },
        "id": "pc-es1Bpz4nj",
        "outputId": "69aa2244-ad9c-4618-84ff-49f57e0c983c"
      },
      "execution_count": null,
      "outputs": [
        {
          "output_type": "execute_result",
          "data": {
            "text/plain": [
              "array([3, 1, 2])"
            ]
          },
          "metadata": {},
          "execution_count": 19
        }
      ]
    },
    {
      "cell_type": "code",
      "source": [
        "train_df['Survived'].unique() #checking uniques of Servived column"
      ],
      "metadata": {
        "colab": {
          "base_uri": "https://localhost:8080/"
        },
        "id": "IpCFYWXczaTj",
        "outputId": "64f82a0f-3cde-49b2-a548-34e064526d25"
      },
      "execution_count": null,
      "outputs": [
        {
          "output_type": "execute_result",
          "data": {
            "text/plain": [
              "array([0, 1])"
            ]
          },
          "metadata": {},
          "execution_count": 20
        }
      ]
    },
    {
      "cell_type": "code",
      "source": [
        "train_df['Age'].unique() #checking uniques of Age column"
      ],
      "metadata": {
        "colab": {
          "base_uri": "https://localhost:8080/"
        },
        "id": "gSOKH9uw0c86",
        "outputId": "3cb52be7-2bc6-4d9d-c7c6-d1466a53a70d"
      },
      "execution_count": null,
      "outputs": [
        {
          "output_type": "execute_result",
          "data": {
            "text/plain": [
              "array([22.  , 38.  , 26.  , 35.  ,   nan, 54.  ,  2.  , 27.  , 14.  ,\n",
              "        4.  , 58.  , 20.  , 39.  , 55.  , 31.  , 34.  , 15.  , 28.  ,\n",
              "        8.  , 19.  , 40.  , 66.  , 42.  , 21.  , 18.  ,  3.  ,  7.  ,\n",
              "       49.  , 29.  , 65.  , 28.5 ,  5.  , 11.  , 45.  , 17.  , 32.  ,\n",
              "       16.  , 25.  ,  0.83, 30.  , 33.  , 23.  , 24.  , 46.  , 59.  ,\n",
              "       71.  , 37.  , 47.  , 14.5 , 70.5 , 32.5 , 12.  ,  9.  , 36.5 ,\n",
              "       51.  , 55.5 , 40.5 , 44.  ,  1.  , 61.  , 56.  , 50.  , 36.  ,\n",
              "       45.5 , 20.5 , 62.  , 41.  , 52.  , 63.  , 23.5 ,  0.92, 43.  ,\n",
              "       60.  , 10.  , 64.  , 13.  , 48.  ,  0.75, 53.  , 57.  , 80.  ,\n",
              "       70.  , 24.5 ,  6.  ,  0.67, 30.5 ,  0.42, 34.5 , 74.  ])"
            ]
          },
          "metadata": {},
          "execution_count": 21
        }
      ]
    },
    {
      "cell_type": "code",
      "source": [
        "train_df['SibSp'].unique() #checking uniques of SibSp column"
      ],
      "metadata": {
        "colab": {
          "base_uri": "https://localhost:8080/"
        },
        "id": "gMdLRzV-0tlH",
        "outputId": "971d4950-6032-4932-ff60-3c07fa4cddbb"
      },
      "execution_count": null,
      "outputs": [
        {
          "output_type": "execute_result",
          "data": {
            "text/plain": [
              "array([1, 0, 3, 4, 2, 5, 8])"
            ]
          },
          "metadata": {},
          "execution_count": 22
        }
      ]
    },
    {
      "cell_type": "code",
      "source": [
        "train_df['Parch'].unique() #checking uniques of Parch column"
      ],
      "metadata": {
        "colab": {
          "base_uri": "https://localhost:8080/"
        },
        "id": "ss7qx5KJ036V",
        "outputId": "28fda0c7-3b7a-40a5-9556-a68d4f8295bd"
      },
      "execution_count": null,
      "outputs": [
        {
          "output_type": "execute_result",
          "data": {
            "text/plain": [
              "array([0, 1, 2, 5, 3, 4, 6])"
            ]
          },
          "metadata": {},
          "execution_count": 23
        }
      ]
    },
    {
      "cell_type": "code",
      "source": [
        "train_df['Ticket'].unique() #checking uniques of Ticket column"
      ],
      "metadata": {
        "colab": {
          "base_uri": "https://localhost:8080/"
        },
        "id": "4dmv7Fsp1Ep1",
        "outputId": "836e4646-f27b-4707-e86e-a4a6e15eaa8f"
      },
      "execution_count": null,
      "outputs": [
        {
          "output_type": "execute_result",
          "data": {
            "text/plain": [
              "array(['A/5 21171', 'PC 17599', 'STON/O2. 3101282', '113803', '373450',\n",
              "       '330877', '17463', '349909', '347742', '237736', 'PP 9549',\n",
              "       '113783', 'A/5. 2151', '347082', '350406', '248706', '382652',\n",
              "       '244373', '345763', '2649', '239865', '248698', '330923', '113788',\n",
              "       '347077', '2631', '19950', '330959', '349216', 'PC 17601',\n",
              "       'PC 17569', '335677', 'C.A. 24579', 'PC 17604', '113789', '2677',\n",
              "       'A./5. 2152', '345764', '2651', '7546', '11668', '349253',\n",
              "       'SC/Paris 2123', '330958', 'S.C./A.4. 23567', '370371', '14311',\n",
              "       '2662', '349237', '3101295', 'A/4. 39886', 'PC 17572', '2926',\n",
              "       '113509', '19947', 'C.A. 31026', '2697', 'C.A. 34651', 'CA 2144',\n",
              "       '2669', '113572', '36973', '347088', 'PC 17605', '2661',\n",
              "       'C.A. 29395', 'S.P. 3464', '3101281', '315151', 'C.A. 33111',\n",
              "       'S.O.C. 14879', '2680', '1601', '348123', '349208', '374746',\n",
              "       '248738', '364516', '345767', '345779', '330932', '113059',\n",
              "       'SO/C 14885', '3101278', 'W./C. 6608', 'SOTON/OQ 392086', '343275',\n",
              "       '343276', '347466', 'W.E.P. 5734', 'C.A. 2315', '364500', '374910',\n",
              "       'PC 17754', 'PC 17759', '231919', '244367', '349245', '349215',\n",
              "       '35281', '7540', '3101276', '349207', '343120', '312991', '349249',\n",
              "       '371110', '110465', '2665', '324669', '4136', '2627',\n",
              "       'STON/O 2. 3101294', '370369', 'PC 17558', 'A4. 54510', '27267',\n",
              "       '370372', 'C 17369', '2668', '347061', '349241',\n",
              "       'SOTON/O.Q. 3101307', 'A/5. 3337', '228414', 'C.A. 29178',\n",
              "       'SC/PARIS 2133', '11752', '7534', 'PC 17593', '2678', '347081',\n",
              "       'STON/O2. 3101279', '365222', '231945', 'C.A. 33112', '350043',\n",
              "       '230080', '244310', 'S.O.P. 1166', '113776', 'A.5. 11206',\n",
              "       'A/5. 851', 'Fa 265302', 'PC 17597', '35851', 'SOTON/OQ 392090',\n",
              "       '315037', 'CA. 2343', '371362', 'C.A. 33595', '347068', '315093',\n",
              "       '363291', '113505', 'PC 17318', '111240', 'STON/O 2. 3101280',\n",
              "       '17764', '350404', '4133', 'PC 17595', '250653', 'LINE',\n",
              "       'SC/PARIS 2131', '230136', '315153', '113767', '370365', '111428',\n",
              "       '364849', '349247', '234604', '28424', '350046', 'PC 17610',\n",
              "       '368703', '4579', '370370', '248747', '345770', '3101264', '2628',\n",
              "       'A/5 3540', '347054', '2699', '367231', '112277',\n",
              "       'SOTON/O.Q. 3101311', 'F.C.C. 13528', 'A/5 21174', '250646',\n",
              "       '367229', '35273', 'STON/O2. 3101283', '243847', '11813',\n",
              "       'W/C 14208', 'SOTON/OQ 392089', '220367', '21440', '349234',\n",
              "       '19943', 'PP 4348', 'SW/PP 751', 'A/5 21173', '236171', '347067',\n",
              "       '237442', 'C.A. 29566', 'W./C. 6609', '26707', 'C.A. 31921',\n",
              "       '28665', 'SCO/W 1585', '367230', 'W./C. 14263',\n",
              "       'STON/O 2. 3101275', '2694', '19928', '347071', '250649', '11751',\n",
              "       '244252', '362316', '113514', 'A/5. 3336', '370129', '2650',\n",
              "       'PC 17585', '110152', 'PC 17755', '230433', '384461', '110413',\n",
              "       '112059', '382649', 'C.A. 17248', '347083', 'PC 17582', 'PC 17760',\n",
              "       '113798', '250644', 'PC 17596', '370375', '13502', '347073',\n",
              "       '239853', 'C.A. 2673', '336439', '347464', '345778', 'A/5. 10482',\n",
              "       '113056', '349239', '345774', '349206', '237798', '370373',\n",
              "       '19877', '11967', 'SC/Paris 2163', '349236', '349233', 'PC 17612',\n",
              "       '2693', '113781', '19988', '9234', '367226', '226593', 'A/5 2466',\n",
              "       '17421', 'PC 17758', 'P/PP 3381', 'PC 17485', '11767', 'PC 17608',\n",
              "       '250651', '349243', 'F.C.C. 13529', '347470', '29011', '36928',\n",
              "       '16966', 'A/5 21172', '349219', '234818', '345364', '28551',\n",
              "       '111361', '113043', 'PC 17611', '349225', '7598', '113784',\n",
              "       '248740', '244361', '229236', '248733', '31418', '386525',\n",
              "       'C.A. 37671', '315088', '7267', '113510', '2695', '2647', '345783',\n",
              "       '237671', '330931', '330980', 'SC/PARIS 2167', '2691',\n",
              "       'SOTON/O.Q. 3101310', 'C 7076', '110813', '2626', '14313',\n",
              "       'PC 17477', '11765', '3101267', '323951', 'C 7077', '113503',\n",
              "       '2648', '347069', 'PC 17757', '2653', 'STON/O 2. 3101293',\n",
              "       '349227', '27849', '367655', 'SC 1748', '113760', '350034',\n",
              "       '3101277', '350052', '350407', '28403', '244278', '240929',\n",
              "       'STON/O 2. 3101289', '341826', '4137', '315096', '28664', '347064',\n",
              "       '29106', '312992', '349222', '394140', 'STON/O 2. 3101269',\n",
              "       '343095', '28220', '250652', '28228', '345773', '349254',\n",
              "       'A/5. 13032', '315082', '347080', 'A/4. 34244', '2003', '250655',\n",
              "       '364851', 'SOTON/O.Q. 392078', '110564', '376564', 'SC/AH 3085',\n",
              "       'STON/O 2. 3101274', '13507', 'C.A. 18723', '345769', '347076',\n",
              "       '230434', '65306', '33638', '113794', '2666', '113786', '65303',\n",
              "       '113051', '17453', 'A/5 2817', '349240', '13509', '17464',\n",
              "       'F.C.C. 13531', '371060', '19952', '364506', '111320', '234360',\n",
              "       'A/S 2816', 'SOTON/O.Q. 3101306', '113792', '36209', '323592',\n",
              "       '315089', 'SC/AH Basle 541', '7553', '31027', '3460', '350060',\n",
              "       '3101298', '239854', 'A/5 3594', '4134', '11771', 'A.5. 18509',\n",
              "       '65304', 'SOTON/OQ 3101317', '113787', 'PC 17609', 'A/4 45380',\n",
              "       '36947', 'C.A. 6212', '350035', '315086', '364846', '330909',\n",
              "       '4135', '26360', '111427', 'C 4001', '382651', 'SOTON/OQ 3101316',\n",
              "       'PC 17473', 'PC 17603', '349209', '36967', 'C.A. 34260', '226875',\n",
              "       '349242', '12749', '349252', '2624', '2700', '367232',\n",
              "       'W./C. 14258', 'PC 17483', '3101296', '29104', '2641', '2690',\n",
              "       '315084', '113050', 'PC 17761', '364498', '13568', 'WE/P 5735',\n",
              "       '2908', '693', 'SC/PARIS 2146', '244358', '330979', '2620',\n",
              "       '347085', '113807', '11755', '345572', '372622', '349251',\n",
              "       '218629', 'SOTON/OQ 392082', 'SOTON/O.Q. 392087', 'A/4 48871',\n",
              "       '349205', '2686', '350417', 'S.W./PP 752', '11769', 'PC 17474',\n",
              "       '14312', 'A/4. 20589', '358585', '243880', '2689',\n",
              "       'STON/O 2. 3101286', '237789', '13049', '3411', '237565', '13567',\n",
              "       '14973', 'A./5. 3235', 'STON/O 2. 3101273', 'A/5 3902', '364848',\n",
              "       'SC/AH 29037', '248727', '2664', '349214', '113796', '364511',\n",
              "       '111426', '349910', '349246', '113804', 'SOTON/O.Q. 3101305',\n",
              "       '370377', '364512', '220845', '31028', '2659', '11753', '350029',\n",
              "       '54636', '36963', '219533', '349224', '334912', '27042', '347743',\n",
              "       '13214', '112052', '237668', 'STON/O 2. 3101292', '350050',\n",
              "       '349231', '13213', 'S.O./P.P. 751', 'CA. 2314', '349221', '8475',\n",
              "       '330919', '365226', '349223', '29751', '2623', '5727', '349210',\n",
              "       'STON/O 2. 3101285', '234686', '312993', 'A/5 3536', '19996',\n",
              "       '29750', 'F.C. 12750', 'C.A. 24580', '244270', '239856', '349912',\n",
              "       '342826', '4138', '330935', '6563', '349228', '350036', '24160',\n",
              "       '17474', '349256', '2672', '113800', '248731', '363592', '35852',\n",
              "       '348121', 'PC 17475', '36864', '350025', '223596', 'PC 17476',\n",
              "       'PC 17482', '113028', '7545', '250647', '348124', '34218', '36568',\n",
              "       '347062', '350048', '12233', '250643', '113806', '315094', '36866',\n",
              "       '236853', 'STON/O2. 3101271', '239855', '28425', '233639',\n",
              "       '349201', '349218', '16988', '376566', 'STON/O 2. 3101288',\n",
              "       '250648', '113773', '335097', '29103', '392096', '345780',\n",
              "       '349204', '350042', '29108', '363294', 'SOTON/O2 3101272', '2663',\n",
              "       '347074', '112379', '364850', '8471', '345781', '350047',\n",
              "       'S.O./P.P. 3', '2674', '29105', '347078', '383121', '36865',\n",
              "       '2687', '113501', 'W./C. 6607', 'SOTON/O.Q. 3101312', '374887',\n",
              "       '3101265', '12460', 'PC 17600', '349203', '28213', '17465',\n",
              "       '349244', '2685', '2625', '347089', '347063', '112050', '347087',\n",
              "       '248723', '3474', '28206', '364499', '112058', 'STON/O2. 3101290',\n",
              "       'S.C./PARIS 2079', 'C 7075', '315098', '19972', '368323', '367228',\n",
              "       '2671', '347468', '2223', 'PC 17756', '315097', '392092', '11774',\n",
              "       'SOTON/O2 3101287', '2683', '315090', 'C.A. 5547', '349213',\n",
              "       '347060', 'PC 17592', '392091', '113055', '2629', '350026',\n",
              "       '28134', '17466', '233866', '236852', 'SC/PARIS 2149', 'PC 17590',\n",
              "       '345777', '349248', '695', '345765', '2667', '349212', '349217',\n",
              "       '349257', '7552', 'C.A./SOTON 34068', 'SOTON/OQ 392076', '211536',\n",
              "       '112053', '111369', '370376'], dtype=object)"
            ]
          },
          "metadata": {},
          "execution_count": 24
        }
      ]
    },
    {
      "cell_type": "code",
      "source": [
        "train_df['Embarked'].unique()    #checking uniques of Embarked column"
      ],
      "metadata": {
        "colab": {
          "base_uri": "https://localhost:8080/"
        },
        "id": "bBReftFY1a_L",
        "outputId": "382597d9-04fc-434a-9b3e-bd0950c326cc"
      },
      "execution_count": null,
      "outputs": [
        {
          "output_type": "execute_result",
          "data": {
            "text/plain": [
              "array(['S', 'C', 'Q', nan], dtype=object)"
            ]
          },
          "metadata": {},
          "execution_count": 25
        }
      ]
    },
    {
      "cell_type": "code",
      "source": [
        "train_df.isnull() #checking null values in train data"
      ],
      "metadata": {
        "colab": {
          "base_uri": "https://localhost:8080/",
          "height": 423
        },
        "id": "dNGjdCkN9b9m",
        "outputId": "34f470c3-8516-4747-d2c0-16941fa8c80c"
      },
      "execution_count": null,
      "outputs": [
        {
          "output_type": "execute_result",
          "data": {
            "text/plain": [
              "     PassengerId  Survived  Pclass   Name    Sex    Age  SibSp  Parch  Ticket  \\\n",
              "0          False     False   False  False  False  False  False  False   False   \n",
              "1          False     False   False  False  False  False  False  False   False   \n",
              "2          False     False   False  False  False  False  False  False   False   \n",
              "3          False     False   False  False  False  False  False  False   False   \n",
              "4          False     False   False  False  False  False  False  False   False   \n",
              "..           ...       ...     ...    ...    ...    ...    ...    ...     ...   \n",
              "886        False     False   False  False  False  False  False  False   False   \n",
              "887        False     False   False  False  False  False  False  False   False   \n",
              "888        False     False   False  False  False   True  False  False   False   \n",
              "889        False     False   False  False  False  False  False  False   False   \n",
              "890        False     False   False  False  False  False  False  False   False   \n",
              "\n",
              "      Fare  Cabin  Embarked  \n",
              "0    False   True     False  \n",
              "1    False  False     False  \n",
              "2    False   True     False  \n",
              "3    False  False     False  \n",
              "4    False   True     False  \n",
              "..     ...    ...       ...  \n",
              "886  False   True     False  \n",
              "887  False  False     False  \n",
              "888  False   True     False  \n",
              "889  False  False     False  \n",
              "890  False   True     False  \n",
              "\n",
              "[891 rows x 12 columns]"
            ],
            "text/html": [
              "\n",
              "  <div id=\"df-e00f2220-5849-4fdd-ae5b-7c4bd48e9563\">\n",
              "    <div class=\"colab-df-container\">\n",
              "      <div>\n",
              "<style scoped>\n",
              "    .dataframe tbody tr th:only-of-type {\n",
              "        vertical-align: middle;\n",
              "    }\n",
              "\n",
              "    .dataframe tbody tr th {\n",
              "        vertical-align: top;\n",
              "    }\n",
              "\n",
              "    .dataframe thead th {\n",
              "        text-align: right;\n",
              "    }\n",
              "</style>\n",
              "<table border=\"1\" class=\"dataframe\">\n",
              "  <thead>\n",
              "    <tr style=\"text-align: right;\">\n",
              "      <th></th>\n",
              "      <th>PassengerId</th>\n",
              "      <th>Survived</th>\n",
              "      <th>Pclass</th>\n",
              "      <th>Name</th>\n",
              "      <th>Sex</th>\n",
              "      <th>Age</th>\n",
              "      <th>SibSp</th>\n",
              "      <th>Parch</th>\n",
              "      <th>Ticket</th>\n",
              "      <th>Fare</th>\n",
              "      <th>Cabin</th>\n",
              "      <th>Embarked</th>\n",
              "    </tr>\n",
              "  </thead>\n",
              "  <tbody>\n",
              "    <tr>\n",
              "      <th>0</th>\n",
              "      <td>False</td>\n",
              "      <td>False</td>\n",
              "      <td>False</td>\n",
              "      <td>False</td>\n",
              "      <td>False</td>\n",
              "      <td>False</td>\n",
              "      <td>False</td>\n",
              "      <td>False</td>\n",
              "      <td>False</td>\n",
              "      <td>False</td>\n",
              "      <td>True</td>\n",
              "      <td>False</td>\n",
              "    </tr>\n",
              "    <tr>\n",
              "      <th>1</th>\n",
              "      <td>False</td>\n",
              "      <td>False</td>\n",
              "      <td>False</td>\n",
              "      <td>False</td>\n",
              "      <td>False</td>\n",
              "      <td>False</td>\n",
              "      <td>False</td>\n",
              "      <td>False</td>\n",
              "      <td>False</td>\n",
              "      <td>False</td>\n",
              "      <td>False</td>\n",
              "      <td>False</td>\n",
              "    </tr>\n",
              "    <tr>\n",
              "      <th>2</th>\n",
              "      <td>False</td>\n",
              "      <td>False</td>\n",
              "      <td>False</td>\n",
              "      <td>False</td>\n",
              "      <td>False</td>\n",
              "      <td>False</td>\n",
              "      <td>False</td>\n",
              "      <td>False</td>\n",
              "      <td>False</td>\n",
              "      <td>False</td>\n",
              "      <td>True</td>\n",
              "      <td>False</td>\n",
              "    </tr>\n",
              "    <tr>\n",
              "      <th>3</th>\n",
              "      <td>False</td>\n",
              "      <td>False</td>\n",
              "      <td>False</td>\n",
              "      <td>False</td>\n",
              "      <td>False</td>\n",
              "      <td>False</td>\n",
              "      <td>False</td>\n",
              "      <td>False</td>\n",
              "      <td>False</td>\n",
              "      <td>False</td>\n",
              "      <td>False</td>\n",
              "      <td>False</td>\n",
              "    </tr>\n",
              "    <tr>\n",
              "      <th>4</th>\n",
              "      <td>False</td>\n",
              "      <td>False</td>\n",
              "      <td>False</td>\n",
              "      <td>False</td>\n",
              "      <td>False</td>\n",
              "      <td>False</td>\n",
              "      <td>False</td>\n",
              "      <td>False</td>\n",
              "      <td>False</td>\n",
              "      <td>False</td>\n",
              "      <td>True</td>\n",
              "      <td>False</td>\n",
              "    </tr>\n",
              "    <tr>\n",
              "      <th>...</th>\n",
              "      <td>...</td>\n",
              "      <td>...</td>\n",
              "      <td>...</td>\n",
              "      <td>...</td>\n",
              "      <td>...</td>\n",
              "      <td>...</td>\n",
              "      <td>...</td>\n",
              "      <td>...</td>\n",
              "      <td>...</td>\n",
              "      <td>...</td>\n",
              "      <td>...</td>\n",
              "      <td>...</td>\n",
              "    </tr>\n",
              "    <tr>\n",
              "      <th>886</th>\n",
              "      <td>False</td>\n",
              "      <td>False</td>\n",
              "      <td>False</td>\n",
              "      <td>False</td>\n",
              "      <td>False</td>\n",
              "      <td>False</td>\n",
              "      <td>False</td>\n",
              "      <td>False</td>\n",
              "      <td>False</td>\n",
              "      <td>False</td>\n",
              "      <td>True</td>\n",
              "      <td>False</td>\n",
              "    </tr>\n",
              "    <tr>\n",
              "      <th>887</th>\n",
              "      <td>False</td>\n",
              "      <td>False</td>\n",
              "      <td>False</td>\n",
              "      <td>False</td>\n",
              "      <td>False</td>\n",
              "      <td>False</td>\n",
              "      <td>False</td>\n",
              "      <td>False</td>\n",
              "      <td>False</td>\n",
              "      <td>False</td>\n",
              "      <td>False</td>\n",
              "      <td>False</td>\n",
              "    </tr>\n",
              "    <tr>\n",
              "      <th>888</th>\n",
              "      <td>False</td>\n",
              "      <td>False</td>\n",
              "      <td>False</td>\n",
              "      <td>False</td>\n",
              "      <td>False</td>\n",
              "      <td>True</td>\n",
              "      <td>False</td>\n",
              "      <td>False</td>\n",
              "      <td>False</td>\n",
              "      <td>False</td>\n",
              "      <td>True</td>\n",
              "      <td>False</td>\n",
              "    </tr>\n",
              "    <tr>\n",
              "      <th>889</th>\n",
              "      <td>False</td>\n",
              "      <td>False</td>\n",
              "      <td>False</td>\n",
              "      <td>False</td>\n",
              "      <td>False</td>\n",
              "      <td>False</td>\n",
              "      <td>False</td>\n",
              "      <td>False</td>\n",
              "      <td>False</td>\n",
              "      <td>False</td>\n",
              "      <td>False</td>\n",
              "      <td>False</td>\n",
              "    </tr>\n",
              "    <tr>\n",
              "      <th>890</th>\n",
              "      <td>False</td>\n",
              "      <td>False</td>\n",
              "      <td>False</td>\n",
              "      <td>False</td>\n",
              "      <td>False</td>\n",
              "      <td>False</td>\n",
              "      <td>False</td>\n",
              "      <td>False</td>\n",
              "      <td>False</td>\n",
              "      <td>False</td>\n",
              "      <td>True</td>\n",
              "      <td>False</td>\n",
              "    </tr>\n",
              "  </tbody>\n",
              "</table>\n",
              "<p>891 rows × 12 columns</p>\n",
              "</div>\n",
              "      <button class=\"colab-df-convert\" onclick=\"convertToInteractive('df-e00f2220-5849-4fdd-ae5b-7c4bd48e9563')\"\n",
              "              title=\"Convert this dataframe to an interactive table.\"\n",
              "              style=\"display:none;\">\n",
              "        \n",
              "  <svg xmlns=\"http://www.w3.org/2000/svg\" height=\"24px\"viewBox=\"0 0 24 24\"\n",
              "       width=\"24px\">\n",
              "    <path d=\"M0 0h24v24H0V0z\" fill=\"none\"/>\n",
              "    <path d=\"M18.56 5.44l.94 2.06.94-2.06 2.06-.94-2.06-.94-.94-2.06-.94 2.06-2.06.94zm-11 1L8.5 8.5l.94-2.06 2.06-.94-2.06-.94L8.5 2.5l-.94 2.06-2.06.94zm10 10l.94 2.06.94-2.06 2.06-.94-2.06-.94-.94-2.06-.94 2.06-2.06.94z\"/><path d=\"M17.41 7.96l-1.37-1.37c-.4-.4-.92-.59-1.43-.59-.52 0-1.04.2-1.43.59L10.3 9.45l-7.72 7.72c-.78.78-.78 2.05 0 2.83L4 21.41c.39.39.9.59 1.41.59.51 0 1.02-.2 1.41-.59l7.78-7.78 2.81-2.81c.8-.78.8-2.07 0-2.86zM5.41 20L4 18.59l7.72-7.72 1.47 1.35L5.41 20z\"/>\n",
              "  </svg>\n",
              "      </button>\n",
              "      \n",
              "  <style>\n",
              "    .colab-df-container {\n",
              "      display:flex;\n",
              "      flex-wrap:wrap;\n",
              "      gap: 12px;\n",
              "    }\n",
              "\n",
              "    .colab-df-convert {\n",
              "      background-color: #E8F0FE;\n",
              "      border: none;\n",
              "      border-radius: 50%;\n",
              "      cursor: pointer;\n",
              "      display: none;\n",
              "      fill: #1967D2;\n",
              "      height: 32px;\n",
              "      padding: 0 0 0 0;\n",
              "      width: 32px;\n",
              "    }\n",
              "\n",
              "    .colab-df-convert:hover {\n",
              "      background-color: #E2EBFA;\n",
              "      box-shadow: 0px 1px 2px rgba(60, 64, 67, 0.3), 0px 1px 3px 1px rgba(60, 64, 67, 0.15);\n",
              "      fill: #174EA6;\n",
              "    }\n",
              "\n",
              "    [theme=dark] .colab-df-convert {\n",
              "      background-color: #3B4455;\n",
              "      fill: #D2E3FC;\n",
              "    }\n",
              "\n",
              "    [theme=dark] .colab-df-convert:hover {\n",
              "      background-color: #434B5C;\n",
              "      box-shadow: 0px 1px 3px 1px rgba(0, 0, 0, 0.15);\n",
              "      filter: drop-shadow(0px 1px 2px rgba(0, 0, 0, 0.3));\n",
              "      fill: #FFFFFF;\n",
              "    }\n",
              "  </style>\n",
              "\n",
              "      <script>\n",
              "        const buttonEl =\n",
              "          document.querySelector('#df-e00f2220-5849-4fdd-ae5b-7c4bd48e9563 button.colab-df-convert');\n",
              "        buttonEl.style.display =\n",
              "          google.colab.kernel.accessAllowed ? 'block' : 'none';\n",
              "\n",
              "        async function convertToInteractive(key) {\n",
              "          const element = document.querySelector('#df-e00f2220-5849-4fdd-ae5b-7c4bd48e9563');\n",
              "          const dataTable =\n",
              "            await google.colab.kernel.invokeFunction('convertToInteractive',\n",
              "                                                     [key], {});\n",
              "          if (!dataTable) return;\n",
              "\n",
              "          const docLinkHtml = 'Like what you see? Visit the ' +\n",
              "            '<a target=\"_blank\" href=https://colab.research.google.com/notebooks/data_table.ipynb>data table notebook</a>'\n",
              "            + ' to learn more about interactive tables.';\n",
              "          element.innerHTML = '';\n",
              "          dataTable['output_type'] = 'display_data';\n",
              "          await google.colab.output.renderOutput(dataTable, element);\n",
              "          const docLink = document.createElement('div');\n",
              "          docLink.innerHTML = docLinkHtml;\n",
              "          element.appendChild(docLink);\n",
              "        }\n",
              "      </script>\n",
              "    </div>\n",
              "  </div>\n",
              "  "
            ]
          },
          "metadata": {},
          "execution_count": 26
        }
      ]
    },
    {
      "cell_type": "code",
      "source": [
        "sns.distplot(train_df['Age']) # understanding distribution of column Age"
      ],
      "metadata": {
        "colab": {
          "base_uri": "https://localhost:8080/",
          "height": 296
        },
        "id": "PL78bbyO-JpK",
        "outputId": "ca81f6b5-3371-4828-9bbd-6d98acb665ec"
      },
      "execution_count": null,
      "outputs": [
        {
          "output_type": "execute_result",
          "data": {
            "text/plain": [
              "<AxesSubplot:xlabel='Age', ylabel='Density'>"
            ]
          },
          "metadata": {},
          "execution_count": 27
        },
        {
          "output_type": "display_data",
          "data": {
            "text/plain": [
              "<Figure size 432x288 with 1 Axes>"
            ],
            "image/png": "[encoded data removed]"
          },
          "metadata": {
            "needs_background": "light"
          }
        }
      ]
    },
    {
      "cell_type": "code",
      "source": [
        "sns.countplot(x=\"Survived\", data = train_df)   # countplot of target variable to check balanced or not"
      ],
      "metadata": {
        "colab": {
          "base_uri": "https://localhost:8080/",
          "height": 296
        },
        "id": "4mcyNd5buQpd",
        "outputId": "d856726e-b2c4-4e9d-a798-ea92a93e14ed"
      },
      "execution_count": null,
      "outputs": [
        {
          "output_type": "execute_result",
          "data": {
            "text/plain": [
              "<AxesSubplot:xlabel='Survived', ylabel='count'>"
            ]
          },
          "metadata": {},
          "execution_count": 28
        },
        {
          "output_type": "display_data",
          "data": {
            "text/plain": [
              "<Figure size 432x288 with 1 Axes>"
            ],
            "image/png": "[encoded data removed]"
          },
          "metadata": {
            "needs_background": "light"
          }
        }
      ]
    },
    {
      "cell_type": "code",
      "source": [
        "sns.countplot(train_df['Pclass'])"
      ],
      "metadata": {
        "colab": {
          "base_uri": "https://localhost:8080/",
          "height": 296
        },
        "id": "tzFFbtwE_NN3",
        "outputId": "61a421c1-f728-4d9f-c5b5-096a29c19cc6"
      },
      "execution_count": null,
      "outputs": [
        {
          "output_type": "execute_result",
          "data": {
            "text/plain": [
              "<AxesSubplot:xlabel='Pclass', ylabel='count'>"
            ]
          },
          "metadata": {},
          "execution_count": 29
        },
        {
          "output_type": "display_data",
          "data": {
            "text/plain": [
              "<Figure size 432x288 with 1 Axes>"
            ],
            "image/png": "[encoded data removed]"
          },
          "metadata": {
            "needs_background": "light"
          }
        }
      ]
    },
    {
      "cell_type": "code",
      "source": [
        "sns.countplot(train_df['SibSp'])"
      ],
      "metadata": {
        "colab": {
          "base_uri": "https://localhost:8080/",
          "height": 296
        },
        "id": "nfiGLEpU_XAc",
        "outputId": "87b00ad1-f437-4ade-d671-b867cd9ed22b"
      },
      "execution_count": null,
      "outputs": [
        {
          "output_type": "execute_result",
          "data": {
            "text/plain": [
              "<AxesSubplot:xlabel='SibSp', ylabel='count'>"
            ]
          },
          "metadata": {},
          "execution_count": 30
        },
        {
          "output_type": "display_data",
          "data": {
            "text/plain": [
              "<Figure size 432x288 with 1 Axes>"
            ],
            "image/png": "[encoded data removed]"
          },
          "metadata": {
            "needs_background": "light"
          }
        }
      ]
    },
    {
      "cell_type": "code",
      "source": [
        "plt.scatter(train_df['Age'], train_df['Parch'])\n",
        "plt.xlabel('Age')\n",
        "plt.ylabel('Parch')\n",
        "plt.title('Relationship between Age and Parch')\n",
        "plt.show()"
      ],
      "metadata": {
        "colab": {
          "base_uri": "https://localhost:8080/",
          "height": 295
        },
        "id": "zjA0Gw3dnYqs",
        "outputId": "3a396aae-6eb3-45eb-e2fe-171e6e203c97"
      },
      "execution_count": null,
      "outputs": [
        {
          "output_type": "display_data",
          "data": {
            "text/plain": [
              "<Figure size 432x288 with 1 Axes>"
            ],
            "image/png": "[encoded data removed]"
          },
          "metadata": {
            "needs_background": "light"
          }
        }
      ]
    },
    {
      "cell_type": "code",
      "source": [
        "sns.heatmap(train_df.isnull(), yticklabels = False, cbar = False,cmap = 'viridis') # heatmap for null values"
      ],
      "metadata": {
        "colab": {
          "base_uri": "https://localhost:8080/",
          "height": 333
        },
        "id": "KlC9TnaBunmA",
        "outputId": "9882db4b-f34e-4123-9c80-eb91db9a72d9"
      },
      "execution_count": null,
      "outputs": [
        {
          "output_type": "execute_result",
          "data": {
            "text/plain": [
              "<AxesSubplot:>"
            ]
          },
          "metadata": {},
          "execution_count": 32
        },
        {
          "output_type": "display_data",
          "data": {
            "text/plain": [
              "<Figure size 432x288 with 1 Axes>"
            ],
            "image/png": "[encoded data removed]"
          },
          "metadata": {
            "needs_background": "light"
          }
        }
      ]
    },
    {
      "cell_type": "markdown",
      "source": [
        "'train_df.isnull()': This returns a dataframe of boolean values where 'True' indicates a null value.\n",
        "\n",
        "'yticklabels = False': This removes the y-axis tick labels from the heatmap.\n",
        "\n",
        "'cbar = False': This removes the colorbar from the heatmap.\n",
        "\n",
        "'cmap = 'viridis'': This sets the color map to 'viridis', which is a popular color map in seaborn.\n",
        "\n",
        "A heatmap that displays the null values in the 'train_df' dataframe using a color scheme where yellow indicates missing values, and blue indicates non-missing values."
      ],
      "metadata": {
        "id": "BJXLrZxXpL5p"
      }
    },
    {
      "cell_type": "code",
      "source": [
        "sns.countplot(x=\"Survived\", hue=\"Sex\", data = train_df) #countplot of target variable with respect to Sex column"
      ],
      "metadata": {
        "colab": {
          "base_uri": "https://localhost:8080/",
          "height": 296
        },
        "id": "8BaV0Whdu5KS",
        "outputId": "36fb4eca-8bf7-4c06-e077-1d86b9b91e80"
      },
      "execution_count": null,
      "outputs": [
        {
          "output_type": "execute_result",
          "data": {
            "text/plain": [
              "<AxesSubplot:xlabel='Survived', ylabel='count'>"
            ]
          },
          "metadata": {},
          "execution_count": 33
        },
        {
          "output_type": "display_data",
          "data": {
            "text/plain": [
              "<Figure size 432x288 with 1 Axes>"
            ],
            "image/png": "[encoded data removed]"
          },
          "metadata": {
            "needs_background": "light"
          }
        }
      ]
    },
    {
      "cell_type": "markdown",
      "source": [
        "'x=\"Survived\"': This sets the 'Survived' column as the x-axis variable.\n",
        "'hue=\"Sex\"': This sets the 'Sex' column as the grouping variable that distinguishes the bars on the plot.\n",
        "'data=train_df': This sets the dataframe to 'train_df', so the data is taken from this dataframe."
      ],
      "metadata": {
        "id": "nIfrZC9YqKKF"
      }
    },
    {
      "cell_type": "code",
      "source": [
        "sns.countplot(x=\"Survived\",hue=\"Pclass\",data=train_df) #countplot of target variable with respect to Pclass column "
      ],
      "metadata": {
        "colab": {
          "base_uri": "https://localhost:8080/",
          "height": 296
        },
        "id": "Nzfi68SZvAEg",
        "outputId": "8ee088e7-e7cb-4900-a68a-5bf7430745f2"
      },
      "execution_count": null,
      "outputs": [
        {
          "output_type": "execute_result",
          "data": {
            "text/plain": [
              "<AxesSubplot:xlabel='Survived', ylabel='count'>"
            ]
          },
          "metadata": {},
          "execution_count": 34
        },
        {
          "output_type": "display_data",
          "data": {
            "text/plain": [
              "<Figure size 432x288 with 1 Axes>"
            ],
            "image/png": "[encoded data removed]"
          },
          "metadata": {
            "needs_background": "light"
          }
        }
      ]
    },
    {
      "cell_type": "markdown",
      "source": [
        "It is useful for identifying any class-based patterns in survival rates among the passengers in the 'train_df' dataframe. For example, it may show that passengers in first class were more likely to survive than those in second or third class."
      ],
      "metadata": {
        "id": "lu9Cb_IXqyUg"
      }
    },
    {
      "cell_type": "code",
      "source": [
        "train_df[\"Age\"].plot.hist() #histogram plot for Age column"
      ],
      "metadata": {
        "colab": {
          "base_uri": "https://localhost:8080/",
          "height": 282
        },
        "id": "8Zxju_hIvaxC",
        "outputId": "f07bfb40-e771-40fa-bbf7-a79f0240b0d4"
      },
      "execution_count": null,
      "outputs": [
        {
          "output_type": "execute_result",
          "data": {
            "text/plain": [
              "<AxesSubplot:ylabel='Frequency'>"
            ]
          },
          "metadata": {},
          "execution_count": 35
        },
        {
          "output_type": "display_data",
          "data": {
            "text/plain": [
              "<Figure size 432x288 with 1 Axes>"
            ],
            "image/png": "[encoded data removed]"
          },
          "metadata": {
            "needs_background": "light"
          }
        }
      ]
    },
    {
      "cell_type": "markdown",
      "source": [
        "Histograms are useful for visualizing the shape of a distribution, including the center, spread, and skewness of the data. This plot can be useful for identifying any age-based patterns in the 'train_df' dataframe, such as a high frequency of children or elderly passengers."
      ],
      "metadata": {
        "id": "oZDKP_XUrdWG"
      }
    },
    {
      "cell_type": "code",
      "source": [
        "train_df[\"Fare\"].plot.hist(bins=20,figsize=(10,5)) #histogram for Fare column to understand it's distribution"
      ],
      "metadata": {
        "colab": {
          "base_uri": "https://localhost:8080/",
          "height": 337
        },
        "id": "X0eBphHBvhuC",
        "outputId": "2f3a2f1d-7e97-42d3-9213-fcf09cde2601"
      },
      "execution_count": null,
      "outputs": [
        {
          "output_type": "execute_result",
          "data": {
            "text/plain": [
              "<AxesSubplot:ylabel='Frequency'>"
            ]
          },
          "metadata": {},
          "execution_count": 36
        },
        {
          "output_type": "display_data",
          "data": {
            "text/plain": [
              "<Figure size 720x360 with 1 Axes>"
            ],
            "image/png": "[encoded data removed]"
          },
          "metadata": {
            "needs_background": "light"
          }
        }
      ]
    },
    {
      "cell_type": "markdown",
      "source": [
        "'train_df[\"Fare\"]': This selects the 'Fare' column from the 'train_df' dataframe.\n",
        "'bins=20': This sets the number of bins in the histogram to 20, which determines the number of intervals that the data will be divided into.\n",
        "'figsize=(10,5)': This sets the size of the figure to (10, 5), which means the plot will be 10 inches wide and 5 inches tall.\n",
        "\n",
        "This plot can be useful for identifying any fare-based patterns in the 'train_df' dataframe, such as a high frequency of low fares or a few extreme outliers with high fares. "
      ],
      "metadata": {
        "id": "a4_uDQWEr-_4"
      }
    },
    {
      "cell_type": "code",
      "source": [
        "sns.countplot(x=\"SibSp\", data = train_df)     # count plot of SibSp column to understand "
      ],
      "metadata": {
        "colab": {
          "base_uri": "https://localhost:8080/",
          "height": 296
        },
        "id": "SRNRuJlZv36H",
        "outputId": "2e107fad-41de-4a63-9ef2-91dc3ca111c9"
      },
      "execution_count": null,
      "outputs": [
        {
          "output_type": "execute_result",
          "data": {
            "text/plain": [
              "<AxesSubplot:xlabel='SibSp', ylabel='count'>"
            ]
          },
          "metadata": {},
          "execution_count": 37
        },
        {
          "output_type": "display_data",
          "data": {
            "text/plain": [
              "<Figure size 432x288 with 1 Axes>"
            ],
            "image/png": "[encoded data removed]"
          },
          "metadata": {
            "needs_background": "light"
          }
        }
      ]
    },
    {
      "cell_type": "markdown",
      "source": [
        " It may show that a majority of passengers traveled without any siblings/spouses, or that a significant number of passengers traveled with one or two siblings/spouses. This information can be useful for understanding the composition of the passenger group and potentially identifying factors that may have influenced their survival."
      ],
      "metadata": {
        "id": "A8VRYTXJtYw0"
      }
    },
    {
      "cell_type": "code",
      "source": [
        "train_df# Group the data frame by values in Survived column, and count the number of occurrences of each group.\n",
        "survived_count = train_df.groupby('Survived')['Survived'].count()\n",
        "survived_count"
      ],
      "metadata": {
        "colab": {
          "base_uri": "https://localhost:8080/"
        },
        "id": "nylE7LQyDywh",
        "outputId": "f1f45084-bf3a-4de1-bd0b-a68d8e12c38a"
      },
      "execution_count": null,
      "outputs": [
        {
          "output_type": "execute_result",
          "data": {
            "text/plain": [
              "Survived\n",
              "0    549\n",
              "1    342\n",
              "Name: Survived, dtype: int64"
            ]
          },
          "metadata": {},
          "execution_count": 38
        }
      ]
    },
    {
      "cell_type": "markdown",
      "source": [
        "The resulting Series object has two rows, with the first row corresponding to the count of passengers who did not survive, and the second row corresponding to the count of passengers who survived."
      ],
      "metadata": {
        "id": "UuBv28N6uDwK"
      }
    },
    {
      "cell_type": "code",
      "source": [
        "# Grouped by survival\n",
        "plt.figure(figsize=(4,5))\n",
        "plt.bar(survived_count.index, survived_count.values)\n",
        "plt.title('Grouped by survival')\n",
        "plt.xticks([0,1],['Not survived', 'Survived'])\n",
        "for i, value in enumerate(survived_count.values):\n",
        "    plt.text(i, value-70, str(value), fontsize=12, color='white',\n",
        "             horizontalalignment='center', verticalalignment='center')"
      ],
      "metadata": {
        "colab": {
          "base_uri": "https://localhost:8080/",
          "height": 336
        },
        "id": "dJm2G-sbB_7b",
        "outputId": "7f57580e-822c-4a9e-d740-d595133281f3"
      },
      "execution_count": null,
      "outputs": [
        {
          "output_type": "display_data",
          "data": {
            "text/plain": [
              "<Figure size 288x360 with 1 Axes>"
            ],
            "image/png": "[encoded data removed]"
          },
          "metadata": {
            "needs_background": "light"
          }
        }
      ]
    },
    {
      "cell_type": "markdown",
      "source": [
        "The x-axis represents the two groups, 'Not survived' and 'Survived', and the y-axis represents the count of passengers in each group. The text on each bar shows the count of passengers in each group."
      ],
      "metadata": {
        "id": "JYUQmGPFuj4C"
      }
    },
    {
      "cell_type": "code",
      "source": [
        "sex_count = train_df.groupby('Sex')['Sex'].count()\n",
        "sex_count"
      ],
      "metadata": {
        "colab": {
          "base_uri": "https://localhost:8080/"
        },
        "id": "jh7EdP7fDxDs",
        "outputId": "217c16d1-50b9-4979-bbc1-c6a4b9524201"
      },
      "execution_count": null,
      "outputs": [
        {
          "output_type": "execute_result",
          "data": {
            "text/plain": [
              "Sex\n",
              "female    314\n",
              "male      577\n",
              "Name: Sex, dtype: int64"
            ]
          },
          "metadata": {},
          "execution_count": 40
        }
      ]
    },
    {
      "cell_type": "markdown",
      "source": [
        "The resulting Series object has two rows, with the first row corresponding to the count of male passengers, and the second row corresponding to the count of female passengers.\n",
        "\n",
        "This information can be useful for understanding the gender distribution of the passengers in the 'train_df' dataframe."
      ],
      "metadata": {
        "id": "ISwN_J82u63f"
      }
    },
    {
      "cell_type": "code",
      "source": [
        "plt.figure(figsize=(7,7))\n",
        "plt.title('Grouped by gender')\n",
        "plt.pie(sex_count.values, labels=['male', 'female'], \n",
        " autopct='%1.1f%%', textprops={'fontsize':13})\n",
        "plt.show()"
      ],
      "metadata": {
        "colab": {
          "base_uri": "https://localhost:8080/",
          "height": 427
        },
        "id": "x0GYmk_PEGG1",
        "outputId": "ebb9b1e9-837c-447e-d91f-d89d612fb2c5"
      },
      "execution_count": null,
      "outputs": [
        {
          "output_type": "display_data",
          "data": {
            "text/plain": [
              "<Figure size 504x504 with 1 Axes>"
            ],
            "image/png": "[encoded data removed]"
          },
          "metadata": {}
        }
      ]
    },
    {
      "cell_type": "markdown",
      "source": [
        "The chart shows the percentage of male and female passengers in the dataset, and can be useful for understanding the gender balance of the passengers."
      ],
      "metadata": {
        "id": "Fp2rZ7Obvd1V"
      }
    },
    {
      "cell_type": "code",
      "source": [
        "sns.barplot(x='Sex', y='Age', data=train_df)"
      ],
      "metadata": {
        "colab": {
          "base_uri": "https://localhost:8080/",
          "height": 296
        },
        "id": "3XGfg0WZEhK-",
        "outputId": "354a1863-6bbf-4f44-ab73-0f492b4905eb"
      },
      "execution_count": null,
      "outputs": [
        {
          "output_type": "execute_result",
          "data": {
            "text/plain": [
              "<AxesSubplot:xlabel='Sex', ylabel='Age'>"
            ]
          },
          "metadata": {},
          "execution_count": 42
        },
        {
          "output_type": "display_data",
          "data": {
            "text/plain": [
              "<Figure size 432x288 with 1 Axes>"
            ],
            "image/png": "[encoded data removed]"
          },
          "metadata": {
            "needs_background": "light"
          }
        }
      ]
    },
    {
      "cell_type": "markdown",
      "source": [
        "The plot shows the mean age for each gender and can be useful for understanding differences in age distribution between male and female passengers."
      ],
      "metadata": {
        "id": "DMURLfSHv1YT"
      }
    },
    {
      "cell_type": "code",
      "source": [
        "sns.set(font_scale=1)\n",
        "g = sns.factorplot(x=\"Sex\", y=\"Survived\", col=\"Pclass\",\n",
        "                    data=train_df, saturation=.5,\n",
        "                    kind=\"bar\", ci=None, aspect=.6)\n",
        "(g.set_axis_labels(\"\", \"Survival Rate\")\n",
        "    .set_xticklabels([\"Men\", \"Women\"])\n",
        "    .set_titles(\"{col_name} {col_var}\")\n",
        "    .set(ylim=(0, 1))\n",
        "    .despine(left=True))  \n",
        "plt.subplots_adjust(top=0.8)\n",
        "g.fig.suptitle('How many Men and Women Survived by Passenger Class');"
      ],
      "metadata": {
        "colab": {
          "base_uri": "https://localhost:8080/",
          "height": 354
        },
        "id": "sDvmSmVaRsyB",
        "outputId": "91ec18b3-ae0c-4b94-9d9a-b4bb30001948"
      },
      "execution_count": null,
      "outputs": [
        {
          "output_type": "display_data",
          "data": {
            "text/plain": [
              "<Figure size 648x360 with 3 Axes>"
            ],
            "image/png": "[encoded data removed]"
          },
          "metadata": {}
        }
      ]
    },
    {
      "cell_type": "markdown",
      "source": [
        "'sns.set(font_scale=1)': This sets the font scale for the plot.\n",
        "\n",
        "'g = sns.factorplot(x=\"Sex\", y=\"Survived\", col=\"Pclass\", data=train_df, saturation=.5, kind=\"bar\", ci=None, aspect=.6)':\n",
        " This creates a factor plot using the seaborn library. The 'x' parameter specifies the column to use for the x-axis (which in this case is the 'Sex' column), the 'y' parameter specifies the column to use for the y-axis (which in this case is the 'Survived' column), the 'col' parameter specifies the column to use for creating subplots (which in this case is the 'Pclass' column), the 'data' parameter specifies the dataframe to use (which in this case is the 'train_df' dataframe), and the 'kind' parameter specifies the type of plot to create (which in this case is a bar plot). The other parameters are used to customize the appearance of the plot.\n",
        "\n",
        "'(g.set_axis_labels(\"\", \"Survival Rate\").set_xticklabels([\"Men\", \"Women\"]).set_titles(\"{col_name} {col_var}\").set(ylim=(0, 1)).despine(left=True))':\n",
        " This sets the axis labels, titles, limits, and appearance of the plot using the seaborn library.\n",
        "'plt.subplots_adjust(top=0.8)': This adjusts the spacing between the subplots in the plot.\n",
        "'g.fig.suptitle('How many Men and Women Survived by Passenger Class')': This sets the title of the plot.\n",
        " This plot is useful for understanding how survival rates varied by passenger class and gender."
      ],
      "metadata": {
        "id": "s1vg4wwoxRph"
      }
    },
    {
      "cell_type": "code",
      "source": [
        "# heat map for understanding correlation \n",
        "corr = train_df.corr()\n",
        "sns.heatmap(corr, annot=True, square=True)\n",
        "plt.yticks(rotation=0)\n",
        "plt.show()"
      ],
      "metadata": {
        "colab": {
          "base_uri": "https://localhost:8080/",
          "height": 329
        },
        "id": "6gW1_u86v-1o",
        "outputId": "1e080757-a7a0-42fe-dc42-0e48276b1e93"
      },
      "execution_count": null,
      "outputs": [
        {
          "output_type": "display_data",
          "data": {
            "text/plain": [
              "<Figure size 432x288 with 2 Axes>"
            ],
            "image/png": "[encoded data removed]"
          },
          "metadata": {}
        }
      ]
    },
    {
      "cell_type": "code",
      "source": [
        "#bivariate analysis\n",
        "sns.relplot(x='Survived', y='Age', hue='Sex', data=train_df)"
      ],
      "metadata": {
        "colab": {
          "base_uri": "https://localhost:8080/",
          "height": 382
        },
        "id": "Fo7d-6N_wHm4",
        "outputId": "f68dc33e-c3fb-43e2-b723-b7a5783fbc5a"
      },
      "execution_count": null,
      "outputs": [
        {
          "output_type": "execute_result",
          "data": {
            "text/plain": [
              "<seaborn.axisgrid.FacetGrid at 0x7f2895858250>"
            ]
          },
          "metadata": {},
          "execution_count": 45
        },
        {
          "output_type": "display_data",
          "data": {
            "text/plain": [
              "<Figure size 437.975x360 with 1 Axes>"
            ],
            "image/png": "[encoded data removed]"
          },
          "metadata": {}
        }
      ]
    },
    {
      "cell_type": "markdown",
      "source": [
        "The resulting plot shows a scatter plot of 'Survived' vs 'Age', with the points colored by 'Sex'. The plot allows us to see whether there is any relationship between 'Survived' and 'Age', and whether that relationship is different for males and females."
      ],
      "metadata": {
        "id": "qt9wsn_G_apM"
      }
    },
    {
      "cell_type": "code",
      "source": [
        "train_df.hist(bins=10,figsize=(9,7),grid=False);"
      ],
      "metadata": {
        "colab": {
          "base_uri": "https://localhost:8080/",
          "height": 447
        },
        "id": "cq1KslyxQ-57",
        "outputId": "52fdd3eb-16dd-4466-e59c-9fdabbe4f672"
      },
      "execution_count": null,
      "outputs": [
        {
          "output_type": "display_data",
          "data": {
            "text/plain": [
              "<Figure size 648x504 with 9 Axes>"
            ],
            "image/png": "[encoded data removed]"
          },
          "metadata": {}
        }
      ]
    },
    {
      "cell_type": "markdown",
      "source": [
        "**Preprocessing**"
      ],
      "metadata": {
        "id": "b0W0qyiN9c0S"
      }
    },
    {
      "cell_type": "markdown",
      "source": [
        "1.Handle missing data"
      ],
      "metadata": {
        "id": "GMweUic37LQx"
      }
    },
    {
      "cell_type": "code",
      "source": [
        "train_df.isnull() #checking the null values in train dataset"
      ],
      "metadata": {
        "colab": {
          "base_uri": "https://localhost:8080/",
          "height": 423
        },
        "id": "DpgZET-wjzQb",
        "outputId": "0862f553-b6b6-4468-ce76-ebb4605c6a51"
      },
      "execution_count": null,
      "outputs": [
        {
          "output_type": "execute_result",
          "data": {
            "text/plain": [
              "     PassengerId  Survived  Pclass   Name    Sex    Age  SibSp  Parch  Ticket  \\\n",
              "0          False     False   False  False  False  False  False  False   False   \n",
              "1          False     False   False  False  False  False  False  False   False   \n",
              "2          False     False   False  False  False  False  False  False   False   \n",
              "3          False     False   False  False  False  False  False  False   False   \n",
              "4          False     False   False  False  False  False  False  False   False   \n",
              "..           ...       ...     ...    ...    ...    ...    ...    ...     ...   \n",
              "886        False     False   False  False  False  False  False  False   False   \n",
              "887        False     False   False  False  False  False  False  False   False   \n",
              "888        False     False   False  False  False   True  False  False   False   \n",
              "889        False     False   False  False  False  False  False  False   False   \n",
              "890        False     False   False  False  False  False  False  False   False   \n",
              "\n",
              "      Fare  Cabin  Embarked  \n",
              "0    False   True     False  \n",
              "1    False  False     False  \n",
              "2    False   True     False  \n",
              "3    False  False     False  \n",
              "4    False   True     False  \n",
              "..     ...    ...       ...  \n",
              "886  False   True     False  \n",
              "887  False  False     False  \n",
              "888  False   True     False  \n",
              "889  False  False     False  \n",
              "890  False   True     False  \n",
              "\n",
              "[891 rows x 12 columns]"
            ],
            "text/html": [
              "\n",
              "  <div id=\"df-68620bbf-45c9-42ab-aa6e-ced7c7d3f973\">\n",
              "    <div class=\"colab-df-container\">\n",
              "      <div>\n",
              "<style scoped>\n",
              "    .dataframe tbody tr th:only-of-type {\n",
              "        vertical-align: middle;\n",
              "    }\n",
              "\n",
              "    .dataframe tbody tr th {\n",
              "        vertical-align: top;\n",
              "    }\n",
              "\n",
              "    .dataframe thead th {\n",
              "        text-align: right;\n",
              "    }\n",
              "</style>\n",
              "<table border=\"1\" class=\"dataframe\">\n",
              "  <thead>\n",
              "    <tr style=\"text-align: right;\">\n",
              "      <th></th>\n",
              "      <th>PassengerId</th>\n",
              "      <th>Survived</th>\n",
              "      <th>Pclass</th>\n",
              "      <th>Name</th>\n",
              "      <th>Sex</th>\n",
              "      <th>Age</th>\n",
              "      <th>SibSp</th>\n",
              "      <th>Parch</th>\n",
              "      <th>Ticket</th>\n",
              "      <th>Fare</th>\n",
              "      <th>Cabin</th>\n",
              "      <th>Embarked</th>\n",
              "    </tr>\n",
              "  </thead>\n",
              "  <tbody>\n",
              "    <tr>\n",
              "      <th>0</th>\n",
              "      <td>False</td>\n",
              "      <td>False</td>\n",
              "      <td>False</td>\n",
              "      <td>False</td>\n",
              "      <td>False</td>\n",
              "      <td>False</td>\n",
              "      <td>False</td>\n",
              "      <td>False</td>\n",
              "      <td>False</td>\n",
              "      <td>False</td>\n",
              "      <td>True</td>\n",
              "      <td>False</td>\n",
              "    </tr>\n",
              "    <tr>\n",
              "      <th>1</th>\n",
              "      <td>False</td>\n",
              "      <td>False</td>\n",
              "      <td>False</td>\n",
              "      <td>False</td>\n",
              "      <td>False</td>\n",
              "      <td>False</td>\n",
              "      <td>False</td>\n",
              "      <td>False</td>\n",
              "      <td>False</td>\n",
              "      <td>False</td>\n",
              "      <td>False</td>\n",
              "      <td>False</td>\n",
              "    </tr>\n",
              "    <tr>\n",
              "      <th>2</th>\n",
              "      <td>False</td>\n",
              "      <td>False</td>\n",
              "      <td>False</td>\n",
              "      <td>False</td>\n",
              "      <td>False</td>\n",
              "      <td>False</td>\n",
              "      <td>False</td>\n",
              "      <td>False</td>\n",
              "      <td>False</td>\n",
              "      <td>False</td>\n",
              "      <td>True</td>\n",
              "      <td>False</td>\n",
              "    </tr>\n",
              "    <tr>\n",
              "      <th>3</th>\n",
              "      <td>False</td>\n",
              "      <td>False</td>\n",
              "      <td>False</td>\n",
              "      <td>False</td>\n",
              "      <td>False</td>\n",
              "      <td>False</td>\n",
              "      <td>False</td>\n",
              "      <td>False</td>\n",
              "      <td>False</td>\n",
              "      <td>False</td>\n",
              "      <td>False</td>\n",
              "      <td>False</td>\n",
              "    </tr>\n",
              "    <tr>\n",
              "      <th>4</th>\n",
              "      <td>False</td>\n",
              "      <td>False</td>\n",
              "      <td>False</td>\n",
              "      <td>False</td>\n",
              "      <td>False</td>\n",
              "      <td>False</td>\n",
              "      <td>False</td>\n",
              "      <td>False</td>\n",
              "      <td>False</td>\n",
              "      <td>False</td>\n",
              "      <td>True</td>\n",
              "      <td>False</td>\n",
              "    </tr>\n",
              "    <tr>\n",
              "      <th>...</th>\n",
              "      <td>...</td>\n",
              "      <td>...</td>\n",
              "      <td>...</td>\n",
              "      <td>...</td>\n",
              "      <td>...</td>\n",
              "      <td>...</td>\n",
              "      <td>...</td>\n",
              "      <td>...</td>\n",
              "      <td>...</td>\n",
              "      <td>...</td>\n",
              "      <td>...</td>\n",
              "      <td>...</td>\n",
              "    </tr>\n",
              "    <tr>\n",
              "      <th>886</th>\n",
              "      <td>False</td>\n",
              "      <td>False</td>\n",
              "      <td>False</td>\n",
              "      <td>False</td>\n",
              "      <td>False</td>\n",
              "      <td>False</td>\n",
              "      <td>False</td>\n",
              "      <td>False</td>\n",
              "      <td>False</td>\n",
              "      <td>False</td>\n",
              "      <td>True</td>\n",
              "      <td>False</td>\n",
              "    </tr>\n",
              "    <tr>\n",
              "      <th>887</th>\n",
              "      <td>False</td>\n",
              "      <td>False</td>\n",
              "      <td>False</td>\n",
              "      <td>False</td>\n",
              "      <td>False</td>\n",
              "      <td>False</td>\n",
              "      <td>False</td>\n",
              "      <td>False</td>\n",
              "      <td>False</td>\n",
              "      <td>False</td>\n",
              "      <td>False</td>\n",
              "      <td>False</td>\n",
              "    </tr>\n",
              "    <tr>\n",
              "      <th>888</th>\n",
              "      <td>False</td>\n",
              "      <td>False</td>\n",
              "      <td>False</td>\n",
              "      <td>False</td>\n",
              "      <td>False</td>\n",
              "      <td>True</td>\n",
              "      <td>False</td>\n",
              "      <td>False</td>\n",
              "      <td>False</td>\n",
              "      <td>False</td>\n",
              "      <td>True</td>\n",
              "      <td>False</td>\n",
              "    </tr>\n",
              "    <tr>\n",
              "      <th>889</th>\n",
              "      <td>False</td>\n",
              "      <td>False</td>\n",
              "      <td>False</td>\n",
              "      <td>False</td>\n",
              "      <td>False</td>\n",
              "      <td>False</td>\n",
              "      <td>False</td>\n",
              "      <td>False</td>\n",
              "      <td>False</td>\n",
              "      <td>False</td>\n",
              "      <td>False</td>\n",
              "      <td>False</td>\n",
              "    </tr>\n",
              "    <tr>\n",
              "      <th>890</th>\n",
              "      <td>False</td>\n",
              "      <td>False</td>\n",
              "      <td>False</td>\n",
              "      <td>False</td>\n",
              "      <td>False</td>\n",
              "      <td>False</td>\n",
              "      <td>False</td>\n",
              "      <td>False</td>\n",
              "      <td>False</td>\n",
              "      <td>False</td>\n",
              "      <td>True</td>\n",
              "      <td>False</td>\n",
              "    </tr>\n",
              "  </tbody>\n",
              "</table>\n",
              "<p>891 rows × 12 columns</p>\n",
              "</div>\n",
              "      <button class=\"colab-df-convert\" onclick=\"convertToInteractive('df-68620bbf-45c9-42ab-aa6e-ced7c7d3f973')\"\n",
              "              title=\"Convert this dataframe to an interactive table.\"\n",
              "              style=\"display:none;\">\n",
              "        \n",
              "  <svg xmlns=\"http://www.w3.org/2000/svg\" height=\"24px\"viewBox=\"0 0 24 24\"\n",
              "       width=\"24px\">\n",
              "    <path d=\"M0 0h24v24H0V0z\" fill=\"none\"/>\n",
              "    <path d=\"M18.56 5.44l.94 2.06.94-2.06 2.06-.94-2.06-.94-.94-2.06-.94 2.06-2.06.94zm-11 1L8.5 8.5l.94-2.06 2.06-.94-2.06-.94L8.5 2.5l-.94 2.06-2.06.94zm10 10l.94 2.06.94-2.06 2.06-.94-2.06-.94-.94-2.06-.94 2.06-2.06.94z\"/><path d=\"M17.41 7.96l-1.37-1.37c-.4-.4-.92-.59-1.43-.59-.52 0-1.04.2-1.43.59L10.3 9.45l-7.72 7.72c-.78.78-.78 2.05 0 2.83L4 21.41c.39.39.9.59 1.41.59.51 0 1.02-.2 1.41-.59l7.78-7.78 2.81-2.81c.8-.78.8-2.07 0-2.86zM5.41 20L4 18.59l7.72-7.72 1.47 1.35L5.41 20z\"/>\n",
              "  </svg>\n",
              "      </button>\n",
              "      \n",
              "  <style>\n",
              "    .colab-df-container {\n",
              "      display:flex;\n",
              "      flex-wrap:wrap;\n",
              "      gap: 12px;\n",
              "    }\n",
              "\n",
              "    .colab-df-convert {\n",
              "      background-color: #E8F0FE;\n",
              "      border: none;\n",
              "      border-radius: 50%;\n",
              "      cursor: pointer;\n",
              "      display: none;\n",
              "      fill: #1967D2;\n",
              "      height: 32px;\n",
              "      padding: 0 0 0 0;\n",
              "      width: 32px;\n",
              "    }\n",
              "\n",
              "    .colab-df-convert:hover {\n",
              "      background-color: #E2EBFA;\n",
              "      box-shadow: 0px 1px 2px rgba(60, 64, 67, 0.3), 0px 1px 3px 1px rgba(60, 64, 67, 0.15);\n",
              "      fill: #174EA6;\n",
              "    }\n",
              "\n",
              "    [theme=dark] .colab-df-convert {\n",
              "      background-color: #3B4455;\n",
              "      fill: #D2E3FC;\n",
              "    }\n",
              "\n",
              "    [theme=dark] .colab-df-convert:hover {\n",
              "      background-color: #434B5C;\n",
              "      box-shadow: 0px 1px 3px 1px rgba(0, 0, 0, 0.15);\n",
              "      filter: drop-shadow(0px 1px 2px rgba(0, 0, 0, 0.3));\n",
              "      fill: #FFFFFF;\n",
              "    }\n",
              "  </style>\n",
              "\n",
              "      <script>\n",
              "        const buttonEl =\n",
              "          document.querySelector('#df-68620bbf-45c9-42ab-aa6e-ced7c7d3f973 button.colab-df-convert');\n",
              "        buttonEl.style.display =\n",
              "          google.colab.kernel.accessAllowed ? 'block' : 'none';\n",
              "\n",
              "        async function convertToInteractive(key) {\n",
              "          const element = document.querySelector('#df-68620bbf-45c9-42ab-aa6e-ced7c7d3f973');\n",
              "          const dataTable =\n",
              "            await google.colab.kernel.invokeFunction('convertToInteractive',\n",
              "                                                     [key], {});\n",
              "          if (!dataTable) return;\n",
              "\n",
              "          const docLinkHtml = 'Like what you see? Visit the ' +\n",
              "            '<a target=\"_blank\" href=https://colab.research.google.com/notebooks/data_table.ipynb>data table notebook</a>'\n",
              "            + ' to learn more about interactive tables.';\n",
              "          element.innerHTML = '';\n",
              "          dataTable['output_type'] = 'display_data';\n",
              "          await google.colab.output.renderOutput(dataTable, element);\n",
              "          const docLink = document.createElement('div');\n",
              "          docLink.innerHTML = docLinkHtml;\n",
              "          element.appendChild(docLink);\n",
              "        }\n",
              "      </script>\n",
              "    </div>\n",
              "  </div>\n",
              "  "
            ]
          },
          "metadata": {},
          "execution_count": 47
        }
      ]
    },
    {
      "cell_type": "code",
      "source": [
        "train_df.isnull().sum() #checking the null values in train dataset"
      ],
      "metadata": {
        "colab": {
          "base_uri": "https://localhost:8080/"
        },
        "id": "51RBuPKb1pit",
        "outputId": "afc4595f-3341-47f0-b77d-68653fd01674"
      },
      "execution_count": null,
      "outputs": [
        {
          "output_type": "execute_result",
          "data": {
            "text/plain": [
              "PassengerId      0\n",
              "Survived         0\n",
              "Pclass           0\n",
              "Name             0\n",
              "Sex              0\n",
              "Age            177\n",
              "SibSp            0\n",
              "Parch            0\n",
              "Ticket           0\n",
              "Fare             0\n",
              "Cabin          687\n",
              "Embarked         2\n",
              "dtype: int64"
            ]
          },
          "metadata": {},
          "execution_count": 48
        }
      ]
    },
    {
      "cell_type": "markdown",
      "source": [
        "Age, Cabin and Embarked columns have null values"
      ],
      "metadata": {
        "id": "SQBeNwMF87I3"
      }
    },
    {
      "cell_type": "code",
      "source": [
        "test_df.isnull() #checking the null values in test dataset"
      ],
      "metadata": {
        "colab": {
          "base_uri": "https://localhost:8080/",
          "height": 423
        },
        "id": "RRDCpb2y-A-S",
        "outputId": "b54109d8-7fa6-4214-9650-14021474d28e"
      },
      "execution_count": null,
      "outputs": [
        {
          "output_type": "execute_result",
          "data": {
            "text/plain": [
              "     PassengerId  Pclass   Name    Sex    Age  SibSp  Parch  Ticket   Fare  \\\n",
              "0          False   False  False  False  False  False  False   False  False   \n",
              "1          False   False  False  False  False  False  False   False  False   \n",
              "2          False   False  False  False  False  False  False   False  False   \n",
              "3          False   False  False  False  False  False  False   False  False   \n",
              "4          False   False  False  False  False  False  False   False  False   \n",
              "..           ...     ...    ...    ...    ...    ...    ...     ...    ...   \n",
              "413        False   False  False  False   True  False  False   False  False   \n",
              "414        False   False  False  False  False  False  False   False  False   \n",
              "415        False   False  False  False  False  False  False   False  False   \n",
              "416        False   False  False  False   True  False  False   False  False   \n",
              "417        False   False  False  False   True  False  False   False  False   \n",
              "\n",
              "     Cabin  Embarked  \n",
              "0     True     False  \n",
              "1     True     False  \n",
              "2     True     False  \n",
              "3     True     False  \n",
              "4     True     False  \n",
              "..     ...       ...  \n",
              "413   True     False  \n",
              "414  False     False  \n",
              "415   True     False  \n",
              "416   True     False  \n",
              "417   True     False  \n",
              "\n",
              "[418 rows x 11 columns]"
            ],
            "text/html": [
              "\n",
              "  <div id=\"df-47a1ef86-80fe-42a4-a806-9f019d06d056\">\n",
              "    <div class=\"colab-df-container\">\n",
              "      <div>\n",
              "<style scoped>\n",
              "    .dataframe tbody tr th:only-of-type {\n",
              "        vertical-align: middle;\n",
              "    }\n",
              "\n",
              "    .dataframe tbody tr th {\n",
              "        vertical-align: top;\n",
              "    }\n",
              "\n",
              "    .dataframe thead th {\n",
              "        text-align: right;\n",
              "    }\n",
              "</style>\n",
              "<table border=\"1\" class=\"dataframe\">\n",
              "  <thead>\n",
              "    <tr style=\"text-align: right;\">\n",
              "      <th></th>\n",
              "      <th>PassengerId</th>\n",
              "      <th>Pclass</th>\n",
              "      <th>Name</th>\n",
              "      <th>Sex</th>\n",
              "      <th>Age</th>\n",
              "      <th>SibSp</th>\n",
              "      <th>Parch</th>\n",
              "      <th>Ticket</th>\n",
              "      <th>Fare</th>\n",
              "      <th>Cabin</th>\n",
              "      <th>Embarked</th>\n",
              "    </tr>\n",
              "  </thead>\n",
              "  <tbody>\n",
              "    <tr>\n",
              "      <th>0</th>\n",
              "      <td>False</td>\n",
              "      <td>False</td>\n",
              "      <td>False</td>\n",
              "      <td>False</td>\n",
              "      <td>False</td>\n",
              "      <td>False</td>\n",
              "      <td>False</td>\n",
              "      <td>False</td>\n",
              "      <td>False</td>\n",
              "      <td>True</td>\n",
              "      <td>False</td>\n",
              "    </tr>\n",
              "    <tr>\n",
              "      <th>1</th>\n",
              "      <td>False</td>\n",
              "      <td>False</td>\n",
              "      <td>False</td>\n",
              "      <td>False</td>\n",
              "      <td>False</td>\n",
              "      <td>False</td>\n",
              "      <td>False</td>\n",
              "      <td>False</td>\n",
              "      <td>False</td>\n",
              "      <td>True</td>\n",
              "      <td>False</td>\n",
              "    </tr>\n",
              "    <tr>\n",
              "      <th>2</th>\n",
              "      <td>False</td>\n",
              "      <td>False</td>\n",
              "      <td>False</td>\n",
              "      <td>False</td>\n",
              "      <td>False</td>\n",
              "      <td>False</td>\n",
              "      <td>False</td>\n",
              "      <td>False</td>\n",
              "      <td>False</td>\n",
              "      <td>True</td>\n",
              "      <td>False</td>\n",
              "    </tr>\n",
              "    <tr>\n",
              "      <th>3</th>\n",
              "      <td>False</td>\n",
              "      <td>False</td>\n",
              "      <td>False</td>\n",
              "      <td>False</td>\n",
              "      <td>False</td>\n",
              "      <td>False</td>\n",
              "      <td>False</td>\n",
              "      <td>False</td>\n",
              "      <td>False</td>\n",
              "      <td>True</td>\n",
              "      <td>False</td>\n",
              "    </tr>\n",
              "    <tr>\n",
              "      <th>4</th>\n",
              "      <td>False</td>\n",
              "      <td>False</td>\n",
              "      <td>False</td>\n",
              "      <td>False</td>\n",
              "      <td>False</td>\n",
              "      <td>False</td>\n",
              "      <td>False</td>\n",
              "      <td>False</td>\n",
              "      <td>False</td>\n",
              "      <td>True</td>\n",
              "      <td>False</td>\n",
              "    </tr>\n",
              "    <tr>\n",
              "      <th>...</th>\n",
              "      <td>...</td>\n",
              "      <td>...</td>\n",
              "      <td>...</td>\n",
              "      <td>...</td>\n",
              "      <td>...</td>\n",
              "      <td>...</td>\n",
              "      <td>...</td>\n",
              "      <td>...</td>\n",
              "      <td>...</td>\n",
              "      <td>...</td>\n",
              "      <td>...</td>\n",
              "    </tr>\n",
              "    <tr>\n",
              "      <th>413</th>\n",
              "      <td>False</td>\n",
              "      <td>False</td>\n",
              "      <td>False</td>\n",
              "      <td>False</td>\n",
              "      <td>True</td>\n",
              "      <td>False</td>\n",
              "      <td>False</td>\n",
              "      <td>False</td>\n",
              "      <td>False</td>\n",
              "      <td>True</td>\n",
              "      <td>False</td>\n",
              "    </tr>\n",
              "    <tr>\n",
              "      <th>414</th>\n",
              "      <td>False</td>\n",
              "      <td>False</td>\n",
              "      <td>False</td>\n",
              "      <td>False</td>\n",
              "      <td>False</td>\n",
              "      <td>False</td>\n",
              "      <td>False</td>\n",
              "      <td>False</td>\n",
              "      <td>False</td>\n",
              "      <td>False</td>\n",
              "      <td>False</td>\n",
              "    </tr>\n",
              "    <tr>\n",
              "      <th>415</th>\n",
              "      <td>False</td>\n",
              "      <td>False</td>\n",
              "      <td>False</td>\n",
              "      <td>False</td>\n",
              "      <td>False</td>\n",
              "      <td>False</td>\n",
              "      <td>False</td>\n",
              "      <td>False</td>\n",
              "      <td>False</td>\n",
              "      <td>True</td>\n",
              "      <td>False</td>\n",
              "    </tr>\n",
              "    <tr>\n",
              "      <th>416</th>\n",
              "      <td>False</td>\n",
              "      <td>False</td>\n",
              "      <td>False</td>\n",
              "      <td>False</td>\n",
              "      <td>True</td>\n",
              "      <td>False</td>\n",
              "      <td>False</td>\n",
              "      <td>False</td>\n",
              "      <td>False</td>\n",
              "      <td>True</td>\n",
              "      <td>False</td>\n",
              "    </tr>\n",
              "    <tr>\n",
              "      <th>417</th>\n",
              "      <td>False</td>\n",
              "      <td>False</td>\n",
              "      <td>False</td>\n",
              "      <td>False</td>\n",
              "      <td>True</td>\n",
              "      <td>False</td>\n",
              "      <td>False</td>\n",
              "      <td>False</td>\n",
              "      <td>False</td>\n",
              "      <td>True</td>\n",
              "      <td>False</td>\n",
              "    </tr>\n",
              "  </tbody>\n",
              "</table>\n",
              "<p>418 rows × 11 columns</p>\n",
              "</div>\n",
              "      <button class=\"colab-df-convert\" onclick=\"convertToInteractive('df-47a1ef86-80fe-42a4-a806-9f019d06d056')\"\n",
              "              title=\"Convert this dataframe to an interactive table.\"\n",
              "              style=\"display:none;\">\n",
              "        \n",
              "  <svg xmlns=\"http://www.w3.org/2000/svg\" height=\"24px\"viewBox=\"0 0 24 24\"\n",
              "       width=\"24px\">\n",
              "    <path d=\"M0 0h24v24H0V0z\" fill=\"none\"/>\n",
              "    <path d=\"M18.56 5.44l.94 2.06.94-2.06 2.06-.94-2.06-.94-.94-2.06-.94 2.06-2.06.94zm-11 1L8.5 8.5l.94-2.06 2.06-.94-2.06-.94L8.5 2.5l-.94 2.06-2.06.94zm10 10l.94 2.06.94-2.06 2.06-.94-2.06-.94-.94-2.06-.94 2.06-2.06.94z\"/><path d=\"M17.41 7.96l-1.37-1.37c-.4-.4-.92-.59-1.43-.59-.52 0-1.04.2-1.43.59L10.3 9.45l-7.72 7.72c-.78.78-.78 2.05 0 2.83L4 21.41c.39.39.9.59 1.41.59.51 0 1.02-.2 1.41-.59l7.78-7.78 2.81-2.81c.8-.78.8-2.07 0-2.86zM5.41 20L4 18.59l7.72-7.72 1.47 1.35L5.41 20z\"/>\n",
              "  </svg>\n",
              "      </button>\n",
              "      \n",
              "  <style>\n",
              "    .colab-df-container {\n",
              "      display:flex;\n",
              "      flex-wrap:wrap;\n",
              "      gap: 12px;\n",
              "    }\n",
              "\n",
              "    .colab-df-convert {\n",
              "      background-color: #E8F0FE;\n",
              "      border: none;\n",
              "      border-radius: 50%;\n",
              "      cursor: pointer;\n",
              "      display: none;\n",
              "      fill: #1967D2;\n",
              "      height: 32px;\n",
              "      padding: 0 0 0 0;\n",
              "      width: 32px;\n",
              "    }\n",
              "\n",
              "    .colab-df-convert:hover {\n",
              "      background-color: #E2EBFA;\n",
              "      box-shadow: 0px 1px 2px rgba(60, 64, 67, 0.3), 0px 1px 3px 1px rgba(60, 64, 67, 0.15);\n",
              "      fill: #174EA6;\n",
              "    }\n",
              "\n",
              "    [theme=dark] .colab-df-convert {\n",
              "      background-color: #3B4455;\n",
              "      fill: #D2E3FC;\n",
              "    }\n",
              "\n",
              "    [theme=dark] .colab-df-convert:hover {\n",
              "      background-color: #434B5C;\n",
              "      box-shadow: 0px 1px 3px 1px rgba(0, 0, 0, 0.15);\n",
              "      filter: drop-shadow(0px 1px 2px rgba(0, 0, 0, 0.3));\n",
              "      fill: #FFFFFF;\n",
              "    }\n",
              "  </style>\n",
              "\n",
              "      <script>\n",
              "        const buttonEl =\n",
              "          document.querySelector('#df-47a1ef86-80fe-42a4-a806-9f019d06d056 button.colab-df-convert');\n",
              "        buttonEl.style.display =\n",
              "          google.colab.kernel.accessAllowed ? 'block' : 'none';\n",
              "\n",
              "        async function convertToInteractive(key) {\n",
              "          const element = document.querySelector('#df-47a1ef86-80fe-42a4-a806-9f019d06d056');\n",
              "          const dataTable =\n",
              "            await google.colab.kernel.invokeFunction('convertToInteractive',\n",
              "                                                     [key], {});\n",
              "          if (!dataTable) return;\n",
              "\n",
              "          const docLinkHtml = 'Like what you see? Visit the ' +\n",
              "            '<a target=\"_blank\" href=https://colab.research.google.com/notebooks/data_table.ipynb>data table notebook</a>'\n",
              "            + ' to learn more about interactive tables.';\n",
              "          element.innerHTML = '';\n",
              "          dataTable['output_type'] = 'display_data';\n",
              "          await google.colab.output.renderOutput(dataTable, element);\n",
              "          const docLink = document.createElement('div');\n",
              "          docLink.innerHTML = docLinkHtml;\n",
              "          element.appendChild(docLink);\n",
              "        }\n",
              "      </script>\n",
              "    </div>\n",
              "  </div>\n",
              "  "
            ]
          },
          "metadata": {},
          "execution_count": 49
        }
      ]
    },
    {
      "cell_type": "code",
      "source": [
        "test_df.isnull().sum() #checking null values in test dataset"
      ],
      "metadata": {
        "colab": {
          "base_uri": "https://localhost:8080/"
        },
        "id": "hE0JGmUf3eMj",
        "outputId": "eb40f4b8-1d5b-4ce3-ec9f-ca97666bc30c"
      },
      "execution_count": null,
      "outputs": [
        {
          "output_type": "execute_result",
          "data": {
            "text/plain": [
              "PassengerId      0\n",
              "Pclass           0\n",
              "Name             0\n",
              "Sex              0\n",
              "Age             86\n",
              "SibSp            0\n",
              "Parch            0\n",
              "Ticket           0\n",
              "Fare             1\n",
              "Cabin          327\n",
              "Embarked         0\n",
              "dtype: int64"
            ]
          },
          "metadata": {},
          "execution_count": 50
        }
      ]
    },
    {
      "cell_type": "markdown",
      "source": [
        "Age, Cabin and Fare columns have null values"
      ],
      "metadata": {
        "id": "1z621i319Uh7"
      }
    },
    {
      "cell_type": "code",
      "source": [
        "#Filling null values of cabin column in train dataset\n",
        "train_df.loc[train_df['Cabin'].isnull() & (train_df['Pclass'] == 1), 'Cabin'] = 'A'\n",
        "train_df.loc[train_df['Cabin'].isnull() & (train_df['Pclass'] == 2), 'Cabin'] = 'D'\n",
        "train_df.loc[train_df['Cabin'].isnull() & (train_df['Pclass'] == 3), 'Cabin'] = 'G'"
      ],
      "metadata": {
        "id": "MDvu7KtE4nNv"
      },
      "execution_count": null,
      "outputs": []
    },
    {
      "cell_type": "markdown",
      "source": [
        "Fill null values based on another column: If another column that is related to the cabin column, such as the passenger class or the fare, I can use that information to fill in the null values. For example, I could assume that passengers in higher classes or with higher fares were more likely to have cabins"
      ],
      "metadata": {
        "id": "yArcxfSGiLml"
      }
    },
    {
      "cell_type": "code",
      "source": [
        "#filling null values of cabin column in test dataset\n",
        "test_df.loc[test_df['Cabin'].isnull() & (test_df['Pclass'] == 1), 'Cabin'] = 'A'\n",
        "test_df.loc[test_df['Cabin'].isnull() & (test_df['Pclass'] == 2), 'Cabin'] = 'D'\n",
        "test_df.loc[test_df['Cabin'].isnull() & (test_df['Pclass'] == 3), 'Cabin'] = 'G'"
      ],
      "metadata": {
        "id": "ad2ZuTSRrSeO"
      },
      "execution_count": null,
      "outputs": []
    },
    {
      "cell_type": "code",
      "source": [
        "train_df"
      ],
      "metadata": {
        "colab": {
          "base_uri": "https://localhost:8080/",
          "height": 502
        },
        "id": "iqtHE3WfWz9M",
        "outputId": "4cee8cf4-5e15-4ac7-dba6-159db95a7d04"
      },
      "execution_count": null,
      "outputs": [
        {
          "output_type": "execute_result",
          "data": {
            "text/plain": [
              "     PassengerId  Survived  Pclass  \\\n",
              "0              1         0       3   \n",
              "1              2         1       1   \n",
              "2              3         1       3   \n",
              "3              4         1       1   \n",
              "4              5         0       3   \n",
              "..           ...       ...     ...   \n",
              "886          887         0       2   \n",
              "887          888         1       1   \n",
              "888          889         0       3   \n",
              "889          890         1       1   \n",
              "890          891         0       3   \n",
              "\n",
              "                                                  Name     Sex   Age  SibSp  \\\n",
              "0                              Braund, Mr. Owen Harris    male  22.0      1   \n",
              "1    Cumings, Mrs. John Bradley (Florence Briggs Th...  female  38.0      1   \n",
              "2                               Heikkinen, Miss. Laina  female  26.0      0   \n",
              "3         Futrelle, Mrs. Jacques Heath (Lily May Peel)  female  35.0      1   \n",
              "4                             Allen, Mr. William Henry    male  35.0      0   \n",
              "..                                                 ...     ...   ...    ...   \n",
              "886                              Montvila, Rev. Juozas    male  27.0      0   \n",
              "887                       Graham, Miss. Margaret Edith  female  19.0      0   \n",
              "888           Johnston, Miss. Catherine Helen \"Carrie\"  female   NaN      1   \n",
              "889                              Behr, Mr. Karl Howell    male  26.0      0   \n",
              "890                                Dooley, Mr. Patrick    male  32.0      0   \n",
              "\n",
              "     Parch            Ticket     Fare Cabin Embarked  \n",
              "0        0         A/5 21171   7.2500     G        S  \n",
              "1        0          PC 17599  71.2833   C85        C  \n",
              "2        0  STON/O2. 3101282   7.9250     G        S  \n",
              "3        0            113803  53.1000  C123        S  \n",
              "4        0            373450   8.0500     G        S  \n",
              "..     ...               ...      ...   ...      ...  \n",
              "886      0            211536  13.0000     D        S  \n",
              "887      0            112053  30.0000   B42        S  \n",
              "888      2        W./C. 6607  23.4500     G        S  \n",
              "889      0            111369  30.0000  C148        C  \n",
              "890      0            370376   7.7500     G        Q  \n",
              "\n",
              "[891 rows x 12 columns]"
            ],
            "text/html": [
              "\n",
              "  <div id=\"df-98c61460-ea6c-4f3a-97cf-6e125e1ee45c\">\n",
              "    <div class=\"colab-df-container\">\n",
              "      <div>\n",
              "<style scoped>\n",
              "    .dataframe tbody tr th:only-of-type {\n",
              "        vertical-align: middle;\n",
              "    }\n",
              "\n",
              "    .dataframe tbody tr th {\n",
              "        vertical-align: top;\n",
              "    }\n",
              "\n",
              "    .dataframe thead th {\n",
              "        text-align: right;\n",
              "    }\n",
              "</style>\n",
              "<table border=\"1\" class=\"dataframe\">\n",
              "  <thead>\n",
              "    <tr style=\"text-align: right;\">\n",
              "      <th></th>\n",
              "      <th>PassengerId</th>\n",
              "      <th>Survived</th>\n",
              "      <th>Pclass</th>\n",
              "      <th>Name</th>\n",
              "      <th>Sex</th>\n",
              "      <th>Age</th>\n",
              "      <th>SibSp</th>\n",
              "      <th>Parch</th>\n",
              "      <th>Ticket</th>\n",
              "      <th>Fare</th>\n",
              "      <th>Cabin</th>\n",
              "      <th>Embarked</th>\n",
              "    </tr>\n",
              "  </thead>\n",
              "  <tbody>\n",
              "    <tr>\n",
              "      <th>0</th>\n",
              "      <td>1</td>\n",
              "      <td>0</td>\n",
              "      <td>3</td>\n",
              "      <td>Braund, Mr. Owen Harris</td>\n",
              "      <td>male</td>\n",
              "      <td>22.0</td>\n",
              "      <td>1</td>\n",
              "      <td>0</td>\n",
              "      <td>A/5 21171</td>\n",
              "      <td>7.2500</td>\n",
              "      <td>G</td>\n",
              "      <td>S</td>\n",
              "    </tr>\n",
              "    <tr>\n",
              "      <th>1</th>\n",
              "      <td>2</td>\n",
              "      <td>1</td>\n",
              "      <td>1</td>\n",
              "      <td>Cumings, Mrs. John Bradley (Florence Briggs Th...</td>\n",
              "      <td>female</td>\n",
              "      <td>38.0</td>\n",
              "      <td>1</td>\n",
              "      <td>0</td>\n",
              "      <td>PC 17599</td>\n",
              "      <td>71.2833</td>\n",
              "      <td>C85</td>\n",
              "      <td>C</td>\n",
              "    </tr>\n",
              "    <tr>\n",
              "      <th>2</th>\n",
              "      <td>3</td>\n",
              "      <td>1</td>\n",
              "      <td>3</td>\n",
              "      <td>Heikkinen, Miss. Laina</td>\n",
              "      <td>female</td>\n",
              "      <td>26.0</td>\n",
              "      <td>0</td>\n",
              "      <td>0</td>\n",
              "      <td>STON/O2. 3101282</td>\n",
              "      <td>7.9250</td>\n",
              "      <td>G</td>\n",
              "      <td>S</td>\n",
              "    </tr>\n",
              "    <tr>\n",
              "      <th>3</th>\n",
              "      <td>4</td>\n",
              "      <td>1</td>\n",
              "      <td>1</td>\n",
              "      <td>Futrelle, Mrs. Jacques Heath (Lily May Peel)</td>\n",
              "      <td>female</td>\n",
              "      <td>35.0</td>\n",
              "      <td>1</td>\n",
              "      <td>0</td>\n",
              "      <td>113803</td>\n",
              "      <td>53.1000</td>\n",
              "      <td>C123</td>\n",
              "      <td>S</td>\n",
              "    </tr>\n",
              "    <tr>\n",
              "      <th>4</th>\n",
              "      <td>5</td>\n",
              "      <td>0</td>\n",
              "      <td>3</td>\n",
              "      <td>Allen, Mr. William Henry</td>\n",
              "      <td>male</td>\n",
              "      <td>35.0</td>\n",
              "      <td>0</td>\n",
              "      <td>0</td>\n",
              "      <td>373450</td>\n",
              "      <td>8.0500</td>\n",
              "      <td>G</td>\n",
              "      <td>S</td>\n",
              "    </tr>\n",
              "    <tr>\n",
              "      <th>...</th>\n",
              "      <td>...</td>\n",
              "      <td>...</td>\n",
              "      <td>...</td>\n",
              "      <td>...</td>\n",
              "      <td>...</td>\n",
              "      <td>...</td>\n",
              "      <td>...</td>\n",
              "      <td>...</td>\n",
              "      <td>...</td>\n",
              "      <td>...</td>\n",
              "      <td>...</td>\n",
              "      <td>...</td>\n",
              "    </tr>\n",
              "    <tr>\n",
              "      <th>886</th>\n",
              "      <td>887</td>\n",
              "      <td>0</td>\n",
              "      <td>2</td>\n",
              "      <td>Montvila, Rev. Juozas</td>\n",
              "      <td>male</td>\n",
              "      <td>27.0</td>\n",
              "      <td>0</td>\n",
              "      <td>0</td>\n",
              "      <td>211536</td>\n",
              "      <td>13.0000</td>\n",
              "      <td>D</td>\n",
              "      <td>S</td>\n",
              "    </tr>\n",
              "    <tr>\n",
              "      <th>887</th>\n",
              "      <td>888</td>\n",
              "      <td>1</td>\n",
              "      <td>1</td>\n",
              "      <td>Graham, Miss. Margaret Edith</td>\n",
              "      <td>female</td>\n",
              "      <td>19.0</td>\n",
              "      <td>0</td>\n",
              "      <td>0</td>\n",
              "      <td>112053</td>\n",
              "      <td>30.0000</td>\n",
              "      <td>B42</td>\n",
              "      <td>S</td>\n",
              "    </tr>\n",
              "    <tr>\n",
              "      <th>888</th>\n",
              "      <td>889</td>\n",
              "      <td>0</td>\n",
              "      <td>3</td>\n",
              "      <td>Johnston, Miss. Catherine Helen \"Carrie\"</td>\n",
              "      <td>female</td>\n",
              "      <td>NaN</td>\n",
              "      <td>1</td>\n",
              "      <td>2</td>\n",
              "      <td>W./C. 6607</td>\n",
              "      <td>23.4500</td>\n",
              "      <td>G</td>\n",
              "      <td>S</td>\n",
              "    </tr>\n",
              "    <tr>\n",
              "      <th>889</th>\n",
              "      <td>890</td>\n",
              "      <td>1</td>\n",
              "      <td>1</td>\n",
              "      <td>Behr, Mr. Karl Howell</td>\n",
              "      <td>male</td>\n",
              "      <td>26.0</td>\n",
              "      <td>0</td>\n",
              "      <td>0</td>\n",
              "      <td>111369</td>\n",
              "      <td>30.0000</td>\n",
              "      <td>C148</td>\n",
              "      <td>C</td>\n",
              "    </tr>\n",
              "    <tr>\n",
              "      <th>890</th>\n",
              "      <td>891</td>\n",
              "      <td>0</td>\n",
              "      <td>3</td>\n",
              "      <td>Dooley, Mr. Patrick</td>\n",
              "      <td>male</td>\n",
              "      <td>32.0</td>\n",
              "      <td>0</td>\n",
              "      <td>0</td>\n",
              "      <td>370376</td>\n",
              "      <td>7.7500</td>\n",
              "      <td>G</td>\n",
              "      <td>Q</td>\n",
              "    </tr>\n",
              "  </tbody>\n",
              "</table>\n",
              "<p>891 rows × 12 columns</p>\n",
              "</div>\n",
              "      <button class=\"colab-df-convert\" onclick=\"convertToInteractive('df-98c61460-ea6c-4f3a-97cf-6e125e1ee45c')\"\n",
              "              title=\"Convert this dataframe to an interactive table.\"\n",
              "              style=\"display:none;\">\n",
              "        \n",
              "  <svg xmlns=\"http://www.w3.org/2000/svg\" height=\"24px\"viewBox=\"0 0 24 24\"\n",
              "       width=\"24px\">\n",
              "    <path d=\"M0 0h24v24H0V0z\" fill=\"none\"/>\n",
              "    <path d=\"M18.56 5.44l.94 2.06.94-2.06 2.06-.94-2.06-.94-.94-2.06-.94 2.06-2.06.94zm-11 1L8.5 8.5l.94-2.06 2.06-.94-2.06-.94L8.5 2.5l-.94 2.06-2.06.94zm10 10l.94 2.06.94-2.06 2.06-.94-2.06-.94-.94-2.06-.94 2.06-2.06.94z\"/><path d=\"M17.41 7.96l-1.37-1.37c-.4-.4-.92-.59-1.43-.59-.52 0-1.04.2-1.43.59L10.3 9.45l-7.72 7.72c-.78.78-.78 2.05 0 2.83L4 21.41c.39.39.9.59 1.41.59.51 0 1.02-.2 1.41-.59l7.78-7.78 2.81-2.81c.8-.78.8-2.07 0-2.86zM5.41 20L4 18.59l7.72-7.72 1.47 1.35L5.41 20z\"/>\n",
              "  </svg>\n",
              "      </button>\n",
              "      \n",
              "  <style>\n",
              "    .colab-df-container {\n",
              "      display:flex;\n",
              "      flex-wrap:wrap;\n",
              "      gap: 12px;\n",
              "    }\n",
              "\n",
              "    .colab-df-convert {\n",
              "      background-color: #E8F0FE;\n",
              "      border: none;\n",
              "      border-radius: 50%;\n",
              "      cursor: pointer;\n",
              "      display: none;\n",
              "      fill: #1967D2;\n",
              "      height: 32px;\n",
              "      padding: 0 0 0 0;\n",
              "      width: 32px;\n",
              "    }\n",
              "\n",
              "    .colab-df-convert:hover {\n",
              "      background-color: #E2EBFA;\n",
              "      box-shadow: 0px 1px 2px rgba(60, 64, 67, 0.3), 0px 1px 3px 1px rgba(60, 64, 67, 0.15);\n",
              "      fill: #174EA6;\n",
              "    }\n",
              "\n",
              "    [theme=dark] .colab-df-convert {\n",
              "      background-color: #3B4455;\n",
              "      fill: #D2E3FC;\n",
              "    }\n",
              "\n",
              "    [theme=dark] .colab-df-convert:hover {\n",
              "      background-color: #434B5C;\n",
              "      box-shadow: 0px 1px 3px 1px rgba(0, 0, 0, 0.15);\n",
              "      filter: drop-shadow(0px 1px 2px rgba(0, 0, 0, 0.3));\n",
              "      fill: #FFFFFF;\n",
              "    }\n",
              "  </style>\n",
              "\n",
              "      <script>\n",
              "        const buttonEl =\n",
              "          document.querySelector('#df-98c61460-ea6c-4f3a-97cf-6e125e1ee45c button.colab-df-convert');\n",
              "        buttonEl.style.display =\n",
              "          google.colab.kernel.accessAllowed ? 'block' : 'none';\n",
              "\n",
              "        async function convertToInteractive(key) {\n",
              "          const element = document.querySelector('#df-98c61460-ea6c-4f3a-97cf-6e125e1ee45c');\n",
              "          const dataTable =\n",
              "            await google.colab.kernel.invokeFunction('convertToInteractive',\n",
              "                                                     [key], {});\n",
              "          if (!dataTable) return;\n",
              "\n",
              "          const docLinkHtml = 'Like what you see? Visit the ' +\n",
              "            '<a target=\"_blank\" href=https://colab.research.google.com/notebooks/data_table.ipynb>data table notebook</a>'\n",
              "            + ' to learn more about interactive tables.';\n",
              "          element.innerHTML = '';\n",
              "          dataTable['output_type'] = 'display_data';\n",
              "          await google.colab.output.renderOutput(dataTable, element);\n",
              "          const docLink = document.createElement('div');\n",
              "          docLink.innerHTML = docLinkHtml;\n",
              "          element.appendChild(docLink);\n",
              "        }\n",
              "      </script>\n",
              "    </div>\n",
              "  </div>\n",
              "  "
            ]
          },
          "metadata": {},
          "execution_count": 53
        }
      ]
    },
    {
      "cell_type": "code",
      "source": [
        "test_df"
      ],
      "metadata": {
        "colab": {
          "base_uri": "https://localhost:8080/",
          "height": 423
        },
        "id": "-jdzSR2OrahT",
        "outputId": "5f5fac39-b0c4-41ef-928d-5bf748770350"
      },
      "execution_count": null,
      "outputs": [
        {
          "output_type": "execute_result",
          "data": {
            "text/plain": [
              "     PassengerId  Pclass                                          Name  \\\n",
              "0            892       3                              Kelly, Mr. James   \n",
              "1            893       3              Wilkes, Mrs. James (Ellen Needs)   \n",
              "2            894       2                     Myles, Mr. Thomas Francis   \n",
              "3            895       3                              Wirz, Mr. Albert   \n",
              "4            896       3  Hirvonen, Mrs. Alexander (Helga E Lindqvist)   \n",
              "..           ...     ...                                           ...   \n",
              "413         1305       3                            Spector, Mr. Woolf   \n",
              "414         1306       1                  Oliva y Ocana, Dona. Fermina   \n",
              "415         1307       3                  Saether, Mr. Simon Sivertsen   \n",
              "416         1308       3                           Ware, Mr. Frederick   \n",
              "417         1309       3                      Peter, Master. Michael J   \n",
              "\n",
              "        Sex   Age  SibSp  Parch              Ticket      Fare Cabin Embarked  \n",
              "0      male  34.5      0      0              330911    7.8292     G        Q  \n",
              "1    female  47.0      1      0              363272    7.0000     G        S  \n",
              "2      male  62.0      0      0              240276    9.6875     D        Q  \n",
              "3      male  27.0      0      0              315154    8.6625     G        S  \n",
              "4    female  22.0      1      1             3101298   12.2875     G        S  \n",
              "..      ...   ...    ...    ...                 ...       ...   ...      ...  \n",
              "413    male   NaN      0      0           A.5. 3236    8.0500     G        S  \n",
              "414  female  39.0      0      0            PC 17758  108.9000  C105        C  \n",
              "415    male  38.5      0      0  SOTON/O.Q. 3101262    7.2500     G        S  \n",
              "416    male   NaN      0      0              359309    8.0500     G        S  \n",
              "417    male   NaN      1      1                2668   22.3583     G        C  \n",
              "\n",
              "[418 rows x 11 columns]"
            ],
            "text/html": [
              "\n",
              "  <div id=\"df-b19a4c0f-c672-4bcc-8d4e-be48e7b72016\">\n",
              "    <div class=\"colab-df-container\">\n",
              "      <div>\n",
              "<style scoped>\n",
              "    .dataframe tbody tr th:only-of-type {\n",
              "        vertical-align: middle;\n",
              "    }\n",
              "\n",
              "    .dataframe tbody tr th {\n",
              "        vertical-align: top;\n",
              "    }\n",
              "\n",
              "    .dataframe thead th {\n",
              "        text-align: right;\n",
              "    }\n",
              "</style>\n",
              "<table border=\"1\" class=\"dataframe\">\n",
              "  <thead>\n",
              "    <tr style=\"text-align: right;\">\n",
              "      <th></th>\n",
              "      <th>PassengerId</th>\n",
              "      <th>Pclass</th>\n",
              "      <th>Name</th>\n",
              "      <th>Sex</th>\n",
              "      <th>Age</th>\n",
              "      <th>SibSp</th>\n",
              "      <th>Parch</th>\n",
              "      <th>Ticket</th>\n",
              "      <th>Fare</th>\n",
              "      <th>Cabin</th>\n",
              "      <th>Embarked</th>\n",
              "    </tr>\n",
              "  </thead>\n",
              "  <tbody>\n",
              "    <tr>\n",
              "      <th>0</th>\n",
              "      <td>892</td>\n",
              "      <td>3</td>\n",
              "      <td>Kelly, Mr. James</td>\n",
              "      <td>male</td>\n",
              "      <td>34.5</td>\n",
              "      <td>0</td>\n",
              "      <td>0</td>\n",
              "      <td>330911</td>\n",
              "      <td>7.8292</td>\n",
              "      <td>G</td>\n",
              "      <td>Q</td>\n",
              "    </tr>\n",
              "    <tr>\n",
              "      <th>1</th>\n",
              "      <td>893</td>\n",
              "      <td>3</td>\n",
              "      <td>Wilkes, Mrs. James (Ellen Needs)</td>\n",
              "      <td>female</td>\n",
              "      <td>47.0</td>\n",
              "      <td>1</td>\n",
              "      <td>0</td>\n",
              "      <td>363272</td>\n",
              "      <td>7.0000</td>\n",
              "      <td>G</td>\n",
              "      <td>S</td>\n",
              "    </tr>\n",
              "    <tr>\n",
              "      <th>2</th>\n",
              "      <td>894</td>\n",
              "      <td>2</td>\n",
              "      <td>Myles, Mr. Thomas Francis</td>\n",
              "      <td>male</td>\n",
              "      <td>62.0</td>\n",
              "      <td>0</td>\n",
              "      <td>0</td>\n",
              "      <td>240276</td>\n",
              "      <td>9.6875</td>\n",
              "      <td>D</td>\n",
              "      <td>Q</td>\n",
              "    </tr>\n",
              "    <tr>\n",
              "      <th>3</th>\n",
              "      <td>895</td>\n",
              "      <td>3</td>\n",
              "      <td>Wirz, Mr. Albert</td>\n",
              "      <td>male</td>\n",
              "      <td>27.0</td>\n",
              "      <td>0</td>\n",
              "      <td>0</td>\n",
              "      <td>315154</td>\n",
              "      <td>8.6625</td>\n",
              "      <td>G</td>\n",
              "      <td>S</td>\n",
              "    </tr>\n",
              "    <tr>\n",
              "      <th>4</th>\n",
              "      <td>896</td>\n",
              "      <td>3</td>\n",
              "      <td>Hirvonen, Mrs. Alexander (Helga E Lindqvist)</td>\n",
              "      <td>female</td>\n",
              "      <td>22.0</td>\n",
              "      <td>1</td>\n",
              "      <td>1</td>\n",
              "      <td>3101298</td>\n",
              "      <td>12.2875</td>\n",
              "      <td>G</td>\n",
              "      <td>S</td>\n",
              "    </tr>\n",
              "    <tr>\n",
              "      <th>...</th>\n",
              "      <td>...</td>\n",
              "      <td>...</td>\n",
              "      <td>...</td>\n",
              "      <td>...</td>\n",
              "      <td>...</td>\n",
              "      <td>...</td>\n",
              "      <td>...</td>\n",
              "      <td>...</td>\n",
              "      <td>...</td>\n",
              "      <td>...</td>\n",
              "      <td>...</td>\n",
              "    </tr>\n",
              "    <tr>\n",
              "      <th>413</th>\n",
              "      <td>1305</td>\n",
              "      <td>3</td>\n",
              "      <td>Spector, Mr. Woolf</td>\n",
              "      <td>male</td>\n",
              "      <td>NaN</td>\n",
              "      <td>0</td>\n",
              "      <td>0</td>\n",
              "      <td>A.5. 3236</td>\n",
              "      <td>8.0500</td>\n",
              "      <td>G</td>\n",
              "      <td>S</td>\n",
              "    </tr>\n",
              "    <tr>\n",
              "      <th>414</th>\n",
              "      <td>1306</td>\n",
              "      <td>1</td>\n",
              "      <td>Oliva y Ocana, Dona. Fermina</td>\n",
              "      <td>female</td>\n",
              "      <td>39.0</td>\n",
              "      <td>0</td>\n",
              "      <td>0</td>\n",
              "      <td>PC 17758</td>\n",
              "      <td>108.9000</td>\n",
              "      <td>C105</td>\n",
              "      <td>C</td>\n",
              "    </tr>\n",
              "    <tr>\n",
              "      <th>415</th>\n",
              "      <td>1307</td>\n",
              "      <td>3</td>\n",
              "      <td>Saether, Mr. Simon Sivertsen</td>\n",
              "      <td>male</td>\n",
              "      <td>38.5</td>\n",
              "      <td>0</td>\n",
              "      <td>0</td>\n",
              "      <td>SOTON/O.Q. 3101262</td>\n",
              "      <td>7.2500</td>\n",
              "      <td>G</td>\n",
              "      <td>S</td>\n",
              "    </tr>\n",
              "    <tr>\n",
              "      <th>416</th>\n",
              "      <td>1308</td>\n",
              "      <td>3</td>\n",
              "      <td>Ware, Mr. Frederick</td>\n",
              "      <td>male</td>\n",
              "      <td>NaN</td>\n",
              "      <td>0</td>\n",
              "      <td>0</td>\n",
              "      <td>359309</td>\n",
              "      <td>8.0500</td>\n",
              "      <td>G</td>\n",
              "      <td>S</td>\n",
              "    </tr>\n",
              "    <tr>\n",
              "      <th>417</th>\n",
              "      <td>1309</td>\n",
              "      <td>3</td>\n",
              "      <td>Peter, Master. Michael J</td>\n",
              "      <td>male</td>\n",
              "      <td>NaN</td>\n",
              "      <td>1</td>\n",
              "      <td>1</td>\n",
              "      <td>2668</td>\n",
              "      <td>22.3583</td>\n",
              "      <td>G</td>\n",
              "      <td>C</td>\n",
              "    </tr>\n",
              "  </tbody>\n",
              "</table>\n",
              "<p>418 rows × 11 columns</p>\n",
              "</div>\n",
              "      <button class=\"colab-df-convert\" onclick=\"convertToInteractive('df-b19a4c0f-c672-4bcc-8d4e-be48e7b72016')\"\n",
              "              title=\"Convert this dataframe to an interactive table.\"\n",
              "              style=\"display:none;\">\n",
              "        \n",
              "  <svg xmlns=\"http://www.w3.org/2000/svg\" height=\"24px\"viewBox=\"0 0 24 24\"\n",
              "       width=\"24px\">\n",
              "    <path d=\"M0 0h24v24H0V0z\" fill=\"none\"/>\n",
              "    <path d=\"M18.56 5.44l.94 2.06.94-2.06 2.06-.94-2.06-.94-.94-2.06-.94 2.06-2.06.94zm-11 1L8.5 8.5l.94-2.06 2.06-.94-2.06-.94L8.5 2.5l-.94 2.06-2.06.94zm10 10l.94 2.06.94-2.06 2.06-.94-2.06-.94-.94-2.06-.94 2.06-2.06.94z\"/><path d=\"M17.41 7.96l-1.37-1.37c-.4-.4-.92-.59-1.43-.59-.52 0-1.04.2-1.43.59L10.3 9.45l-7.72 7.72c-.78.78-.78 2.05 0 2.83L4 21.41c.39.39.9.59 1.41.59.51 0 1.02-.2 1.41-.59l7.78-7.78 2.81-2.81c.8-.78.8-2.07 0-2.86zM5.41 20L4 18.59l7.72-7.72 1.47 1.35L5.41 20z\"/>\n",
              "  </svg>\n",
              "      </button>\n",
              "      \n",
              "  <style>\n",
              "    .colab-df-container {\n",
              "      display:flex;\n",
              "      flex-wrap:wrap;\n",
              "      gap: 12px;\n",
              "    }\n",
              "\n",
              "    .colab-df-convert {\n",
              "      background-color: #E8F0FE;\n",
              "      border: none;\n",
              "      border-radius: 50%;\n",
              "      cursor: pointer;\n",
              "      display: none;\n",
              "      fill: #1967D2;\n",
              "      height: 32px;\n",
              "      padding: 0 0 0 0;\n",
              "      width: 32px;\n",
              "    }\n",
              "\n",
              "    .colab-df-convert:hover {\n",
              "      background-color: #E2EBFA;\n",
              "      box-shadow: 0px 1px 2px rgba(60, 64, 67, 0.3), 0px 1px 3px 1px rgba(60, 64, 67, 0.15);\n",
              "      fill: #174EA6;\n",
              "    }\n",
              "\n",
              "    [theme=dark] .colab-df-convert {\n",
              "      background-color: #3B4455;\n",
              "      fill: #D2E3FC;\n",
              "    }\n",
              "\n",
              "    [theme=dark] .colab-df-convert:hover {\n",
              "      background-color: #434B5C;\n",
              "      box-shadow: 0px 1px 3px 1px rgba(0, 0, 0, 0.15);\n",
              "      filter: drop-shadow(0px 1px 2px rgba(0, 0, 0, 0.3));\n",
              "      fill: #FFFFFF;\n",
              "    }\n",
              "  </style>\n",
              "\n",
              "      <script>\n",
              "        const buttonEl =\n",
              "          document.querySelector('#df-b19a4c0f-c672-4bcc-8d4e-be48e7b72016 button.colab-df-convert');\n",
              "        buttonEl.style.display =\n",
              "          google.colab.kernel.accessAllowed ? 'block' : 'none';\n",
              "\n",
              "        async function convertToInteractive(key) {\n",
              "          const element = document.querySelector('#df-b19a4c0f-c672-4bcc-8d4e-be48e7b72016');\n",
              "          const dataTable =\n",
              "            await google.colab.kernel.invokeFunction('convertToInteractive',\n",
              "                                                     [key], {});\n",
              "          if (!dataTable) return;\n",
              "\n",
              "          const docLinkHtml = 'Like what you see? Visit the ' +\n",
              "            '<a target=\"_blank\" href=https://colab.research.google.com/notebooks/data_table.ipynb>data table notebook</a>'\n",
              "            + ' to learn more about interactive tables.';\n",
              "          element.innerHTML = '';\n",
              "          dataTable['output_type'] = 'display_data';\n",
              "          await google.colab.output.renderOutput(dataTable, element);\n",
              "          const docLink = document.createElement('div');\n",
              "          docLink.innerHTML = docLinkHtml;\n",
              "          element.appendChild(docLink);\n",
              "        }\n",
              "      </script>\n",
              "    </div>\n",
              "  </div>\n",
              "  "
            ]
          },
          "metadata": {},
          "execution_count": 54
        }
      ]
    },
    {
      "cell_type": "code",
      "source": [
        "#fill null values with median of Pclass and Age, to fill Age column in train data\n",
        "train_df['Age'] = train_df.groupby('Pclass')['Age'].transform(lambda x: x.fillna(x.median()))"
      ],
      "metadata": {
        "id": "8OAZoCmeXXNK"
      },
      "execution_count": null,
      "outputs": []
    },
    {
      "cell_type": "markdown",
      "source": [
        "The 'groupby' method is used to group the data by 'Pclass', and then the 'transform' method is used to apply the 'fillna' function to each group. The 'fillna' function fills the null values with the median age of each group. Finally, the 'Age' column is updated with the filled values.\n",
        "\n",
        "Overall, this code is a good way to handle missing values in the 'Age' column, taking into account the relationship between age and passenger class."
      ],
      "metadata": {
        "id": "uD3sS-8skVQV"
      }
    },
    {
      "cell_type": "code",
      "source": [
        "#fill null values with median of Pclass and Age to Age column in test data\n",
        "test_df['Age'] = test_df.groupby('Pclass')['Age'].transform(lambda x: x.fillna(x.median()))"
      ],
      "metadata": {
        "id": "g2TM1NIBrsSz"
      },
      "execution_count": null,
      "outputs": []
    },
    {
      "cell_type": "code",
      "source": [
        "train_df"
      ],
      "metadata": {
        "colab": {
          "base_uri": "https://localhost:8080/",
          "height": 502
        },
        "id": "L_vmIAZIY-PC",
        "outputId": "33912202-0533-4f23-b5e9-e44093c6eb3a"
      },
      "execution_count": null,
      "outputs": [
        {
          "output_type": "execute_result",
          "data": {
            "text/plain": [
              "     PassengerId  Survived  Pclass  \\\n",
              "0              1         0       3   \n",
              "1              2         1       1   \n",
              "2              3         1       3   \n",
              "3              4         1       1   \n",
              "4              5         0       3   \n",
              "..           ...       ...     ...   \n",
              "886          887         0       2   \n",
              "887          888         1       1   \n",
              "888          889         0       3   \n",
              "889          890         1       1   \n",
              "890          891         0       3   \n",
              "\n",
              "                                                  Name     Sex   Age  SibSp  \\\n",
              "0                              Braund, Mr. Owen Harris    male  22.0      1   \n",
              "1    Cumings, Mrs. John Bradley (Florence Briggs Th...  female  38.0      1   \n",
              "2                               Heikkinen, Miss. Laina  female  26.0      0   \n",
              "3         Futrelle, Mrs. Jacques Heath (Lily May Peel)  female  35.0      1   \n",
              "4                             Allen, Mr. William Henry    male  35.0      0   \n",
              "..                                                 ...     ...   ...    ...   \n",
              "886                              Montvila, Rev. Juozas    male  27.0      0   \n",
              "887                       Graham, Miss. Margaret Edith  female  19.0      0   \n",
              "888           Johnston, Miss. Catherine Helen \"Carrie\"  female  24.0      1   \n",
              "889                              Behr, Mr. Karl Howell    male  26.0      0   \n",
              "890                                Dooley, Mr. Patrick    male  32.0      0   \n",
              "\n",
              "     Parch            Ticket     Fare Cabin Embarked  \n",
              "0        0         A/5 21171   7.2500     G        S  \n",
              "1        0          PC 17599  71.2833   C85        C  \n",
              "2        0  STON/O2. 3101282   7.9250     G        S  \n",
              "3        0            113803  53.1000  C123        S  \n",
              "4        0            373450   8.0500     G        S  \n",
              "..     ...               ...      ...   ...      ...  \n",
              "886      0            211536  13.0000     D        S  \n",
              "887      0            112053  30.0000   B42        S  \n",
              "888      2        W./C. 6607  23.4500     G        S  \n",
              "889      0            111369  30.0000  C148        C  \n",
              "890      0            370376   7.7500     G        Q  \n",
              "\n",
              "[891 rows x 12 columns]"
            ],
            "text/html": [
              "\n",
              "  <div id=\"df-b6225f98-305d-4f9a-92d2-0369ef2da572\">\n",
              "    <div class=\"colab-df-container\">\n",
              "      <div>\n",
              "<style scoped>\n",
              "    .dataframe tbody tr th:only-of-type {\n",
              "        vertical-align: middle;\n",
              "    }\n",
              "\n",
              "    .dataframe tbody tr th {\n",
              "        vertical-align: top;\n",
              "    }\n",
              "\n",
              "    .dataframe thead th {\n",
              "        text-align: right;\n",
              "    }\n",
              "</style>\n",
              "<table border=\"1\" class=\"dataframe\">\n",
              "  <thead>\n",
              "    <tr style=\"text-align: right;\">\n",
              "      <th></th>\n",
              "      <th>PassengerId</th>\n",
              "      <th>Survived</th>\n",
              "      <th>Pclass</th>\n",
              "      <th>Name</th>\n",
              "      <th>Sex</th>\n",
              "      <th>Age</th>\n",
              "      <th>SibSp</th>\n",
              "      <th>Parch</th>\n",
              "      <th>Ticket</th>\n",
              "      <th>Fare</th>\n",
              "      <th>Cabin</th>\n",
              "      <th>Embarked</th>\n",
              "    </tr>\n",
              "  </thead>\n",
              "  <tbody>\n",
              "    <tr>\n",
              "      <th>0</th>\n",
              "      <td>1</td>\n",
              "      <td>0</td>\n",
              "      <td>3</td>\n",
              "      <td>Braund, Mr. Owen Harris</td>\n",
              "      <td>male</td>\n",
              "      <td>22.0</td>\n",
              "      <td>1</td>\n",
              "      <td>0</td>\n",
              "      <td>A/5 21171</td>\n",
              "      <td>7.2500</td>\n",
              "      <td>G</td>\n",
              "      <td>S</td>\n",
              "    </tr>\n",
              "    <tr>\n",
              "      <th>1</th>\n",
              "      <td>2</td>\n",
              "      <td>1</td>\n",
              "      <td>1</td>\n",
              "      <td>Cumings, Mrs. John Bradley (Florence Briggs Th...</td>\n",
              "      <td>female</td>\n",
              "      <td>38.0</td>\n",
              "      <td>1</td>\n",
              "      <td>0</td>\n",
              "      <td>PC 17599</td>\n",
              "      <td>71.2833</td>\n",
              "      <td>C85</td>\n",
              "      <td>C</td>\n",
              "    </tr>\n",
              "    <tr>\n",
              "      <th>2</th>\n",
              "      <td>3</td>\n",
              "      <td>1</td>\n",
              "      <td>3</td>\n",
              "      <td>Heikkinen, Miss. Laina</td>\n",
              "      <td>female</td>\n",
              "      <td>26.0</td>\n",
              "      <td>0</td>\n",
              "      <td>0</td>\n",
              "      <td>STON/O2. 3101282</td>\n",
              "      <td>7.9250</td>\n",
              "      <td>G</td>\n",
              "      <td>S</td>\n",
              "    </tr>\n",
              "    <tr>\n",
              "      <th>3</th>\n",
              "      <td>4</td>\n",
              "      <td>1</td>\n",
              "      <td>1</td>\n",
              "      <td>Futrelle, Mrs. Jacques Heath (Lily May Peel)</td>\n",
              "      <td>female</td>\n",
              "      <td>35.0</td>\n",
              "      <td>1</td>\n",
              "      <td>0</td>\n",
              "      <td>113803</td>\n",
              "      <td>53.1000</td>\n",
              "      <td>C123</td>\n",
              "      <td>S</td>\n",
              "    </tr>\n",
              "    <tr>\n",
              "      <th>4</th>\n",
              "      <td>5</td>\n",
              "      <td>0</td>\n",
              "      <td>3</td>\n",
              "      <td>Allen, Mr. William Henry</td>\n",
              "      <td>male</td>\n",
              "      <td>35.0</td>\n",
              "      <td>0</td>\n",
              "      <td>0</td>\n",
              "      <td>373450</td>\n",
              "      <td>8.0500</td>\n",
              "      <td>G</td>\n",
              "      <td>S</td>\n",
              "    </tr>\n",
              "    <tr>\n",
              "      <th>...</th>\n",
              "      <td>...</td>\n",
              "      <td>...</td>\n",
              "      <td>...</td>\n",
              "      <td>...</td>\n",
              "      <td>...</td>\n",
              "      <td>...</td>\n",
              "      <td>...</td>\n",
              "      <td>...</td>\n",
              "      <td>...</td>\n",
              "      <td>...</td>\n",
              "      <td>...</td>\n",
              "      <td>...</td>\n",
              "    </tr>\n",
              "    <tr>\n",
              "      <th>886</th>\n",
              "      <td>887</td>\n",
              "      <td>0</td>\n",
              "      <td>2</td>\n",
              "      <td>Montvila, Rev. Juozas</td>\n",
              "      <td>male</td>\n",
              "      <td>27.0</td>\n",
              "      <td>0</td>\n",
              "      <td>0</td>\n",
              "      <td>211536</td>\n",
              "      <td>13.0000</td>\n",
              "      <td>D</td>\n",
              "      <td>S</td>\n",
              "    </tr>\n",
              "    <tr>\n",
              "      <th>887</th>\n",
              "      <td>888</td>\n",
              "      <td>1</td>\n",
              "      <td>1</td>\n",
              "      <td>Graham, Miss. Margaret Edith</td>\n",
              "      <td>female</td>\n",
              "      <td>19.0</td>\n",
              "      <td>0</td>\n",
              "      <td>0</td>\n",
              "      <td>112053</td>\n",
              "      <td>30.0000</td>\n",
              "      <td>B42</td>\n",
              "      <td>S</td>\n",
              "    </tr>\n",
              "    <tr>\n",
              "      <th>888</th>\n",
              "      <td>889</td>\n",
              "      <td>0</td>\n",
              "      <td>3</td>\n",
              "      <td>Johnston, Miss. Catherine Helen \"Carrie\"</td>\n",
              "      <td>female</td>\n",
              "      <td>24.0</td>\n",
              "      <td>1</td>\n",
              "      <td>2</td>\n",
              "      <td>W./C. 6607</td>\n",
              "      <td>23.4500</td>\n",
              "      <td>G</td>\n",
              "      <td>S</td>\n",
              "    </tr>\n",
              "    <tr>\n",
              "      <th>889</th>\n",
              "      <td>890</td>\n",
              "      <td>1</td>\n",
              "      <td>1</td>\n",
              "      <td>Behr, Mr. Karl Howell</td>\n",
              "      <td>male</td>\n",
              "      <td>26.0</td>\n",
              "      <td>0</td>\n",
              "      <td>0</td>\n",
              "      <td>111369</td>\n",
              "      <td>30.0000</td>\n",
              "      <td>C148</td>\n",
              "      <td>C</td>\n",
              "    </tr>\n",
              "    <tr>\n",
              "      <th>890</th>\n",
              "      <td>891</td>\n",
              "      <td>0</td>\n",
              "      <td>3</td>\n",
              "      <td>Dooley, Mr. Patrick</td>\n",
              "      <td>male</td>\n",
              "      <td>32.0</td>\n",
              "      <td>0</td>\n",
              "      <td>0</td>\n",
              "      <td>370376</td>\n",
              "      <td>7.7500</td>\n",
              "      <td>G</td>\n",
              "      <td>Q</td>\n",
              "    </tr>\n",
              "  </tbody>\n",
              "</table>\n",
              "<p>891 rows × 12 columns</p>\n",
              "</div>\n",
              "      <button class=\"colab-df-convert\" onclick=\"convertToInteractive('df-b6225f98-305d-4f9a-92d2-0369ef2da572')\"\n",
              "              title=\"Convert this dataframe to an interactive table.\"\n",
              "              style=\"display:none;\">\n",
              "        \n",
              "  <svg xmlns=\"http://www.w3.org/2000/svg\" height=\"24px\"viewBox=\"0 0 24 24\"\n",
              "       width=\"24px\">\n",
              "    <path d=\"M0 0h24v24H0V0z\" fill=\"none\"/>\n",
              "    <path d=\"M18.56 5.44l.94 2.06.94-2.06 2.06-.94-2.06-.94-.94-2.06-.94 2.06-2.06.94zm-11 1L8.5 8.5l.94-2.06 2.06-.94-2.06-.94L8.5 2.5l-.94 2.06-2.06.94zm10 10l.94 2.06.94-2.06 2.06-.94-2.06-.94-.94-2.06-.94 2.06-2.06.94z\"/><path d=\"M17.41 7.96l-1.37-1.37c-.4-.4-.92-.59-1.43-.59-.52 0-1.04.2-1.43.59L10.3 9.45l-7.72 7.72c-.78.78-.78 2.05 0 2.83L4 21.41c.39.39.9.59 1.41.59.51 0 1.02-.2 1.41-.59l7.78-7.78 2.81-2.81c.8-.78.8-2.07 0-2.86zM5.41 20L4 18.59l7.72-7.72 1.47 1.35L5.41 20z\"/>\n",
              "  </svg>\n",
              "      </button>\n",
              "      \n",
              "  <style>\n",
              "    .colab-df-container {\n",
              "      display:flex;\n",
              "      flex-wrap:wrap;\n",
              "      gap: 12px;\n",
              "    }\n",
              "\n",
              "    .colab-df-convert {\n",
              "      background-color: #E8F0FE;\n",
              "      border: none;\n",
              "      border-radius: 50%;\n",
              "      cursor: pointer;\n",
              "      display: none;\n",
              "      fill: #1967D2;\n",
              "      height: 32px;\n",
              "      padding: 0 0 0 0;\n",
              "      width: 32px;\n",
              "    }\n",
              "\n",
              "    .colab-df-convert:hover {\n",
              "      background-color: #E2EBFA;\n",
              "      box-shadow: 0px 1px 2px rgba(60, 64, 67, 0.3), 0px 1px 3px 1px rgba(60, 64, 67, 0.15);\n",
              "      fill: #174EA6;\n",
              "    }\n",
              "\n",
              "    [theme=dark] .colab-df-convert {\n",
              "      background-color: #3B4455;\n",
              "      fill: #D2E3FC;\n",
              "    }\n",
              "\n",
              "    [theme=dark] .colab-df-convert:hover {\n",
              "      background-color: #434B5C;\n",
              "      box-shadow: 0px 1px 3px 1px rgba(0, 0, 0, 0.15);\n",
              "      filter: drop-shadow(0px 1px 2px rgba(0, 0, 0, 0.3));\n",
              "      fill: #FFFFFF;\n",
              "    }\n",
              "  </style>\n",
              "\n",
              "      <script>\n",
              "        const buttonEl =\n",
              "          document.querySelector('#df-b6225f98-305d-4f9a-92d2-0369ef2da572 button.colab-df-convert');\n",
              "        buttonEl.style.display =\n",
              "          google.colab.kernel.accessAllowed ? 'block' : 'none';\n",
              "\n",
              "        async function convertToInteractive(key) {\n",
              "          const element = document.querySelector('#df-b6225f98-305d-4f9a-92d2-0369ef2da572');\n",
              "          const dataTable =\n",
              "            await google.colab.kernel.invokeFunction('convertToInteractive',\n",
              "                                                     [key], {});\n",
              "          if (!dataTable) return;\n",
              "\n",
              "          const docLinkHtml = 'Like what you see? Visit the ' +\n",
              "            '<a target=\"_blank\" href=https://colab.research.google.com/notebooks/data_table.ipynb>data table notebook</a>'\n",
              "            + ' to learn more about interactive tables.';\n",
              "          element.innerHTML = '';\n",
              "          dataTable['output_type'] = 'display_data';\n",
              "          await google.colab.output.renderOutput(dataTable, element);\n",
              "          const docLink = document.createElement('div');\n",
              "          docLink.innerHTML = docLinkHtml;\n",
              "          element.appendChild(docLink);\n",
              "        }\n",
              "      </script>\n",
              "    </div>\n",
              "  </div>\n",
              "  "
            ]
          },
          "metadata": {},
          "execution_count": 57
        }
      ]
    },
    {
      "cell_type": "code",
      "source": [
        "test_df"
      ],
      "metadata": {
        "colab": {
          "base_uri": "https://localhost:8080/",
          "height": 423
        },
        "id": "_zxoZeBMr9a4",
        "outputId": "4ce9344b-3777-4954-c4a6-f648d0b33725"
      },
      "execution_count": null,
      "outputs": [
        {
          "output_type": "execute_result",
          "data": {
            "text/plain": [
              "     PassengerId  Pclass                                          Name  \\\n",
              "0            892       3                              Kelly, Mr. James   \n",
              "1            893       3              Wilkes, Mrs. James (Ellen Needs)   \n",
              "2            894       2                     Myles, Mr. Thomas Francis   \n",
              "3            895       3                              Wirz, Mr. Albert   \n",
              "4            896       3  Hirvonen, Mrs. Alexander (Helga E Lindqvist)   \n",
              "..           ...     ...                                           ...   \n",
              "413         1305       3                            Spector, Mr. Woolf   \n",
              "414         1306       1                  Oliva y Ocana, Dona. Fermina   \n",
              "415         1307       3                  Saether, Mr. Simon Sivertsen   \n",
              "416         1308       3                           Ware, Mr. Frederick   \n",
              "417         1309       3                      Peter, Master. Michael J   \n",
              "\n",
              "        Sex   Age  SibSp  Parch              Ticket      Fare Cabin Embarked  \n",
              "0      male  34.5      0      0              330911    7.8292     G        Q  \n",
              "1    female  47.0      1      0              363272    7.0000     G        S  \n",
              "2      male  62.0      0      0              240276    9.6875     D        Q  \n",
              "3      male  27.0      0      0              315154    8.6625     G        S  \n",
              "4    female  22.0      1      1             3101298   12.2875     G        S  \n",
              "..      ...   ...    ...    ...                 ...       ...   ...      ...  \n",
              "413    male  24.0      0      0           A.5. 3236    8.0500     G        S  \n",
              "414  female  39.0      0      0            PC 17758  108.9000  C105        C  \n",
              "415    male  38.5      0      0  SOTON/O.Q. 3101262    7.2500     G        S  \n",
              "416    male  24.0      0      0              359309    8.0500     G        S  \n",
              "417    male  24.0      1      1                2668   22.3583     G        C  \n",
              "\n",
              "[418 rows x 11 columns]"
            ],
            "text/html": [
              "\n",
              "  <div id=\"df-a3e7c2d8-ca59-44d8-8398-72f932a0a5d1\">\n",
              "    <div class=\"colab-df-container\">\n",
              "      <div>\n",
              "<style scoped>\n",
              "    .dataframe tbody tr th:only-of-type {\n",
              "        vertical-align: middle;\n",
              "    }\n",
              "\n",
              "    .dataframe tbody tr th {\n",
              "        vertical-align: top;\n",
              "    }\n",
              "\n",
              "    .dataframe thead th {\n",
              "        text-align: right;\n",
              "    }\n",
              "</style>\n",
              "<table border=\"1\" class=\"dataframe\">\n",
              "  <thead>\n",
              "    <tr style=\"text-align: right;\">\n",
              "      <th></th>\n",
              "      <th>PassengerId</th>\n",
              "      <th>Pclass</th>\n",
              "      <th>Name</th>\n",
              "      <th>Sex</th>\n",
              "      <th>Age</th>\n",
              "      <th>SibSp</th>\n",
              "      <th>Parch</th>\n",
              "      <th>Ticket</th>\n",
              "      <th>Fare</th>\n",
              "      <th>Cabin</th>\n",
              "      <th>Embarked</th>\n",
              "    </tr>\n",
              "  </thead>\n",
              "  <tbody>\n",
              "    <tr>\n",
              "      <th>0</th>\n",
              "      <td>892</td>\n",
              "      <td>3</td>\n",
              "      <td>Kelly, Mr. James</td>\n",
              "      <td>male</td>\n",
              "      <td>34.5</td>\n",
              "      <td>0</td>\n",
              "      <td>0</td>\n",
              "      <td>330911</td>\n",
              "      <td>7.8292</td>\n",
              "      <td>G</td>\n",
              "      <td>Q</td>\n",
              "    </tr>\n",
              "    <tr>\n",
              "      <th>1</th>\n",
              "      <td>893</td>\n",
              "      <td>3</td>\n",
              "      <td>Wilkes, Mrs. James (Ellen Needs)</td>\n",
              "      <td>female</td>\n",
              "      <td>47.0</td>\n",
              "      <td>1</td>\n",
              "      <td>0</td>\n",
              "      <td>363272</td>\n",
              "      <td>7.0000</td>\n",
              "      <td>G</td>\n",
              "      <td>S</td>\n",
              "    </tr>\n",
              "    <tr>\n",
              "      <th>2</th>\n",
              "      <td>894</td>\n",
              "      <td>2</td>\n",
              "      <td>Myles, Mr. Thomas Francis</td>\n",
              "      <td>male</td>\n",
              "      <td>62.0</td>\n",
              "      <td>0</td>\n",
              "      <td>0</td>\n",
              "      <td>240276</td>\n",
              "      <td>9.6875</td>\n",
              "      <td>D</td>\n",
              "      <td>Q</td>\n",
              "    </tr>\n",
              "    <tr>\n",
              "      <th>3</th>\n",
              "      <td>895</td>\n",
              "      <td>3</td>\n",
              "      <td>Wirz, Mr. Albert</td>\n",
              "      <td>male</td>\n",
              "      <td>27.0</td>\n",
              "      <td>0</td>\n",
              "      <td>0</td>\n",
              "      <td>315154</td>\n",
              "      <td>8.6625</td>\n",
              "      <td>G</td>\n",
              "      <td>S</td>\n",
              "    </tr>\n",
              "    <tr>\n",
              "      <th>4</th>\n",
              "      <td>896</td>\n",
              "      <td>3</td>\n",
              "      <td>Hirvonen, Mrs. Alexander (Helga E Lindqvist)</td>\n",
              "      <td>female</td>\n",
              "      <td>22.0</td>\n",
              "      <td>1</td>\n",
              "      <td>1</td>\n",
              "      <td>3101298</td>\n",
              "      <td>12.2875</td>\n",
              "      <td>G</td>\n",
              "      <td>S</td>\n",
              "    </tr>\n",
              "    <tr>\n",
              "      <th>...</th>\n",
              "      <td>...</td>\n",
              "      <td>...</td>\n",
              "      <td>...</td>\n",
              "      <td>...</td>\n",
              "      <td>...</td>\n",
              "      <td>...</td>\n",
              "      <td>...</td>\n",
              "      <td>...</td>\n",
              "      <td>...</td>\n",
              "      <td>...</td>\n",
              "      <td>...</td>\n",
              "    </tr>\n",
              "    <tr>\n",
              "      <th>413</th>\n",
              "      <td>1305</td>\n",
              "      <td>3</td>\n",
              "      <td>Spector, Mr. Woolf</td>\n",
              "      <td>male</td>\n",
              "      <td>24.0</td>\n",
              "      <td>0</td>\n",
              "      <td>0</td>\n",
              "      <td>A.5. 3236</td>\n",
              "      <td>8.0500</td>\n",
              "      <td>G</td>\n",
              "      <td>S</td>\n",
              "    </tr>\n",
              "    <tr>\n",
              "      <th>414</th>\n",
              "      <td>1306</td>\n",
              "      <td>1</td>\n",
              "      <td>Oliva y Ocana, Dona. Fermina</td>\n",
              "      <td>female</td>\n",
              "      <td>39.0</td>\n",
              "      <td>0</td>\n",
              "      <td>0</td>\n",
              "      <td>PC 17758</td>\n",
              "      <td>108.9000</td>\n",
              "      <td>C105</td>\n",
              "      <td>C</td>\n",
              "    </tr>\n",
              "    <tr>\n",
              "      <th>415</th>\n",
              "      <td>1307</td>\n",
              "      <td>3</td>\n",
              "      <td>Saether, Mr. Simon Sivertsen</td>\n",
              "      <td>male</td>\n",
              "      <td>38.5</td>\n",
              "      <td>0</td>\n",
              "      <td>0</td>\n",
              "      <td>SOTON/O.Q. 3101262</td>\n",
              "      <td>7.2500</td>\n",
              "      <td>G</td>\n",
              "      <td>S</td>\n",
              "    </tr>\n",
              "    <tr>\n",
              "      <th>416</th>\n",
              "      <td>1308</td>\n",
              "      <td>3</td>\n",
              "      <td>Ware, Mr. Frederick</td>\n",
              "      <td>male</td>\n",
              "      <td>24.0</td>\n",
              "      <td>0</td>\n",
              "      <td>0</td>\n",
              "      <td>359309</td>\n",
              "      <td>8.0500</td>\n",
              "      <td>G</td>\n",
              "      <td>S</td>\n",
              "    </tr>\n",
              "    <tr>\n",
              "      <th>417</th>\n",
              "      <td>1309</td>\n",
              "      <td>3</td>\n",
              "      <td>Peter, Master. Michael J</td>\n",
              "      <td>male</td>\n",
              "      <td>24.0</td>\n",
              "      <td>1</td>\n",
              "      <td>1</td>\n",
              "      <td>2668</td>\n",
              "      <td>22.3583</td>\n",
              "      <td>G</td>\n",
              "      <td>C</td>\n",
              "    </tr>\n",
              "  </tbody>\n",
              "</table>\n",
              "<p>418 rows × 11 columns</p>\n",
              "</div>\n",
              "      <button class=\"colab-df-convert\" onclick=\"convertToInteractive('df-a3e7c2d8-ca59-44d8-8398-72f932a0a5d1')\"\n",
              "              title=\"Convert this dataframe to an interactive table.\"\n",
              "              style=\"display:none;\">\n",
              "        \n",
              "  <svg xmlns=\"http://www.w3.org/2000/svg\" height=\"24px\"viewBox=\"0 0 24 24\"\n",
              "       width=\"24px\">\n",
              "    <path d=\"M0 0h24v24H0V0z\" fill=\"none\"/>\n",
              "    <path d=\"M18.56 5.44l.94 2.06.94-2.06 2.06-.94-2.06-.94-.94-2.06-.94 2.06-2.06.94zm-11 1L8.5 8.5l.94-2.06 2.06-.94-2.06-.94L8.5 2.5l-.94 2.06-2.06.94zm10 10l.94 2.06.94-2.06 2.06-.94-2.06-.94-.94-2.06-.94 2.06-2.06.94z\"/><path d=\"M17.41 7.96l-1.37-1.37c-.4-.4-.92-.59-1.43-.59-.52 0-1.04.2-1.43.59L10.3 9.45l-7.72 7.72c-.78.78-.78 2.05 0 2.83L4 21.41c.39.39.9.59 1.41.59.51 0 1.02-.2 1.41-.59l7.78-7.78 2.81-2.81c.8-.78.8-2.07 0-2.86zM5.41 20L4 18.59l7.72-7.72 1.47 1.35L5.41 20z\"/>\n",
              "  </svg>\n",
              "      </button>\n",
              "      \n",
              "  <style>\n",
              "    .colab-df-container {\n",
              "      display:flex;\n",
              "      flex-wrap:wrap;\n",
              "      gap: 12px;\n",
              "    }\n",
              "\n",
              "    .colab-df-convert {\n",
              "      background-color: #E8F0FE;\n",
              "      border: none;\n",
              "      border-radius: 50%;\n",
              "      cursor: pointer;\n",
              "      display: none;\n",
              "      fill: #1967D2;\n",
              "      height: 32px;\n",
              "      padding: 0 0 0 0;\n",
              "      width: 32px;\n",
              "    }\n",
              "\n",
              "    .colab-df-convert:hover {\n",
              "      background-color: #E2EBFA;\n",
              "      box-shadow: 0px 1px 2px rgba(60, 64, 67, 0.3), 0px 1px 3px 1px rgba(60, 64, 67, 0.15);\n",
              "      fill: #174EA6;\n",
              "    }\n",
              "\n",
              "    [theme=dark] .colab-df-convert {\n",
              "      background-color: #3B4455;\n",
              "      fill: #D2E3FC;\n",
              "    }\n",
              "\n",
              "    [theme=dark] .colab-df-convert:hover {\n",
              "      background-color: #434B5C;\n",
              "      box-shadow: 0px 1px 3px 1px rgba(0, 0, 0, 0.15);\n",
              "      filter: drop-shadow(0px 1px 2px rgba(0, 0, 0, 0.3));\n",
              "      fill: #FFFFFF;\n",
              "    }\n",
              "  </style>\n",
              "\n",
              "      <script>\n",
              "        const buttonEl =\n",
              "          document.querySelector('#df-a3e7c2d8-ca59-44d8-8398-72f932a0a5d1 button.colab-df-convert');\n",
              "        buttonEl.style.display =\n",
              "          google.colab.kernel.accessAllowed ? 'block' : 'none';\n",
              "\n",
              "        async function convertToInteractive(key) {\n",
              "          const element = document.querySelector('#df-a3e7c2d8-ca59-44d8-8398-72f932a0a5d1');\n",
              "          const dataTable =\n",
              "            await google.colab.kernel.invokeFunction('convertToInteractive',\n",
              "                                                     [key], {});\n",
              "          if (!dataTable) return;\n",
              "\n",
              "          const docLinkHtml = 'Like what you see? Visit the ' +\n",
              "            '<a target=\"_blank\" href=https://colab.research.google.com/notebooks/data_table.ipynb>data table notebook</a>'\n",
              "            + ' to learn more about interactive tables.';\n",
              "          element.innerHTML = '';\n",
              "          dataTable['output_type'] = 'display_data';\n",
              "          await google.colab.output.renderOutput(dataTable, element);\n",
              "          const docLink = document.createElement('div');\n",
              "          docLink.innerHTML = docLinkHtml;\n",
              "          element.appendChild(docLink);\n",
              "        }\n",
              "      </script>\n",
              "    </div>\n",
              "  </div>\n",
              "  "
            ]
          },
          "metadata": {},
          "execution_count": 58
        }
      ]
    },
    {
      "cell_type": "code",
      "source": [
        "train_df.isnull().sum()     #checking null values"
      ],
      "metadata": {
        "colab": {
          "base_uri": "https://localhost:8080/"
        },
        "id": "11-SAfl5b6-C",
        "outputId": "be62c29e-f790-46a5-a363-de1d38baa1db"
      },
      "execution_count": null,
      "outputs": [
        {
          "output_type": "execute_result",
          "data": {
            "text/plain": [
              "PassengerId    0\n",
              "Survived       0\n",
              "Pclass         0\n",
              "Name           0\n",
              "Sex            0\n",
              "Age            0\n",
              "SibSp          0\n",
              "Parch          0\n",
              "Ticket         0\n",
              "Fare           0\n",
              "Cabin          0\n",
              "Embarked       2\n",
              "dtype: int64"
            ]
          },
          "metadata": {},
          "execution_count": 59
        }
      ]
    },
    {
      "cell_type": "code",
      "source": [
        "train_df['Embarked'].fillna(method='ffill', inplace=True)     #train_df['Embarked'].fillna(mode_embarked, inplace=True)"
      ],
      "metadata": {
        "id": "MW0fVLDpcgdm"
      },
      "execution_count": null,
      "outputs": []
    },
    {
      "cell_type": "markdown",
      "source": [
        "method='ffill' specifies the 'ffill' method, which fills missing values with the previous non-null value in the column. In other words, it forwards fills the missing values."
      ],
      "metadata": {
        "id": "lq7lQPaibwy8"
      }
    },
    {
      "cell_type": "code",
      "source": [
        "test_df['Embarked'].fillna(method='ffill', inplace=True)   #fill null values with previous non null values of Embarked column"
      ],
      "metadata": {
        "id": "U13f1T4TsSmM"
      },
      "execution_count": null,
      "outputs": []
    },
    {
      "cell_type": "code",
      "source": [
        "train_df.isnull().sum()"
      ],
      "metadata": {
        "colab": {
          "base_uri": "https://localhost:8080/"
        },
        "id": "84RiYIOddmSF",
        "outputId": "5854032c-1f0e-4c11-d9b9-6d321091d7a0"
      },
      "execution_count": null,
      "outputs": [
        {
          "output_type": "execute_result",
          "data": {
            "text/plain": [
              "PassengerId    0\n",
              "Survived       0\n",
              "Pclass         0\n",
              "Name           0\n",
              "Sex            0\n",
              "Age            0\n",
              "SibSp          0\n",
              "Parch          0\n",
              "Ticket         0\n",
              "Fare           0\n",
              "Cabin          0\n",
              "Embarked       0\n",
              "dtype: int64"
            ]
          },
          "metadata": {},
          "execution_count": 62
        }
      ]
    },
    {
      "cell_type": "code",
      "source": [
        "test_df.isnull().sum()"
      ],
      "metadata": {
        "colab": {
          "base_uri": "https://localhost:8080/"
        },
        "id": "KnPaspL9Becf",
        "outputId": "17c4f2f9-45c6-4d0e-9eeb-3deeb704e2a7"
      },
      "execution_count": null,
      "outputs": [
        {
          "output_type": "execute_result",
          "data": {
            "text/plain": [
              "PassengerId    0\n",
              "Pclass         0\n",
              "Name           0\n",
              "Sex            0\n",
              "Age            0\n",
              "SibSp          0\n",
              "Parch          0\n",
              "Ticket         0\n",
              "Fare           1\n",
              "Cabin          0\n",
              "Embarked       0\n",
              "dtype: int64"
            ]
          },
          "metadata": {},
          "execution_count": 63
        }
      ]
    },
    {
      "cell_type": "code",
      "source": [
        "test_df['Fare'] = test_df['Fare'].fillna(test_df['Fare'].median()) #fill null values with median"
      ],
      "metadata": {
        "id": "jLt9RRhlVM14"
      },
      "execution_count": null,
      "outputs": []
    },
    {
      "cell_type": "markdown",
      "source": [
        "Fill missing values for the Fare feature using the median of the column. In this example, we're using the median instead of the mean because the Fare feature is known to have a few extreme values that could affect the mean."
      ],
      "metadata": {
        "id": "Q4IiTEG6ZJ6C"
      }
    },
    {
      "cell_type": "code",
      "source": [
        "test_df.isnull().sum() #Zero null values"
      ],
      "metadata": {
        "colab": {
          "base_uri": "https://localhost:8080/"
        },
        "id": "nejVeC4SYp6v",
        "outputId": "0e9fb2a2-cecf-4394-ab35-cc5477aaebf6"
      },
      "execution_count": null,
      "outputs": [
        {
          "output_type": "execute_result",
          "data": {
            "text/plain": [
              "PassengerId    0\n",
              "Pclass         0\n",
              "Name           0\n",
              "Sex            0\n",
              "Age            0\n",
              "SibSp          0\n",
              "Parch          0\n",
              "Ticket         0\n",
              "Fare           0\n",
              "Cabin          0\n",
              "Embarked       0\n",
              "dtype: int64"
            ]
          },
          "metadata": {},
          "execution_count": 65
        }
      ]
    },
    {
      "cell_type": "markdown",
      "source": [
        "2.Encode categorical variables"
      ],
      "metadata": {
        "id": "-fL7CLg47cip"
      }
    },
    {
      "cell_type": "code",
      "source": [
        "train_df['Sex'] = train_df['Sex'].apply(lambda x: 1 if x == 'male' else 0) #convert Categorical values to numerical"
      ],
      "metadata": {
        "id": "0MzPFgJqb3Ib"
      },
      "execution_count": null,
      "outputs": []
    },
    {
      "cell_type": "markdown",
      "source": [
        "Convert the 'Sex' feature to numerical values using a lambda function. In this, I'm converting 'male' to 1 and 'female' to 0."
      ],
      "metadata": {
        "id": "qik_yQ35c719"
      }
    },
    {
      "cell_type": "code",
      "source": [
        "test_df['Sex'] = test_df['Sex'].apply(lambda x: 1 if x == 'male' else 0)"
      ],
      "metadata": {
        "id": "Ek4kEo8Q19rJ"
      },
      "execution_count": null,
      "outputs": []
    },
    {
      "cell_type": "code",
      "source": [
        "embarked_map = {'S': 0, 'C': 1, 'Q': 2} #covert categorical values to numerical of Embarked column\n",
        "train_df['Embarked'] = train_df['Embarked'].map(embarked_map).fillna(3)"
      ],
      "metadata": {
        "id": "5L7mSiIJdJYP"
      },
      "execution_count": null,
      "outputs": []
    },
    {
      "cell_type": "markdown",
      "source": [
        "Create a dictionary embarked_map that maps each possible value of the 'Embarked' feature to a numerical value.\n",
        "\n",
        "Use the map() method to apply the embarked_map dictionary to the 'Embarked' feature. Any missing values are filled with fillna(3)."
      ],
      "metadata": {
        "id": "jlwCZhonde2e"
      }
    },
    {
      "cell_type": "code",
      "source": [
        "embarked_map = {'S': 0, 'C': 1, 'Q': 2} #covert categorical values to numerical of Embarked column\n",
        "test_df['Embarked'] = test_df['Embarked'].map(embarked_map).fillna(3)"
      ],
      "metadata": {
        "id": "BhoaZ27M10Wg"
      },
      "execution_count": null,
      "outputs": []
    },
    {
      "cell_type": "code",
      "source": [
        "train_df"
      ],
      "metadata": {
        "colab": {
          "base_uri": "https://localhost:8080/",
          "height": 467
        },
        "id": "FC1SRwbpdxuH",
        "outputId": "de77bcb0-70dc-4928-be20-b6120cc18814"
      },
      "execution_count": null,
      "outputs": [
        {
          "output_type": "execute_result",
          "data": {
            "text/plain": [
              "     PassengerId  Survived  Pclass  \\\n",
              "0              1         0       3   \n",
              "1              2         1       1   \n",
              "2              3         1       3   \n",
              "3              4         1       1   \n",
              "4              5         0       3   \n",
              "..           ...       ...     ...   \n",
              "886          887         0       2   \n",
              "887          888         1       1   \n",
              "888          889         0       3   \n",
              "889          890         1       1   \n",
              "890          891         0       3   \n",
              "\n",
              "                                                  Name  Sex   Age  SibSp  \\\n",
              "0                              Braund, Mr. Owen Harris    1  22.0      1   \n",
              "1    Cumings, Mrs. John Bradley (Florence Briggs Th...    0  38.0      1   \n",
              "2                               Heikkinen, Miss. Laina    0  26.0      0   \n",
              "3         Futrelle, Mrs. Jacques Heath (Lily May Peel)    0  35.0      1   \n",
              "4                             Allen, Mr. William Henry    1  35.0      0   \n",
              "..                                                 ...  ...   ...    ...   \n",
              "886                              Montvila, Rev. Juozas    1  27.0      0   \n",
              "887                       Graham, Miss. Margaret Edith    0  19.0      0   \n",
              "888           Johnston, Miss. Catherine Helen \"Carrie\"    0  24.0      1   \n",
              "889                              Behr, Mr. Karl Howell    1  26.0      0   \n",
              "890                                Dooley, Mr. Patrick    1  32.0      0   \n",
              "\n",
              "     Parch            Ticket     Fare Cabin  Embarked  \n",
              "0        0         A/5 21171   7.2500     G         0  \n",
              "1        0          PC 17599  71.2833   C85         1  \n",
              "2        0  STON/O2. 3101282   7.9250     G         0  \n",
              "3        0            113803  53.1000  C123         0  \n",
              "4        0            373450   8.0500     G         0  \n",
              "..     ...               ...      ...   ...       ...  \n",
              "886      0            211536  13.0000     D         0  \n",
              "887      0            112053  30.0000   B42         0  \n",
              "888      2        W./C. 6607  23.4500     G         0  \n",
              "889      0            111369  30.0000  C148         1  \n",
              "890      0            370376   7.7500     G         2  \n",
              "\n",
              "[891 rows x 12 columns]"
            ],
            "text/html": [
              "\n",
              "  <div id=\"df-331af9fc-49f5-4040-aeb8-7a554eee52e1\">\n",
              "    <div class=\"colab-df-container\">\n",
              "      <div>\n",
              "<style scoped>\n",
              "    .dataframe tbody tr th:only-of-type {\n",
              "        vertical-align: middle;\n",
              "    }\n",
              "\n",
              "    .dataframe tbody tr th {\n",
              "        vertical-align: top;\n",
              "    }\n",
              "\n",
              "    .dataframe thead th {\n",
              "        text-align: right;\n",
              "    }\n",
              "</style>\n",
              "<table border=\"1\" class=\"dataframe\">\n",
              "  <thead>\n",
              "    <tr style=\"text-align: right;\">\n",
              "      <th></th>\n",
              "      <th>PassengerId</th>\n",
              "      <th>Survived</th>\n",
              "      <th>Pclass</th>\n",
              "      <th>Name</th>\n",
              "      <th>Sex</th>\n",
              "      <th>Age</th>\n",
              "      <th>SibSp</th>\n",
              "      <th>Parch</th>\n",
              "      <th>Ticket</th>\n",
              "      <th>Fare</th>\n",
              "      <th>Cabin</th>\n",
              "      <th>Embarked</th>\n",
              "    </tr>\n",
              "  </thead>\n",
              "  <tbody>\n",
              "    <tr>\n",
              "      <th>0</th>\n",
              "      <td>1</td>\n",
              "      <td>0</td>\n",
              "      <td>3</td>\n",
              "      <td>Braund, Mr. Owen Harris</td>\n",
              "      <td>1</td>\n",
              "      <td>22.0</td>\n",
              "      <td>1</td>\n",
              "      <td>0</td>\n",
              "      <td>A/5 21171</td>\n",
              "      <td>7.2500</td>\n",
              "      <td>G</td>\n",
              "      <td>0</td>\n",
              "    </tr>\n",
              "    <tr>\n",
              "      <th>1</th>\n",
              "      <td>2</td>\n",
              "      <td>1</td>\n",
              "      <td>1</td>\n",
              "      <td>Cumings, Mrs. John Bradley (Florence Briggs Th...</td>\n",
              "      <td>0</td>\n",
              "      <td>38.0</td>\n",
              "      <td>1</td>\n",
              "      <td>0</td>\n",
              "      <td>PC 17599</td>\n",
              "      <td>71.2833</td>\n",
              "      <td>C85</td>\n",
              "      <td>1</td>\n",
              "    </tr>\n",
              "    <tr>\n",
              "      <th>2</th>\n",
              "      <td>3</td>\n",
              "      <td>1</td>\n",
              "      <td>3</td>\n",
              "      <td>Heikkinen, Miss. Laina</td>\n",
              "      <td>0</td>\n",
              "      <td>26.0</td>\n",
              "      <td>0</td>\n",
              "      <td>0</td>\n",
              "      <td>STON/O2. 3101282</td>\n",
              "      <td>7.9250</td>\n",
              "      <td>G</td>\n",
              "      <td>0</td>\n",
              "    </tr>\n",
              "    <tr>\n",
              "      <th>3</th>\n",
              "      <td>4</td>\n",
              "      <td>1</td>\n",
              "      <td>1</td>\n",
              "      <td>Futrelle, Mrs. Jacques Heath (Lily May Peel)</td>\n",
              "      <td>0</td>\n",
              "      <td>35.0</td>\n",
              "      <td>1</td>\n",
              "      <td>0</td>\n",
              "      <td>113803</td>\n",
              "      <td>53.1000</td>\n",
              "      <td>C123</td>\n",
              "      <td>0</td>\n",
              "    </tr>\n",
              "    <tr>\n",
              "      <th>4</th>\n",
              "      <td>5</td>\n",
              "      <td>0</td>\n",
              "      <td>3</td>\n",
              "      <td>Allen, Mr. William Henry</td>\n",
              "      <td>1</td>\n",
              "      <td>35.0</td>\n",
              "      <td>0</td>\n",
              "      <td>0</td>\n",
              "      <td>373450</td>\n",
              "      <td>8.0500</td>\n",
              "      <td>G</td>\n",
              "      <td>0</td>\n",
              "    </tr>\n",
              "    <tr>\n",
              "      <th>...</th>\n",
              "      <td>...</td>\n",
              "      <td>...</td>\n",
              "      <td>...</td>\n",
              "      <td>...</td>\n",
              "      <td>...</td>\n",
              "      <td>...</td>\n",
              "      <td>...</td>\n",
              "      <td>...</td>\n",
              "      <td>...</td>\n",
              "      <td>...</td>\n",
              "      <td>...</td>\n",
              "      <td>...</td>\n",
              "    </tr>\n",
              "    <tr>\n",
              "      <th>886</th>\n",
              "      <td>887</td>\n",
              "      <td>0</td>\n",
              "      <td>2</td>\n",
              "      <td>Montvila, Rev. Juozas</td>\n",
              "      <td>1</td>\n",
              "      <td>27.0</td>\n",
              "      <td>0</td>\n",
              "      <td>0</td>\n",
              "      <td>211536</td>\n",
              "      <td>13.0000</td>\n",
              "      <td>D</td>\n",
              "      <td>0</td>\n",
              "    </tr>\n",
              "    <tr>\n",
              "      <th>887</th>\n",
              "      <td>888</td>\n",
              "      <td>1</td>\n",
              "      <td>1</td>\n",
              "      <td>Graham, Miss. Margaret Edith</td>\n",
              "      <td>0</td>\n",
              "      <td>19.0</td>\n",
              "      <td>0</td>\n",
              "      <td>0</td>\n",
              "      <td>112053</td>\n",
              "      <td>30.0000</td>\n",
              "      <td>B42</td>\n",
              "      <td>0</td>\n",
              "    </tr>\n",
              "    <tr>\n",
              "      <th>888</th>\n",
              "      <td>889</td>\n",
              "      <td>0</td>\n",
              "      <td>3</td>\n",
              "      <td>Johnston, Miss. Catherine Helen \"Carrie\"</td>\n",
              "      <td>0</td>\n",
              "      <td>24.0</td>\n",
              "      <td>1</td>\n",
              "      <td>2</td>\n",
              "      <td>W./C. 6607</td>\n",
              "      <td>23.4500</td>\n",
              "      <td>G</td>\n",
              "      <td>0</td>\n",
              "    </tr>\n",
              "    <tr>\n",
              "      <th>889</th>\n",
              "      <td>890</td>\n",
              "      <td>1</td>\n",
              "      <td>1</td>\n",
              "      <td>Behr, Mr. Karl Howell</td>\n",
              "      <td>1</td>\n",
              "      <td>26.0</td>\n",
              "      <td>0</td>\n",
              "      <td>0</td>\n",
              "      <td>111369</td>\n",
              "      <td>30.0000</td>\n",
              "      <td>C148</td>\n",
              "      <td>1</td>\n",
              "    </tr>\n",
              "    <tr>\n",
              "      <th>890</th>\n",
              "      <td>891</td>\n",
              "      <td>0</td>\n",
              "      <td>3</td>\n",
              "      <td>Dooley, Mr. Patrick</td>\n",
              "      <td>1</td>\n",
              "      <td>32.0</td>\n",
              "      <td>0</td>\n",
              "      <td>0</td>\n",
              "      <td>370376</td>\n",
              "      <td>7.7500</td>\n",
              "      <td>G</td>\n",
              "      <td>2</td>\n",
              "    </tr>\n",
              "  </tbody>\n",
              "</table>\n",
              "<p>891 rows × 12 columns</p>\n",
              "</div>\n",
              "      <button class=\"colab-df-convert\" onclick=\"convertToInteractive('df-331af9fc-49f5-4040-aeb8-7a554eee52e1')\"\n",
              "              title=\"Convert this dataframe to an interactive table.\"\n",
              "              style=\"display:none;\">\n",
              "        \n",
              "  <svg xmlns=\"http://www.w3.org/2000/svg\" height=\"24px\"viewBox=\"0 0 24 24\"\n",
              "       width=\"24px\">\n",
              "    <path d=\"M0 0h24v24H0V0z\" fill=\"none\"/>\n",
              "    <path d=\"M18.56 5.44l.94 2.06.94-2.06 2.06-.94-2.06-.94-.94-2.06-.94 2.06-2.06.94zm-11 1L8.5 8.5l.94-2.06 2.06-.94-2.06-.94L8.5 2.5l-.94 2.06-2.06.94zm10 10l.94 2.06.94-2.06 2.06-.94-2.06-.94-.94-2.06-.94 2.06-2.06.94z\"/><path d=\"M17.41 7.96l-1.37-1.37c-.4-.4-.92-.59-1.43-.59-.52 0-1.04.2-1.43.59L10.3 9.45l-7.72 7.72c-.78.78-.78 2.05 0 2.83L4 21.41c.39.39.9.59 1.41.59.51 0 1.02-.2 1.41-.59l7.78-7.78 2.81-2.81c.8-.78.8-2.07 0-2.86zM5.41 20L4 18.59l7.72-7.72 1.47 1.35L5.41 20z\"/>\n",
              "  </svg>\n",
              "      </button>\n",
              "      \n",
              "  <style>\n",
              "    .colab-df-container {\n",
              "      display:flex;\n",
              "      flex-wrap:wrap;\n",
              "      gap: 12px;\n",
              "    }\n",
              "\n",
              "    .colab-df-convert {\n",
              "      background-color: #E8F0FE;\n",
              "      border: none;\n",
              "      border-radius: 50%;\n",
              "      cursor: pointer;\n",
              "      display: none;\n",
              "      fill: #1967D2;\n",
              "      height: 32px;\n",
              "      padding: 0 0 0 0;\n",
              "      width: 32px;\n",
              "    }\n",
              "\n",
              "    .colab-df-convert:hover {\n",
              "      background-color: #E2EBFA;\n",
              "      box-shadow: 0px 1px 2px rgba(60, 64, 67, 0.3), 0px 1px 3px 1px rgba(60, 64, 67, 0.15);\n",
              "      fill: #174EA6;\n",
              "    }\n",
              "\n",
              "    [theme=dark] .colab-df-convert {\n",
              "      background-color: #3B4455;\n",
              "      fill: #D2E3FC;\n",
              "    }\n",
              "\n",
              "    [theme=dark] .colab-df-convert:hover {\n",
              "      background-color: #434B5C;\n",
              "      box-shadow: 0px 1px 3px 1px rgba(0, 0, 0, 0.15);\n",
              "      filter: drop-shadow(0px 1px 2px rgba(0, 0, 0, 0.3));\n",
              "      fill: #FFFFFF;\n",
              "    }\n",
              "  </style>\n",
              "\n",
              "      <script>\n",
              "        const buttonEl =\n",
              "          document.querySelector('#df-331af9fc-49f5-4040-aeb8-7a554eee52e1 button.colab-df-convert');\n",
              "        buttonEl.style.display =\n",
              "          google.colab.kernel.accessAllowed ? 'block' : 'none';\n",
              "\n",
              "        async function convertToInteractive(key) {\n",
              "          const element = document.querySelector('#df-331af9fc-49f5-4040-aeb8-7a554eee52e1');\n",
              "          const dataTable =\n",
              "            await google.colab.kernel.invokeFunction('convertToInteractive',\n",
              "                                                     [key], {});\n",
              "          if (!dataTable) return;\n",
              "\n",
              "          const docLinkHtml = 'Like what you see? Visit the ' +\n",
              "            '<a target=\"_blank\" href=https://colab.research.google.com/notebooks/data_table.ipynb>data table notebook</a>'\n",
              "            + ' to learn more about interactive tables.';\n",
              "          element.innerHTML = '';\n",
              "          dataTable['output_type'] = 'display_data';\n",
              "          await google.colab.output.renderOutput(dataTable, element);\n",
              "          const docLink = document.createElement('div');\n",
              "          docLink.innerHTML = docLinkHtml;\n",
              "          element.appendChild(docLink);\n",
              "        }\n",
              "      </script>\n",
              "    </div>\n",
              "  </div>\n",
              "  "
            ]
          },
          "metadata": {},
          "execution_count": 70
        }
      ]
    },
    {
      "cell_type": "markdown",
      "source": [
        "3.Handling outliers"
      ],
      "metadata": {
        "id": "hMCuo_hE9VPa"
      }
    },
    {
      "cell_type": "code",
      "source": [
        "# box plot fr checking outliers\n",
        "train_df.boxplot()"
      ],
      "metadata": {
        "colab": {
          "base_uri": "https://localhost:8080/",
          "height": 285
        },
        "id": "RwsENM-Ynjt_",
        "outputId": "47386134-4926-4482-bec0-0a1d7fbe9ba7"
      },
      "execution_count": null,
      "outputs": [
        {
          "output_type": "execute_result",
          "data": {
            "text/plain": [
              "<AxesSubplot:>"
            ]
          },
          "metadata": {},
          "execution_count": 71
        },
        {
          "output_type": "display_data",
          "data": {
            "text/plain": [
              "<Figure size 432x288 with 1 Axes>"
            ],
            "image/png": "[encoded data removed]"
          },
          "metadata": {}
        }
      ]
    },
    {
      "cell_type": "code",
      "source": [
        "sns.boxplot(train_df['Age'])"
      ],
      "metadata": {
        "colab": {
          "base_uri": "https://localhost:8080/",
          "height": 302
        },
        "id": "quJOBYPX-R5g",
        "outputId": "1a81da63-e57b-45bb-8f7f-019fa8be9624"
      },
      "execution_count": null,
      "outputs": [
        {
          "output_type": "execute_result",
          "data": {
            "text/plain": [
              "<AxesSubplot:xlabel='Age'>"
            ]
          },
          "metadata": {},
          "execution_count": 72
        },
        {
          "output_type": "display_data",
          "data": {
            "text/plain": [
              "<Figure size 432x288 with 1 Axes>"
            ],
            "image/png": "[encoded data removed]"
          },
          "metadata": {}
        }
      ]
    },
    {
      "cell_type": "code",
      "source": [
        "Q1 = train_df['Age'].quantile(0.25)\n",
        "Q3 = train_df['Age'].quantile(0.75)\n",
        "IQR = Q3 - Q1\n",
        "\n",
        "# Remove outliers\n",
        "train_df = train_df[(train_df['Age'] >= Q1 - 1.5*IQR) & (train_df['Age'] <= Q3 + 1.5*IQR)]"
      ],
      "metadata": {
        "id": "ERy8RqIu_GXm"
      },
      "execution_count": null,
      "outputs": []
    },
    {
      "cell_type": "markdown",
      "source": [
        "The \"Fare\" column in the Titanic dataset represents the amount paid by each passenger for their ticket. It is possible that some passengers paid much higher fares than others, perhaps due to differences in ticket class, cabin location, or other factors. If the outliers in the \"Fare\" column are genuine values and are not due to data entry errors or measurement errors, removing them might result in a loss of valuable information and potentially bias the analysis or model."
      ],
      "metadata": {
        "id": "TfWECP66oPLj"
      }
    },
    {
      "cell_type": "code",
      "source": [
        "sns.boxplot(train_df['Age'])"
      ],
      "metadata": {
        "colab": {
          "base_uri": "https://localhost:8080/",
          "height": 302
        },
        "id": "dvr5VLi9_bJy",
        "outputId": "e23b3443-ff76-420b-fbc0-c670f6d16874"
      },
      "execution_count": null,
      "outputs": [
        {
          "output_type": "execute_result",
          "data": {
            "text/plain": [
              "<AxesSubplot:xlabel='Age'>"
            ]
          },
          "metadata": {},
          "execution_count": 74
        },
        {
          "output_type": "display_data",
          "data": {
            "text/plain": [
              "<Figure size 432x288 with 1 Axes>"
            ],
            "image/png": "[encoded data removed]"
          },
          "metadata": {}
        }
      ]
    },
    {
      "cell_type": "code",
      "source": [
        "test_df.boxplot() #checking outliers in test dataset"
      ],
      "metadata": {
        "colab": {
          "base_uri": "https://localhost:8080/",
          "height": 285
        },
        "id": "Z6f6ElL99dNS",
        "outputId": "2b8071d3-3804-4846-b97a-23a573a30cce"
      },
      "execution_count": null,
      "outputs": [
        {
          "output_type": "execute_result",
          "data": {
            "text/plain": [
              "<AxesSubplot:>"
            ]
          },
          "metadata": {},
          "execution_count": 75
        },
        {
          "output_type": "display_data",
          "data": {
            "text/plain": [
              "<Figure size 432x288 with 1 Axes>"
            ],
            "image/png": "[encoded data removed]"
          },
          "metadata": {}
        }
      ]
    },
    {
      "cell_type": "code",
      "source": [
        "sns.boxplot(test_df['Age'])"
      ],
      "metadata": {
        "colab": {
          "base_uri": "https://localhost:8080/",
          "height": 302
        },
        "id": "Yywr_Nfq_6-O",
        "outputId": "a8c95ac5-8ac2-466d-d69a-2df061e715e9"
      },
      "execution_count": null,
      "outputs": [
        {
          "output_type": "execute_result",
          "data": {
            "text/plain": [
              "<AxesSubplot:xlabel='Age'>"
            ]
          },
          "metadata": {},
          "execution_count": 76
        },
        {
          "output_type": "display_data",
          "data": {
            "text/plain": [
              "<Figure size 432x288 with 1 Axes>"
            ],
            "image/png": "[encoded data removed]"
          },
          "metadata": {}
        }
      ]
    },
    {
      "cell_type": "markdown",
      "source": [
        " logistic regression is not particularly sensitive to outliers in the predictor variables (such as age), as long as the response variable (such as survival status) is not heavily influenced by the outliers. In other words, if the outliers in the \"Age\" column do not strongly affect the survival status of the passengers, removing them may not be necessary for building a logistic regression model."
      ],
      "metadata": {
        "id": "Q6LB6ZOT-jdA"
      }
    },
    {
      "cell_type": "code",
      "source": [
        "Q1 = train_df['Age'].quantile(0.25)\n",
        "Q3 = train_df['Age'].quantile(0.75)\n",
        "IQR = Q3 - Q1\n",
        "\n",
        "# Remove outliers\n",
        "test_df = test_df[(test_df['Age'] >= Q1 - 1.5*IQR) & (test_df['Age'] <= Q3 + 1.5*IQR)]"
      ],
      "metadata": {
        "id": "pnYroOfZ_k_9"
      },
      "execution_count": null,
      "outputs": []
    },
    {
      "cell_type": "code",
      "source": [
        "sns.boxplot(test_df['Age'])"
      ],
      "metadata": {
        "colab": {
          "base_uri": "https://localhost:8080/",
          "height": 302
        },
        "id": "R1UcDfP5_1I7",
        "outputId": "9dc9d645-5ed9-48d4-e17f-ceb15149c06c"
      },
      "execution_count": null,
      "outputs": [
        {
          "output_type": "execute_result",
          "data": {
            "text/plain": [
              "<AxesSubplot:xlabel='Age'>"
            ]
          },
          "metadata": {},
          "execution_count": 78
        },
        {
          "output_type": "display_data",
          "data": {
            "text/plain": [
              "<Figure size 432x288 with 1 Axes>"
            ],
            "image/png": "[encoded data removed]"
          },
          "metadata": {}
        }
      ]
    },
    {
      "cell_type": "markdown",
      "source": [
        "4.Drop unnecessary columns"
      ],
      "metadata": {
        "id": "WFxZvUj-92BT"
      }
    },
    {
      "cell_type": "code",
      "source": [
        "# Drop irrelevant features\n",
        "train_df.drop(['PassengerId', 'Name', 'Ticket','Cabin'], axis=1, inplace=True)"
      ],
      "metadata": {
        "id": "UB8K_B7BPPEg"
      },
      "execution_count": null,
      "outputs": []
    },
    {
      "cell_type": "code",
      "source": [
        "# Drop irrelevant features\n",
        "test_df.drop(['PassengerId', 'Name', 'Ticket','Cabin'], axis=1, inplace=True)"
      ],
      "metadata": {
        "id": "sc6S2dVNPbhc"
      },
      "execution_count": null,
      "outputs": []
    },
    {
      "cell_type": "markdown",
      "source": [
        "5.Feature Engineering:"
      ],
      "metadata": {
        "id": "b8DipdBmGd-K"
      }
    },
    {
      "cell_type": "code",
      "source": [
        "train_df['FamilySize'] = train_df['SibSp'] + train_df['Parch'] + 1"
      ],
      "metadata": {
        "id": "rWoQqLqpSAGx"
      },
      "execution_count": null,
      "outputs": []
    },
    {
      "cell_type": "code",
      "source": [
        "test_df.loc[:, 'FamilySize'] = test_df['SibSp'] + test_df['Parch'] + 1"
      ],
      "metadata": {
        "id": "GoJ_PRYlSCnX"
      },
      "execution_count": null,
      "outputs": []
    },
    {
      "cell_type": "code",
      "source": [
        "train_df['FamilySize'].unique()"
      ],
      "metadata": {
        "colab": {
          "base_uri": "https://localhost:8080/"
        },
        "id": "7lhuQnC7vGS8",
        "outputId": "47e68780-b5a2-46d7-8bc0-e49bbdcb5789"
      },
      "execution_count": null,
      "outputs": [
        {
          "output_type": "execute_result",
          "data": {
            "text/plain": [
              "array([ 2,  1,  5,  3,  7,  6,  4,  8, 11])"
            ]
          },
          "metadata": {},
          "execution_count": 83
        }
      ]
    },
    {
      "cell_type": "code",
      "source": [
        "train_df"
      ],
      "metadata": {
        "colab": {
          "base_uri": "https://localhost:8080/",
          "height": 423
        },
        "id": "qqugZN4IPl4v",
        "outputId": "68c844fe-2bba-471f-b991-b9ab37b66172"
      },
      "execution_count": null,
      "outputs": [
        {
          "output_type": "execute_result",
          "data": {
            "text/plain": [
              "     Survived  Pclass  Sex   Age  SibSp  Parch     Fare  Embarked  FamilySize\n",
              "0           0       3    1  22.0      1      0   7.2500         0           2\n",
              "1           1       1    0  38.0      1      0  71.2833         1           2\n",
              "2           1       3    0  26.0      0      0   7.9250         0           1\n",
              "3           1       1    0  35.0      1      0  53.1000         0           2\n",
              "4           0       3    1  35.0      0      0   8.0500         0           1\n",
              "..        ...     ...  ...   ...    ...    ...      ...       ...         ...\n",
              "886         0       2    1  27.0      0      0  13.0000         0           1\n",
              "887         1       1    0  19.0      0      0  30.0000         0           1\n",
              "888         0       3    0  24.0      1      2  23.4500         0           4\n",
              "889         1       1    1  26.0      0      0  30.0000         1           1\n",
              "890         0       3    1  32.0      0      0   7.7500         2           1\n",
              "\n",
              "[865 rows x 9 columns]"
            ],
            "text/html": [
              "\n",
              "  <div id=\"df-8ae88e05-0e89-4cdf-9cc6-432f3c035027\">\n",
              "    <div class=\"colab-df-container\">\n",
              "      <div>\n",
              "<style scoped>\n",
              "    .dataframe tbody tr th:only-of-type {\n",
              "        vertical-align: middle;\n",
              "    }\n",
              "\n",
              "    .dataframe tbody tr th {\n",
              "        vertical-align: top;\n",
              "    }\n",
              "\n",
              "    .dataframe thead th {\n",
              "        text-align: right;\n",
              "    }\n",
              "</style>\n",
              "<table border=\"1\" class=\"dataframe\">\n",
              "  <thead>\n",
              "    <tr style=\"text-align: right;\">\n",
              "      <th></th>\n",
              "      <th>Survived</th>\n",
              "      <th>Pclass</th>\n",
              "      <th>Sex</th>\n",
              "      <th>Age</th>\n",
              "      <th>SibSp</th>\n",
              "      <th>Parch</th>\n",
              "      <th>Fare</th>\n",
              "      <th>Embarked</th>\n",
              "      <th>FamilySize</th>\n",
              "    </tr>\n",
              "  </thead>\n",
              "  <tbody>\n",
              "    <tr>\n",
              "      <th>0</th>\n",
              "      <td>0</td>\n",
              "      <td>3</td>\n",
              "      <td>1</td>\n",
              "      <td>22.0</td>\n",
              "      <td>1</td>\n",
              "      <td>0</td>\n",
              "      <td>7.2500</td>\n",
              "      <td>0</td>\n",
              "      <td>2</td>\n",
              "    </tr>\n",
              "    <tr>\n",
              "      <th>1</th>\n",
              "      <td>1</td>\n",
              "      <td>1</td>\n",
              "      <td>0</td>\n",
              "      <td>38.0</td>\n",
              "      <td>1</td>\n",
              "      <td>0</td>\n",
              "      <td>71.2833</td>\n",
              "      <td>1</td>\n",
              "      <td>2</td>\n",
              "    </tr>\n",
              "    <tr>\n",
              "      <th>2</th>\n",
              "      <td>1</td>\n",
              "      <td>3</td>\n",
              "      <td>0</td>\n",
              "      <td>26.0</td>\n",
              "      <td>0</td>\n",
              "      <td>0</td>\n",
              "      <td>7.9250</td>\n",
              "      <td>0</td>\n",
              "      <td>1</td>\n",
              "    </tr>\n",
              "    <tr>\n",
              "      <th>3</th>\n",
              "      <td>1</td>\n",
              "      <td>1</td>\n",
              "      <td>0</td>\n",
              "      <td>35.0</td>\n",
              "      <td>1</td>\n",
              "      <td>0</td>\n",
              "      <td>53.1000</td>\n",
              "      <td>0</td>\n",
              "      <td>2</td>\n",
              "    </tr>\n",
              "    <tr>\n",
              "      <th>4</th>\n",
              "      <td>0</td>\n",
              "      <td>3</td>\n",
              "      <td>1</td>\n",
              "      <td>35.0</td>\n",
              "      <td>0</td>\n",
              "      <td>0</td>\n",
              "      <td>8.0500</td>\n",
              "      <td>0</td>\n",
              "      <td>1</td>\n",
              "    </tr>\n",
              "    <tr>\n",
              "      <th>...</th>\n",
              "      <td>...</td>\n",
              "      <td>...</td>\n",
              "      <td>...</td>\n",
              "      <td>...</td>\n",
              "      <td>...</td>\n",
              "      <td>...</td>\n",
              "      <td>...</td>\n",
              "      <td>...</td>\n",
              "      <td>...</td>\n",
              "    </tr>\n",
              "    <tr>\n",
              "      <th>886</th>\n",
              "      <td>0</td>\n",
              "      <td>2</td>\n",
              "      <td>1</td>\n",
              "      <td>27.0</td>\n",
              "      <td>0</td>\n",
              "      <td>0</td>\n",
              "      <td>13.0000</td>\n",
              "      <td>0</td>\n",
              "      <td>1</td>\n",
              "    </tr>\n",
              "    <tr>\n",
              "      <th>887</th>\n",
              "      <td>1</td>\n",
              "      <td>1</td>\n",
              "      <td>0</td>\n",
              "      <td>19.0</td>\n",
              "      <td>0</td>\n",
              "      <td>0</td>\n",
              "      <td>30.0000</td>\n",
              "      <td>0</td>\n",
              "      <td>1</td>\n",
              "    </tr>\n",
              "    <tr>\n",
              "      <th>888</th>\n",
              "      <td>0</td>\n",
              "      <td>3</td>\n",
              "      <td>0</td>\n",
              "      <td>24.0</td>\n",
              "      <td>1</td>\n",
              "      <td>2</td>\n",
              "      <td>23.4500</td>\n",
              "      <td>0</td>\n",
              "      <td>4</td>\n",
              "    </tr>\n",
              "    <tr>\n",
              "      <th>889</th>\n",
              "      <td>1</td>\n",
              "      <td>1</td>\n",
              "      <td>1</td>\n",
              "      <td>26.0</td>\n",
              "      <td>0</td>\n",
              "      <td>0</td>\n",
              "      <td>30.0000</td>\n",
              "      <td>1</td>\n",
              "      <td>1</td>\n",
              "    </tr>\n",
              "    <tr>\n",
              "      <th>890</th>\n",
              "      <td>0</td>\n",
              "      <td>3</td>\n",
              "      <td>1</td>\n",
              "      <td>32.0</td>\n",
              "      <td>0</td>\n",
              "      <td>0</td>\n",
              "      <td>7.7500</td>\n",
              "      <td>2</td>\n",
              "      <td>1</td>\n",
              "    </tr>\n",
              "  </tbody>\n",
              "</table>\n",
              "<p>865 rows × 9 columns</p>\n",
              "</div>\n",
              "      <button class=\"colab-df-convert\" onclick=\"convertToInteractive('df-8ae88e05-0e89-4cdf-9cc6-432f3c035027')\"\n",
              "              title=\"Convert this dataframe to an interactive table.\"\n",
              "              style=\"display:none;\">\n",
              "        \n",
              "  <svg xmlns=\"http://www.w3.org/2000/svg\" height=\"24px\"viewBox=\"0 0 24 24\"\n",
              "       width=\"24px\">\n",
              "    <path d=\"M0 0h24v24H0V0z\" fill=\"none\"/>\n",
              "    <path d=\"M18.56 5.44l.94 2.06.94-2.06 2.06-.94-2.06-.94-.94-2.06-.94 2.06-2.06.94zm-11 1L8.5 8.5l.94-2.06 2.06-.94-2.06-.94L8.5 2.5l-.94 2.06-2.06.94zm10 10l.94 2.06.94-2.06 2.06-.94-2.06-.94-.94-2.06-.94 2.06-2.06.94z\"/><path d=\"M17.41 7.96l-1.37-1.37c-.4-.4-.92-.59-1.43-.59-.52 0-1.04.2-1.43.59L10.3 9.45l-7.72 7.72c-.78.78-.78 2.05 0 2.83L4 21.41c.39.39.9.59 1.41.59.51 0 1.02-.2 1.41-.59l7.78-7.78 2.81-2.81c.8-.78.8-2.07 0-2.86zM5.41 20L4 18.59l7.72-7.72 1.47 1.35L5.41 20z\"/>\n",
              "  </svg>\n",
              "      </button>\n",
              "      \n",
              "  <style>\n",
              "    .colab-df-container {\n",
              "      display:flex;\n",
              "      flex-wrap:wrap;\n",
              "      gap: 12px;\n",
              "    }\n",
              "\n",
              "    .colab-df-convert {\n",
              "      background-color: #E8F0FE;\n",
              "      border: none;\n",
              "      border-radius: 50%;\n",
              "      cursor: pointer;\n",
              "      display: none;\n",
              "      fill: #1967D2;\n",
              "      height: 32px;\n",
              "      padding: 0 0 0 0;\n",
              "      width: 32px;\n",
              "    }\n",
              "\n",
              "    .colab-df-convert:hover {\n",
              "      background-color: #E2EBFA;\n",
              "      box-shadow: 0px 1px 2px rgba(60, 64, 67, 0.3), 0px 1px 3px 1px rgba(60, 64, 67, 0.15);\n",
              "      fill: #174EA6;\n",
              "    }\n",
              "\n",
              "    [theme=dark] .colab-df-convert {\n",
              "      background-color: #3B4455;\n",
              "      fill: #D2E3FC;\n",
              "    }\n",
              "\n",
              "    [theme=dark] .colab-df-convert:hover {\n",
              "      background-color: #434B5C;\n",
              "      box-shadow: 0px 1px 3px 1px rgba(0, 0, 0, 0.15);\n",
              "      filter: drop-shadow(0px 1px 2px rgba(0, 0, 0, 0.3));\n",
              "      fill: #FFFFFF;\n",
              "    }\n",
              "  </style>\n",
              "\n",
              "      <script>\n",
              "        const buttonEl =\n",
              "          document.querySelector('#df-8ae88e05-0e89-4cdf-9cc6-432f3c035027 button.colab-df-convert');\n",
              "        buttonEl.style.display =\n",
              "          google.colab.kernel.accessAllowed ? 'block' : 'none';\n",
              "\n",
              "        async function convertToInteractive(key) {\n",
              "          const element = document.querySelector('#df-8ae88e05-0e89-4cdf-9cc6-432f3c035027');\n",
              "          const dataTable =\n",
              "            await google.colab.kernel.invokeFunction('convertToInteractive',\n",
              "                                                     [key], {});\n",
              "          if (!dataTable) return;\n",
              "\n",
              "          const docLinkHtml = 'Like what you see? Visit the ' +\n",
              "            '<a target=\"_blank\" href=https://colab.research.google.com/notebooks/data_table.ipynb>data table notebook</a>'\n",
              "            + ' to learn more about interactive tables.';\n",
              "          element.innerHTML = '';\n",
              "          dataTable['output_type'] = 'display_data';\n",
              "          await google.colab.output.renderOutput(dataTable, element);\n",
              "          const docLink = document.createElement('div');\n",
              "          docLink.innerHTML = docLinkHtml;\n",
              "          element.appendChild(docLink);\n",
              "        }\n",
              "      </script>\n",
              "    </div>\n",
              "  </div>\n",
              "  "
            ]
          },
          "metadata": {},
          "execution_count": 84
        }
      ]
    },
    {
      "cell_type": "code",
      "source": [
        "test_df"
      ],
      "metadata": {
        "colab": {
          "base_uri": "https://localhost:8080/",
          "height": 423
        },
        "id": "ghCkFlzAPpnE",
        "outputId": "98a55dc7-c09c-4e61-9dd8-dae7615db4d6"
      },
      "execution_count": null,
      "outputs": [
        {
          "output_type": "execute_result",
          "data": {
            "text/plain": [
              "     Pclass  Sex   Age  SibSp  Parch      Fare  Embarked  FamilySize\n",
              "0         3    1  34.5      0      0    7.8292         2           1\n",
              "1         3    0  47.0      1      0    7.0000         0           2\n",
              "3         3    1  27.0      0      0    8.6625         0           1\n",
              "4         3    0  22.0      1      1   12.2875         0           3\n",
              "5         3    1  14.0      0      0    9.2250         0           1\n",
              "..      ...  ...   ...    ...    ...       ...       ...         ...\n",
              "413       3    1  24.0      0      0    8.0500         0           1\n",
              "414       1    0  39.0      0      0  108.9000         1           1\n",
              "415       3    1  38.5      0      0    7.2500         0           1\n",
              "416       3    1  24.0      0      0    8.0500         0           1\n",
              "417       3    1  24.0      1      1   22.3583         1           3\n",
              "\n",
              "[397 rows x 8 columns]"
            ],
            "text/html": [
              "\n",
              "  <div id=\"df-7fa04a71-eaed-45fc-8f70-b73144a0ef2b\">\n",
              "    <div class=\"colab-df-container\">\n",
              "      <div>\n",
              "<style scoped>\n",
              "    .dataframe tbody tr th:only-of-type {\n",
              "        vertical-align: middle;\n",
              "    }\n",
              "\n",
              "    .dataframe tbody tr th {\n",
              "        vertical-align: top;\n",
              "    }\n",
              "\n",
              "    .dataframe thead th {\n",
              "        text-align: right;\n",
              "    }\n",
              "</style>\n",
              "<table border=\"1\" class=\"dataframe\">\n",
              "  <thead>\n",
              "    <tr style=\"text-align: right;\">\n",
              "      <th></th>\n",
              "      <th>Pclass</th>\n",
              "      <th>Sex</th>\n",
              "      <th>Age</th>\n",
              "      <th>SibSp</th>\n",
              "      <th>Parch</th>\n",
              "      <th>Fare</th>\n",
              "      <th>Embarked</th>\n",
              "      <th>FamilySize</th>\n",
              "    </tr>\n",
              "  </thead>\n",
              "  <tbody>\n",
              "    <tr>\n",
              "      <th>0</th>\n",
              "      <td>3</td>\n",
              "      <td>1</td>\n",
              "      <td>34.5</td>\n",
              "      <td>0</td>\n",
              "      <td>0</td>\n",
              "      <td>7.8292</td>\n",
              "      <td>2</td>\n",
              "      <td>1</td>\n",
              "    </tr>\n",
              "    <tr>\n",
              "      <th>1</th>\n",
              "      <td>3</td>\n",
              "      <td>0</td>\n",
              "      <td>47.0</td>\n",
              "      <td>1</td>\n",
              "      <td>0</td>\n",
              "      <td>7.0000</td>\n",
              "      <td>0</td>\n",
              "      <td>2</td>\n",
              "    </tr>\n",
              "    <tr>\n",
              "      <th>3</th>\n",
              "      <td>3</td>\n",
              "      <td>1</td>\n",
              "      <td>27.0</td>\n",
              "      <td>0</td>\n",
              "      <td>0</td>\n",
              "      <td>8.6625</td>\n",
              "      <td>0</td>\n",
              "      <td>1</td>\n",
              "    </tr>\n",
              "    <tr>\n",
              "      <th>4</th>\n",
              "      <td>3</td>\n",
              "      <td>0</td>\n",
              "      <td>22.0</td>\n",
              "      <td>1</td>\n",
              "      <td>1</td>\n",
              "      <td>12.2875</td>\n",
              "      <td>0</td>\n",
              "      <td>3</td>\n",
              "    </tr>\n",
              "    <tr>\n",
              "      <th>5</th>\n",
              "      <td>3</td>\n",
              "      <td>1</td>\n",
              "      <td>14.0</td>\n",
              "      <td>0</td>\n",
              "      <td>0</td>\n",
              "      <td>9.2250</td>\n",
              "      <td>0</td>\n",
              "      <td>1</td>\n",
              "    </tr>\n",
              "    <tr>\n",
              "      <th>...</th>\n",
              "      <td>...</td>\n",
              "      <td>...</td>\n",
              "      <td>...</td>\n",
              "      <td>...</td>\n",
              "      <td>...</td>\n",
              "      <td>...</td>\n",
              "      <td>...</td>\n",
              "      <td>...</td>\n",
              "    </tr>\n",
              "    <tr>\n",
              "      <th>413</th>\n",
              "      <td>3</td>\n",
              "      <td>1</td>\n",
              "      <td>24.0</td>\n",
              "      <td>0</td>\n",
              "      <td>0</td>\n",
              "      <td>8.0500</td>\n",
              "      <td>0</td>\n",
              "      <td>1</td>\n",
              "    </tr>\n",
              "    <tr>\n",
              "      <th>414</th>\n",
              "      <td>1</td>\n",
              "      <td>0</td>\n",
              "      <td>39.0</td>\n",
              "      <td>0</td>\n",
              "      <td>0</td>\n",
              "      <td>108.9000</td>\n",
              "      <td>1</td>\n",
              "      <td>1</td>\n",
              "    </tr>\n",
              "    <tr>\n",
              "      <th>415</th>\n",
              "      <td>3</td>\n",
              "      <td>1</td>\n",
              "      <td>38.5</td>\n",
              "      <td>0</td>\n",
              "      <td>0</td>\n",
              "      <td>7.2500</td>\n",
              "      <td>0</td>\n",
              "      <td>1</td>\n",
              "    </tr>\n",
              "    <tr>\n",
              "      <th>416</th>\n",
              "      <td>3</td>\n",
              "      <td>1</td>\n",
              "      <td>24.0</td>\n",
              "      <td>0</td>\n",
              "      <td>0</td>\n",
              "      <td>8.0500</td>\n",
              "      <td>0</td>\n",
              "      <td>1</td>\n",
              "    </tr>\n",
              "    <tr>\n",
              "      <th>417</th>\n",
              "      <td>3</td>\n",
              "      <td>1</td>\n",
              "      <td>24.0</td>\n",
              "      <td>1</td>\n",
              "      <td>1</td>\n",
              "      <td>22.3583</td>\n",
              "      <td>1</td>\n",
              "      <td>3</td>\n",
              "    </tr>\n",
              "  </tbody>\n",
              "</table>\n",
              "<p>397 rows × 8 columns</p>\n",
              "</div>\n",
              "      <button class=\"colab-df-convert\" onclick=\"convertToInteractive('df-7fa04a71-eaed-45fc-8f70-b73144a0ef2b')\"\n",
              "              title=\"Convert this dataframe to an interactive table.\"\n",
              "              style=\"display:none;\">\n",
              "        \n",
              "  <svg xmlns=\"http://www.w3.org/2000/svg\" height=\"24px\"viewBox=\"0 0 24 24\"\n",
              "       width=\"24px\">\n",
              "    <path d=\"M0 0h24v24H0V0z\" fill=\"none\"/>\n",
              "    <path d=\"M18.56 5.44l.94 2.06.94-2.06 2.06-.94-2.06-.94-.94-2.06-.94 2.06-2.06.94zm-11 1L8.5 8.5l.94-2.06 2.06-.94-2.06-.94L8.5 2.5l-.94 2.06-2.06.94zm10 10l.94 2.06.94-2.06 2.06-.94-2.06-.94-.94-2.06-.94 2.06-2.06.94z\"/><path d=\"M17.41 7.96l-1.37-1.37c-.4-.4-.92-.59-1.43-.59-.52 0-1.04.2-1.43.59L10.3 9.45l-7.72 7.72c-.78.78-.78 2.05 0 2.83L4 21.41c.39.39.9.59 1.41.59.51 0 1.02-.2 1.41-.59l7.78-7.78 2.81-2.81c.8-.78.8-2.07 0-2.86zM5.41 20L4 18.59l7.72-7.72 1.47 1.35L5.41 20z\"/>\n",
              "  </svg>\n",
              "      </button>\n",
              "      \n",
              "  <style>\n",
              "    .colab-df-container {\n",
              "      display:flex;\n",
              "      flex-wrap:wrap;\n",
              "      gap: 12px;\n",
              "    }\n",
              "\n",
              "    .colab-df-convert {\n",
              "      background-color: #E8F0FE;\n",
              "      border: none;\n",
              "      border-radius: 50%;\n",
              "      cursor: pointer;\n",
              "      display: none;\n",
              "      fill: #1967D2;\n",
              "      height: 32px;\n",
              "      padding: 0 0 0 0;\n",
              "      width: 32px;\n",
              "    }\n",
              "\n",
              "    .colab-df-convert:hover {\n",
              "      background-color: #E2EBFA;\n",
              "      box-shadow: 0px 1px 2px rgba(60, 64, 67, 0.3), 0px 1px 3px 1px rgba(60, 64, 67, 0.15);\n",
              "      fill: #174EA6;\n",
              "    }\n",
              "\n",
              "    [theme=dark] .colab-df-convert {\n",
              "      background-color: #3B4455;\n",
              "      fill: #D2E3FC;\n",
              "    }\n",
              "\n",
              "    [theme=dark] .colab-df-convert:hover {\n",
              "      background-color: #434B5C;\n",
              "      box-shadow: 0px 1px 3px 1px rgba(0, 0, 0, 0.15);\n",
              "      filter: drop-shadow(0px 1px 2px rgba(0, 0, 0, 0.3));\n",
              "      fill: #FFFFFF;\n",
              "    }\n",
              "  </style>\n",
              "\n",
              "      <script>\n",
              "        const buttonEl =\n",
              "          document.querySelector('#df-7fa04a71-eaed-45fc-8f70-b73144a0ef2b button.colab-df-convert');\n",
              "        buttonEl.style.display =\n",
              "          google.colab.kernel.accessAllowed ? 'block' : 'none';\n",
              "\n",
              "        async function convertToInteractive(key) {\n",
              "          const element = document.querySelector('#df-7fa04a71-eaed-45fc-8f70-b73144a0ef2b');\n",
              "          const dataTable =\n",
              "            await google.colab.kernel.invokeFunction('convertToInteractive',\n",
              "                                                     [key], {});\n",
              "          if (!dataTable) return;\n",
              "\n",
              "          const docLinkHtml = 'Like what you see? Visit the ' +\n",
              "            '<a target=\"_blank\" href=https://colab.research.google.com/notebooks/data_table.ipynb>data table notebook</a>'\n",
              "            + ' to learn more about interactive tables.';\n",
              "          element.innerHTML = '';\n",
              "          dataTable['output_type'] = 'display_data';\n",
              "          await google.colab.output.renderOutput(dataTable, element);\n",
              "          const docLink = document.createElement('div');\n",
              "          docLink.innerHTML = docLinkHtml;\n",
              "          element.appendChild(docLink);\n",
              "        }\n",
              "      </script>\n",
              "    </div>\n",
              "  </div>\n",
              "  "
            ]
          },
          "metadata": {},
          "execution_count": 85
        }
      ]
    },
    {
      "cell_type": "markdown",
      "source": [
        "6.Split the data"
      ],
      "metadata": {
        "id": "h2XYlfBZGE4O"
      }
    },
    {
      "cell_type": "code",
      "source": [
        "# Separate the target variable from the input features\n",
        "y = train_df['Survived']\n",
        "X = train_df.drop('Survived', axis=1)"
      ],
      "metadata": {
        "id": "jY2Lvs4ZgQyi"
      },
      "execution_count": null,
      "outputs": []
    },
    {
      "cell_type": "code",
      "source": [
        "# Split the data into training and validation sets\n",
        "train_size = int(len(train_df.sample(frac=0.7, random_state=0))) # 70% of the data is used for training\n",
        "X_train, X_val = X[:train_size], X[train_size:]\n",
        "y_train, y_val = y[:train_size], y[train_size:]\n",
        "\n",
        "# Print the size of each set\n",
        "print('Training set size:', len(X_train))\n",
        "print('Validation set size:', len(X_val))"
      ],
      "metadata": {
        "colab": {
          "base_uri": "https://localhost:8080/"
        },
        "id": "P-zE4R_wgits",
        "outputId": "18262fbe-c681-4f0d-e0b8-5cc934f2b027"
      },
      "execution_count": null,
      "outputs": [
        {
          "output_type": "stream",
          "name": "stdout",
          "text": [
            "Training set size: 606\n",
            "Validation set size: 259\n"
          ]
        }
      ]
    },
    {
      "cell_type": "markdown",
      "source": [
        "7.Scale numerical features"
      ],
      "metadata": {
        "id": "1go-tV5PHE3e"
      }
    },
    {
      "cell_type": "code",
      "source": [
        "class StandardScaler:\n",
        "  def __init__(self):\n",
        "    self.mean = None\n",
        "    self.variance = None\n",
        "  def fit(self,set):\n",
        "    self.mean = np.mean(set,axis=0)\n",
        "    self.variance = np.var(set,axis=0)\n",
        "  def transform(self,set):\n",
        "    return(set - self.mean)/np.sqrt(self.variance)\n",
        "  def fit_transform(self,set):\n",
        "    self.fit(set)\n",
        "    return self.transform(set)\n",
        "    \n",
        "\n"
      ],
      "metadata": {
        "id": "Wt1562oehQE0"
      },
      "execution_count": null,
      "outputs": []
    },
    {
      "cell_type": "code",
      "source": [
        "num_cols = ['Age', 'Fare', 'SibSp','Parch','Embarked','Sex','FamilySize']\n",
        "X_train_num = train_df[num_cols]\n",
        "\n",
        "# Create a StandardScaler instance\n",
        "scaler = StandardScaler()\n",
        "\n",
        "# Fit the scaler on the training set\n",
        "scaler.fit(X_train_num)\n",
        "\n",
        "# Scale the numerical features in the training set\n",
        "train_df[num_cols] = scaler.transform(X_train_num)\n",
        "\n",
        "# Scale the numerical features in the validation set\n",
        "X_val_num = train_df[num_cols]\n",
        "train_df[num_cols] = scaler.transform(X_val_num)\n"
      ],
      "metadata": {
        "id": "y8D385b_jcU2"
      },
      "execution_count": null,
      "outputs": []
    },
    {
      "cell_type": "code",
      "source": [
        "num_cols = ['Age', 'Fare', 'SibSp','Parch','Embarked','Sex','FamilySize']\n",
        "test_num = test_df[num_cols]\n",
        "# Create a StandardScaler instance\n",
        "scaler = StandardScaler()\n",
        "# Fit the scaler on the training set\n",
        "scaler.fit(test_num)\n",
        "# Scale the numerical features in the training set\n",
        "test_df[num_cols] = scaler.transform(test_num)\n"
      ],
      "metadata": {
        "id": "gEmJyfR1uLTK"
      },
      "execution_count": null,
      "outputs": []
    },
    {
      "cell_type": "markdown",
      "source": [
        "In the Titanic dataset, for example, some numerical features that may need to be scaled using StandardScaler are Age, Fare, SibSp, and Parch. However, features like PassengerId and Ticket may not need to be scaled, as they are just identifiers and do not represent meaningful numerical values. Similarly, the Survived feature may not need to be scaled, as it is a binary variable representing the outcome of interest.\n",
        "\n",
        "\n"
      ],
      "metadata": {
        "id": "rhRRKBn1JOpp"
      }
    },
    {
      "cell_type": "code",
      "source": [
        "train_df"
      ],
      "metadata": {
        "colab": {
          "base_uri": "https://localhost:8080/",
          "height": 423
        },
        "id": "lQvPRtyvke99",
        "outputId": "fbb9cef1-5204-4efa-fec8-c2d51dccf25d"
      },
      "execution_count": null,
      "outputs": [
        {
          "output_type": "execute_result",
          "data": {
            "text/plain": [
              "     Survived  Pclass       Sex       Age     SibSp     Parch      Fare  \\\n",
              "0           0       3  0.220529 -2.411803 -0.100334 -1.069026 -0.652357   \n",
              "1           1       1 -4.128352 -2.297141 -0.100334 -1.069026 -0.626337   \n",
              "2           1       3 -4.128352 -2.383137 -0.904704 -1.069026 -0.652083   \n",
              "3           1       1 -4.128352 -2.318640 -0.100334 -1.069026 -0.633726   \n",
              "4           0       3  0.220529 -2.318640 -0.904704 -1.069026 -0.652032   \n",
              "..        ...     ...       ...       ...       ...       ...       ...   \n",
              "886         0       2  0.220529 -2.375971 -0.904704 -1.069026 -0.650021   \n",
              "887         1       1 -4.128352 -2.433302 -0.904704 -1.069026 -0.643113   \n",
              "888         0       3 -4.128352 -2.397470 -0.100334  2.017100 -0.645775   \n",
              "889         1       1  0.220529 -2.383137 -0.904704 -1.069026 -0.643113   \n",
              "890         0       3  0.220529 -2.340139 -0.904704 -1.069026 -0.652154   \n",
              "\n",
              "     Embarked  FamilySize  \n",
              "0   -1.467762   -1.147682  \n",
              "1    1.003553   -1.147682  \n",
              "2   -1.467762   -1.526928  \n",
              "3   -1.467762   -1.147682  \n",
              "4   -1.467762   -1.526928  \n",
              "..        ...         ...  \n",
              "886 -1.467762   -1.526928  \n",
              "887 -1.467762   -1.526928  \n",
              "888 -1.467762   -0.389189  \n",
              "889  1.003553   -1.526928  \n",
              "890  3.474867   -1.526928  \n",
              "\n",
              "[865 rows x 9 columns]"
            ],
            "text/html": [
              "\n",
              "  <div id=\"df-cb9c9c8e-c513-4472-91ea-fcc614fde895\">\n",
              "    <div class=\"colab-df-container\">\n",
              "      <div>\n",
              "<style scoped>\n",
              "    .dataframe tbody tr th:only-of-type {\n",
              "        vertical-align: middle;\n",
              "    }\n",
              "\n",
              "    .dataframe tbody tr th {\n",
              "        vertical-align: top;\n",
              "    }\n",
              "\n",
              "    .dataframe thead th {\n",
              "        text-align: right;\n",
              "    }\n",
              "</style>\n",
              "<table border=\"1\" class=\"dataframe\">\n",
              "  <thead>\n",
              "    <tr style=\"text-align: right;\">\n",
              "      <th></th>\n",
              "      <th>Survived</th>\n",
              "      <th>Pclass</th>\n",
              "      <th>Sex</th>\n",
              "      <th>Age</th>\n",
              "      <th>SibSp</th>\n",
              "      <th>Parch</th>\n",
              "      <th>Fare</th>\n",
              "      <th>Embarked</th>\n",
              "      <th>FamilySize</th>\n",
              "    </tr>\n",
              "  </thead>\n",
              "  <tbody>\n",
              "    <tr>\n",
              "      <th>0</th>\n",
              "      <td>0</td>\n",
              "      <td>3</td>\n",
              "      <td>0.220529</td>\n",
              "      <td>-2.411803</td>\n",
              "      <td>-0.100334</td>\n",
              "      <td>-1.069026</td>\n",
              "      <td>-0.652357</td>\n",
              "      <td>-1.467762</td>\n",
              "      <td>-1.147682</td>\n",
              "    </tr>\n",
              "    <tr>\n",
              "      <th>1</th>\n",
              "      <td>1</td>\n",
              "      <td>1</td>\n",
              "      <td>-4.128352</td>\n",
              "      <td>-2.297141</td>\n",
              "      <td>-0.100334</td>\n",
              "      <td>-1.069026</td>\n",
              "      <td>-0.626337</td>\n",
              "      <td>1.003553</td>\n",
              "      <td>-1.147682</td>\n",
              "    </tr>\n",
              "    <tr>\n",
              "      <th>2</th>\n",
              "      <td>1</td>\n",
              "      <td>3</td>\n",
              "      <td>-4.128352</td>\n",
              "      <td>-2.383137</td>\n",
              "      <td>-0.904704</td>\n",
              "      <td>-1.069026</td>\n",
              "      <td>-0.652083</td>\n",
              "      <td>-1.467762</td>\n",
              "      <td>-1.526928</td>\n",
              "    </tr>\n",
              "    <tr>\n",
              "      <th>3</th>\n",
              "      <td>1</td>\n",
              "      <td>1</td>\n",
              "      <td>-4.128352</td>\n",
              "      <td>-2.318640</td>\n",
              "      <td>-0.100334</td>\n",
              "      <td>-1.069026</td>\n",
              "      <td>-0.633726</td>\n",
              "      <td>-1.467762</td>\n",
              "      <td>-1.147682</td>\n",
              "    </tr>\n",
              "    <tr>\n",
              "      <th>4</th>\n",
              "      <td>0</td>\n",
              "      <td>3</td>\n",
              "      <td>0.220529</td>\n",
              "      <td>-2.318640</td>\n",
              "      <td>-0.904704</td>\n",
              "      <td>-1.069026</td>\n",
              "      <td>-0.652032</td>\n",
              "      <td>-1.467762</td>\n",
              "      <td>-1.526928</td>\n",
              "    </tr>\n",
              "    <tr>\n",
              "      <th>...</th>\n",
              "      <td>...</td>\n",
              "      <td>...</td>\n",
              "      <td>...</td>\n",
              "      <td>...</td>\n",
              "      <td>...</td>\n",
              "      <td>...</td>\n",
              "      <td>...</td>\n",
              "      <td>...</td>\n",
              "      <td>...</td>\n",
              "    </tr>\n",
              "    <tr>\n",
              "      <th>886</th>\n",
              "      <td>0</td>\n",
              "      <td>2</td>\n",
              "      <td>0.220529</td>\n",
              "      <td>-2.375971</td>\n",
              "      <td>-0.904704</td>\n",
              "      <td>-1.069026</td>\n",
              "      <td>-0.650021</td>\n",
              "      <td>-1.467762</td>\n",
              "      <td>-1.526928</td>\n",
              "    </tr>\n",
              "    <tr>\n",
              "      <th>887</th>\n",
              "      <td>1</td>\n",
              "      <td>1</td>\n",
              "      <td>-4.128352</td>\n",
              "      <td>-2.433302</td>\n",
              "      <td>-0.904704</td>\n",
              "      <td>-1.069026</td>\n",
              "      <td>-0.643113</td>\n",
              "      <td>-1.467762</td>\n",
              "      <td>-1.526928</td>\n",
              "    </tr>\n",
              "    <tr>\n",
              "      <th>888</th>\n",
              "      <td>0</td>\n",
              "      <td>3</td>\n",
              "      <td>-4.128352</td>\n",
              "      <td>-2.397470</td>\n",
              "      <td>-0.100334</td>\n",
              "      <td>2.017100</td>\n",
              "      <td>-0.645775</td>\n",
              "      <td>-1.467762</td>\n",
              "      <td>-0.389189</td>\n",
              "    </tr>\n",
              "    <tr>\n",
              "      <th>889</th>\n",
              "      <td>1</td>\n",
              "      <td>1</td>\n",
              "      <td>0.220529</td>\n",
              "      <td>-2.383137</td>\n",
              "      <td>-0.904704</td>\n",
              "      <td>-1.069026</td>\n",
              "      <td>-0.643113</td>\n",
              "      <td>1.003553</td>\n",
              "      <td>-1.526928</td>\n",
              "    </tr>\n",
              "    <tr>\n",
              "      <th>890</th>\n",
              "      <td>0</td>\n",
              "      <td>3</td>\n",
              "      <td>0.220529</td>\n",
              "      <td>-2.340139</td>\n",
              "      <td>-0.904704</td>\n",
              "      <td>-1.069026</td>\n",
              "      <td>-0.652154</td>\n",
              "      <td>3.474867</td>\n",
              "      <td>-1.526928</td>\n",
              "    </tr>\n",
              "  </tbody>\n",
              "</table>\n",
              "<p>865 rows × 9 columns</p>\n",
              "</div>\n",
              "      <button class=\"colab-df-convert\" onclick=\"convertToInteractive('df-cb9c9c8e-c513-4472-91ea-fcc614fde895')\"\n",
              "              title=\"Convert this dataframe to an interactive table.\"\n",
              "              style=\"display:none;\">\n",
              "        \n",
              "  <svg xmlns=\"http://www.w3.org/2000/svg\" height=\"24px\"viewBox=\"0 0 24 24\"\n",
              "       width=\"24px\">\n",
              "    <path d=\"M0 0h24v24H0V0z\" fill=\"none\"/>\n",
              "    <path d=\"M18.56 5.44l.94 2.06.94-2.06 2.06-.94-2.06-.94-.94-2.06-.94 2.06-2.06.94zm-11 1L8.5 8.5l.94-2.06 2.06-.94-2.06-.94L8.5 2.5l-.94 2.06-2.06.94zm10 10l.94 2.06.94-2.06 2.06-.94-2.06-.94-.94-2.06-.94 2.06-2.06.94z\"/><path d=\"M17.41 7.96l-1.37-1.37c-.4-.4-.92-.59-1.43-.59-.52 0-1.04.2-1.43.59L10.3 9.45l-7.72 7.72c-.78.78-.78 2.05 0 2.83L4 21.41c.39.39.9.59 1.41.59.51 0 1.02-.2 1.41-.59l7.78-7.78 2.81-2.81c.8-.78.8-2.07 0-2.86zM5.41 20L4 18.59l7.72-7.72 1.47 1.35L5.41 20z\"/>\n",
              "  </svg>\n",
              "      </button>\n",
              "      \n",
              "  <style>\n",
              "    .colab-df-container {\n",
              "      display:flex;\n",
              "      flex-wrap:wrap;\n",
              "      gap: 12px;\n",
              "    }\n",
              "\n",
              "    .colab-df-convert {\n",
              "      background-color: #E8F0FE;\n",
              "      border: none;\n",
              "      border-radius: 50%;\n",
              "      cursor: pointer;\n",
              "      display: none;\n",
              "      fill: #1967D2;\n",
              "      height: 32px;\n",
              "      padding: 0 0 0 0;\n",
              "      width: 32px;\n",
              "    }\n",
              "\n",
              "    .colab-df-convert:hover {\n",
              "      background-color: #E2EBFA;\n",
              "      box-shadow: 0px 1px 2px rgba(60, 64, 67, 0.3), 0px 1px 3px 1px rgba(60, 64, 67, 0.15);\n",
              "      fill: #174EA6;\n",
              "    }\n",
              "\n",
              "    [theme=dark] .colab-df-convert {\n",
              "      background-color: #3B4455;\n",
              "      fill: #D2E3FC;\n",
              "    }\n",
              "\n",
              "    [theme=dark] .colab-df-convert:hover {\n",
              "      background-color: #434B5C;\n",
              "      box-shadow: 0px 1px 3px 1px rgba(0, 0, 0, 0.15);\n",
              "      filter: drop-shadow(0px 1px 2px rgba(0, 0, 0, 0.3));\n",
              "      fill: #FFFFFF;\n",
              "    }\n",
              "  </style>\n",
              "\n",
              "      <script>\n",
              "        const buttonEl =\n",
              "          document.querySelector('#df-cb9c9c8e-c513-4472-91ea-fcc614fde895 button.colab-df-convert');\n",
              "        buttonEl.style.display =\n",
              "          google.colab.kernel.accessAllowed ? 'block' : 'none';\n",
              "\n",
              "        async function convertToInteractive(key) {\n",
              "          const element = document.querySelector('#df-cb9c9c8e-c513-4472-91ea-fcc614fde895');\n",
              "          const dataTable =\n",
              "            await google.colab.kernel.invokeFunction('convertToInteractive',\n",
              "                                                     [key], {});\n",
              "          if (!dataTable) return;\n",
              "\n",
              "          const docLinkHtml = 'Like what you see? Visit the ' +\n",
              "            '<a target=\"_blank\" href=https://colab.research.google.com/notebooks/data_table.ipynb>data table notebook</a>'\n",
              "            + ' to learn more about interactive tables.';\n",
              "          element.innerHTML = '';\n",
              "          dataTable['output_type'] = 'display_data';\n",
              "          await google.colab.output.renderOutput(dataTable, element);\n",
              "          const docLink = document.createElement('div');\n",
              "          docLink.innerHTML = docLinkHtml;\n",
              "          element.appendChild(docLink);\n",
              "        }\n",
              "      </script>\n",
              "    </div>\n",
              "  </div>\n",
              "  "
            ]
          },
          "metadata": {},
          "execution_count": 91
        }
      ]
    },
    {
      "cell_type": "markdown",
      "source": [
        "A negative sign before a scaled value indicates that the original value was below the mean of the dataset. Standard scaling (also called Z-score normalization) transforms a dataset so that it has a mean of zero and a standard deviation of one. This means that any value below the mean will have a negative standardized value, while any value above the mean will have a positive standardized value.\n",
        "\n",
        "For example, if the original family size values have a mean of 3 and a standard deviation of 1, a family size of 2 would have a standardized value of -1 (since it is one standard deviation below the mean). A family size of 4 would have a standardized value of +1 (since it is one standard deviation above the mean), and a family size of 3 would have a standardized value of 0 (since it is exactly at the mean)."
      ],
      "metadata": {
        "id": "WpbGI9Qd4gJC"
      }
    },
    {
      "cell_type": "code",
      "source": [
        "test_df"
      ],
      "metadata": {
        "id": "848LuW1vp9gI",
        "colab": {
          "base_uri": "https://localhost:8080/",
          "height": 423
        },
        "outputId": "9c800574-20b4-4ef2-8915-0b7ccf77ccba"
      },
      "execution_count": null,
      "outputs": [
        {
          "output_type": "execute_result",
          "data": {
            "text/plain": [
              "     Pclass       Sex       Age     SibSp     Parch      Fare  Embarked  \\\n",
              "0         3  0.742146  0.553360 -0.479701 -0.379337 -0.518260  2.236373   \n",
              "1         3 -1.347443  1.691382  0.621116 -0.379337 -0.535820 -0.679358   \n",
              "3         3  0.742146 -0.129454 -0.479701 -0.379337 -0.500613 -0.679358   \n",
              "4         3 -1.347443 -0.584663  0.621116  0.659261 -0.423846 -0.679358   \n",
              "5         3  0.742146 -1.312997 -0.479701 -0.379337 -0.488701 -0.679358   \n",
              "..      ...       ...       ...       ...       ...       ...       ...   \n",
              "413       3  0.742146 -0.402579 -0.479701 -0.379337 -0.513584 -0.679358   \n",
              "414       1 -1.347443  0.963048 -0.479701 -0.379337  1.622132  0.778507   \n",
              "415       3  0.742146  0.917527 -0.479701 -0.379337 -0.530525 -0.679358   \n",
              "416       3  0.742146 -0.402579 -0.479701 -0.379337 -0.513584 -0.679358   \n",
              "417       3  0.742146 -0.402579  0.621116  0.659261 -0.210575  0.778507   \n",
              "\n",
              "     FamilySize  \n",
              "0     -0.527539  \n",
              "1      0.131055  \n",
              "3     -0.527539  \n",
              "4      0.789650  \n",
              "5     -0.527539  \n",
              "..          ...  \n",
              "413   -0.527539  \n",
              "414   -0.527539  \n",
              "415   -0.527539  \n",
              "416   -0.527539  \n",
              "417    0.789650  \n",
              "\n",
              "[397 rows x 8 columns]"
            ],
            "text/html": [
              "\n",
              "  <div id=\"df-45dea956-2144-4c40-9cb0-28c9640da32d\">\n",
              "    <div class=\"colab-df-container\">\n",
              "      <div>\n",
              "<style scoped>\n",
              "    .dataframe tbody tr th:only-of-type {\n",
              "        vertical-align: middle;\n",
              "    }\n",
              "\n",
              "    .dataframe tbody tr th {\n",
              "        vertical-align: top;\n",
              "    }\n",
              "\n",
              "    .dataframe thead th {\n",
              "        text-align: right;\n",
              "    }\n",
              "</style>\n",
              "<table border=\"1\" class=\"dataframe\">\n",
              "  <thead>\n",
              "    <tr style=\"text-align: right;\">\n",
              "      <th></th>\n",
              "      <th>Pclass</th>\n",
              "      <th>Sex</th>\n",
              "      <th>Age</th>\n",
              "      <th>SibSp</th>\n",
              "      <th>Parch</th>\n",
              "      <th>Fare</th>\n",
              "      <th>Embarked</th>\n",
              "      <th>FamilySize</th>\n",
              "    </tr>\n",
              "  </thead>\n",
              "  <tbody>\n",
              "    <tr>\n",
              "      <th>0</th>\n",
              "      <td>3</td>\n",
              "      <td>0.742146</td>\n",
              "      <td>0.553360</td>\n",
              "      <td>-0.479701</td>\n",
              "      <td>-0.379337</td>\n",
              "      <td>-0.518260</td>\n",
              "      <td>2.236373</td>\n",
              "      <td>-0.527539</td>\n",
              "    </tr>\n",
              "    <tr>\n",
              "      <th>1</th>\n",
              "      <td>3</td>\n",
              "      <td>-1.347443</td>\n",
              "      <td>1.691382</td>\n",
              "      <td>0.621116</td>\n",
              "      <td>-0.379337</td>\n",
              "      <td>-0.535820</td>\n",
              "      <td>-0.679358</td>\n",
              "      <td>0.131055</td>\n",
              "    </tr>\n",
              "    <tr>\n",
              "      <th>3</th>\n",
              "      <td>3</td>\n",
              "      <td>0.742146</td>\n",
              "      <td>-0.129454</td>\n",
              "      <td>-0.479701</td>\n",
              "      <td>-0.379337</td>\n",
              "      <td>-0.500613</td>\n",
              "      <td>-0.679358</td>\n",
              "      <td>-0.527539</td>\n",
              "    </tr>\n",
              "    <tr>\n",
              "      <th>4</th>\n",
              "      <td>3</td>\n",
              "      <td>-1.347443</td>\n",
              "      <td>-0.584663</td>\n",
              "      <td>0.621116</td>\n",
              "      <td>0.659261</td>\n",
              "      <td>-0.423846</td>\n",
              "      <td>-0.679358</td>\n",
              "      <td>0.789650</td>\n",
              "    </tr>\n",
              "    <tr>\n",
              "      <th>5</th>\n",
              "      <td>3</td>\n",
              "      <td>0.742146</td>\n",
              "      <td>-1.312997</td>\n",
              "      <td>-0.479701</td>\n",
              "      <td>-0.379337</td>\n",
              "      <td>-0.488701</td>\n",
              "      <td>-0.679358</td>\n",
              "      <td>-0.527539</td>\n",
              "    </tr>\n",
              "    <tr>\n",
              "      <th>...</th>\n",
              "      <td>...</td>\n",
              "      <td>...</td>\n",
              "      <td>...</td>\n",
              "      <td>...</td>\n",
              "      <td>...</td>\n",
              "      <td>...</td>\n",
              "      <td>...</td>\n",
              "      <td>...</td>\n",
              "    </tr>\n",
              "    <tr>\n",
              "      <th>413</th>\n",
              "      <td>3</td>\n",
              "      <td>0.742146</td>\n",
              "      <td>-0.402579</td>\n",
              "      <td>-0.479701</td>\n",
              "      <td>-0.379337</td>\n",
              "      <td>-0.513584</td>\n",
              "      <td>-0.679358</td>\n",
              "      <td>-0.527539</td>\n",
              "    </tr>\n",
              "    <tr>\n",
              "      <th>414</th>\n",
              "      <td>1</td>\n",
              "      <td>-1.347443</td>\n",
              "      <td>0.963048</td>\n",
              "      <td>-0.479701</td>\n",
              "      <td>-0.379337</td>\n",
              "      <td>1.622132</td>\n",
              "      <td>0.778507</td>\n",
              "      <td>-0.527539</td>\n",
              "    </tr>\n",
              "    <tr>\n",
              "      <th>415</th>\n",
              "      <td>3</td>\n",
              "      <td>0.742146</td>\n",
              "      <td>0.917527</td>\n",
              "      <td>-0.479701</td>\n",
              "      <td>-0.379337</td>\n",
              "      <td>-0.530525</td>\n",
              "      <td>-0.679358</td>\n",
              "      <td>-0.527539</td>\n",
              "    </tr>\n",
              "    <tr>\n",
              "      <th>416</th>\n",
              "      <td>3</td>\n",
              "      <td>0.742146</td>\n",
              "      <td>-0.402579</td>\n",
              "      <td>-0.479701</td>\n",
              "      <td>-0.379337</td>\n",
              "      <td>-0.513584</td>\n",
              "      <td>-0.679358</td>\n",
              "      <td>-0.527539</td>\n",
              "    </tr>\n",
              "    <tr>\n",
              "      <th>417</th>\n",
              "      <td>3</td>\n",
              "      <td>0.742146</td>\n",
              "      <td>-0.402579</td>\n",
              "      <td>0.621116</td>\n",
              "      <td>0.659261</td>\n",
              "      <td>-0.210575</td>\n",
              "      <td>0.778507</td>\n",
              "      <td>0.789650</td>\n",
              "    </tr>\n",
              "  </tbody>\n",
              "</table>\n",
              "<p>397 rows × 8 columns</p>\n",
              "</div>\n",
              "      <button class=\"colab-df-convert\" onclick=\"convertToInteractive('df-45dea956-2144-4c40-9cb0-28c9640da32d')\"\n",
              "              title=\"Convert this dataframe to an interactive table.\"\n",
              "              style=\"display:none;\">\n",
              "        \n",
              "  <svg xmlns=\"http://www.w3.org/2000/svg\" height=\"24px\"viewBox=\"0 0 24 24\"\n",
              "       width=\"24px\">\n",
              "    <path d=\"M0 0h24v24H0V0z\" fill=\"none\"/>\n",
              "    <path d=\"M18.56 5.44l.94 2.06.94-2.06 2.06-.94-2.06-.94-.94-2.06-.94 2.06-2.06.94zm-11 1L8.5 8.5l.94-2.06 2.06-.94-2.06-.94L8.5 2.5l-.94 2.06-2.06.94zm10 10l.94 2.06.94-2.06 2.06-.94-2.06-.94-.94-2.06-.94 2.06-2.06.94z\"/><path d=\"M17.41 7.96l-1.37-1.37c-.4-.4-.92-.59-1.43-.59-.52 0-1.04.2-1.43.59L10.3 9.45l-7.72 7.72c-.78.78-.78 2.05 0 2.83L4 21.41c.39.39.9.59 1.41.59.51 0 1.02-.2 1.41-.59l7.78-7.78 2.81-2.81c.8-.78.8-2.07 0-2.86zM5.41 20L4 18.59l7.72-7.72 1.47 1.35L5.41 20z\"/>\n",
              "  </svg>\n",
              "      </button>\n",
              "      \n",
              "  <style>\n",
              "    .colab-df-container {\n",
              "      display:flex;\n",
              "      flex-wrap:wrap;\n",
              "      gap: 12px;\n",
              "    }\n",
              "\n",
              "    .colab-df-convert {\n",
              "      background-color: #E8F0FE;\n",
              "      border: none;\n",
              "      border-radius: 50%;\n",
              "      cursor: pointer;\n",
              "      display: none;\n",
              "      fill: #1967D2;\n",
              "      height: 32px;\n",
              "      padding: 0 0 0 0;\n",
              "      width: 32px;\n",
              "    }\n",
              "\n",
              "    .colab-df-convert:hover {\n",
              "      background-color: #E2EBFA;\n",
              "      box-shadow: 0px 1px 2px rgba(60, 64, 67, 0.3), 0px 1px 3px 1px rgba(60, 64, 67, 0.15);\n",
              "      fill: #174EA6;\n",
              "    }\n",
              "\n",
              "    [theme=dark] .colab-df-convert {\n",
              "      background-color: #3B4455;\n",
              "      fill: #D2E3FC;\n",
              "    }\n",
              "\n",
              "    [theme=dark] .colab-df-convert:hover {\n",
              "      background-color: #434B5C;\n",
              "      box-shadow: 0px 1px 3px 1px rgba(0, 0, 0, 0.15);\n",
              "      filter: drop-shadow(0px 1px 2px rgba(0, 0, 0, 0.3));\n",
              "      fill: #FFFFFF;\n",
              "    }\n",
              "  </style>\n",
              "\n",
              "      <script>\n",
              "        const buttonEl =\n",
              "          document.querySelector('#df-45dea956-2144-4c40-9cb0-28c9640da32d button.colab-df-convert');\n",
              "        buttonEl.style.display =\n",
              "          google.colab.kernel.accessAllowed ? 'block' : 'none';\n",
              "\n",
              "        async function convertToInteractive(key) {\n",
              "          const element = document.querySelector('#df-45dea956-2144-4c40-9cb0-28c9640da32d');\n",
              "          const dataTable =\n",
              "            await google.colab.kernel.invokeFunction('convertToInteractive',\n",
              "                                                     [key], {});\n",
              "          if (!dataTable) return;\n",
              "\n",
              "          const docLinkHtml = 'Like what you see? Visit the ' +\n",
              "            '<a target=\"_blank\" href=https://colab.research.google.com/notebooks/data_table.ipynb>data table notebook</a>'\n",
              "            + ' to learn more about interactive tables.';\n",
              "          element.innerHTML = '';\n",
              "          dataTable['output_type'] = 'display_data';\n",
              "          await google.colab.output.renderOutput(dataTable, element);\n",
              "          const docLink = document.createElement('div');\n",
              "          docLink.innerHTML = docLinkHtml;\n",
              "          element.appendChild(docLink);\n",
              "        }\n",
              "      </script>\n",
              "    </div>\n",
              "  </div>\n",
              "  "
            ]
          },
          "metadata": {},
          "execution_count": 92
        }
      ]
    },
    {
      "cell_type": "code",
      "source": [
        "# heatmap for selected features to understand correlation\n",
        "corr = train_df.corr()\n",
        "sns.heatmap(corr, annot=True, square=True)\n",
        "plt.yticks(rotation=0)\n",
        "plt.show()"
      ],
      "metadata": {
        "colab": {
          "base_uri": "https://localhost:8080/",
          "height": 320
        },
        "id": "HWqgV2lZA2Ob",
        "outputId": "2b4b397c-be66-4919-e2ac-6bd93cf28fa1"
      },
      "execution_count": null,
      "outputs": [
        {
          "output_type": "display_data",
          "data": {
            "text/plain": [
              "<Figure size 432x288 with 2 Axes>"
            ],
            "image/png": "[encoded data removed]"
          },
          "metadata": {}
        }
      ]
    },
    {
      "cell_type": "code",
      "source": [
        "correlations = train_df[['Survived', 'Age', 'Embarked', 'Sex', 'Pclass', 'Parch','Fare']].corr()\n",
        "print(correlations)"
      ],
      "metadata": {
        "colab": {
          "base_uri": "https://localhost:8080/"
        },
        "id": "rRtM0Z7JEq2f",
        "outputId": "418f41b9-4f96-4aa0-fca6-2e8115224083"
      },
      "execution_count": null,
      "outputs": [
        {
          "output_type": "stream",
          "name": "stdout",
          "text": [
            "          Survived       Age  Embarked       Sex    Pclass     Parch      Fare\n",
            "Survived  1.000000 -0.031096  0.113391 -0.539169 -0.356822  0.086737  0.263778\n",
            "Age      -0.031096  1.000000 -0.052444  0.048546 -0.390677 -0.187774  0.123392\n",
            "Embarked  0.113391 -0.052444  1.000000 -0.123054  0.037014 -0.080184  0.068120\n",
            "Sex      -0.539169  0.048546 -0.123054  1.000000  0.148482 -0.254608 -0.186887\n",
            "Pclass   -0.356822 -0.390677  0.037014  0.148482  1.000000  0.022340 -0.553921\n",
            "Parch     0.086737 -0.187774 -0.080184 -0.254608  0.022340  1.000000  0.196133\n",
            "Fare      0.263778  0.123392  0.068120 -0.186887 -0.553921  0.196133  1.000000\n"
          ]
        }
      ]
    },
    {
      "cell_type": "code",
      "source": [
        "\n",
        "import seaborn as sns\n",
        "sns.heatmap(correlations, annot=True)\n"
      ],
      "metadata": {
        "colab": {
          "base_uri": "https://localhost:8080/",
          "height": 335
        },
        "id": "qDyWnZ2CDKAq",
        "outputId": "945cba80-9514-46f7-981f-4b51db7b7605"
      },
      "execution_count": null,
      "outputs": [
        {
          "output_type": "execute_result",
          "data": {
            "text/plain": [
              "<AxesSubplot:>"
            ]
          },
          "metadata": {},
          "execution_count": 95
        },
        {
          "output_type": "display_data",
          "data": {
            "text/plain": [
              "<Figure size 432x288 with 2 Axes>"
            ],
            "image/png": "[encoded data removed]"
          },
          "metadata": {}
        }
      ]
    },
    {
      "cell_type": "markdown",
      "source": [
        "This is useful to know, because some machine learning algorithms like linear and logistic regression can have poor performance if there are highly correlated input variables in data."
      ],
      "metadata": {
        "id": "iXt--BwiWvyG"
      }
    },
    {
      "cell_type": "markdown",
      "source": [
        "Implementation"
      ],
      "metadata": {
        "id": "O3nRrrz3fW-X"
      }
    },
    {
      "cell_type": "code",
      "source": [
        "class LogisticRegression:\n",
        "\n",
        "    def __init__(self, lr = 0.01, iterations = 1000):\n",
        "        self.lr = lr\n",
        "        self.iterations = iterations\n",
        "        self.costs = []\n",
        "    \n",
        "    # Activation function\n",
        "    def sigmoid(self, z):\n",
        "        return 1 / (1 + np.exp(-z))\n",
        "\n",
        "    def calculate_cost(self, X, y):\n",
        "      m = X.shape[0]\n",
        "      z = np.dot(X, self.weights) + self.intercept\n",
        "      y_pred = self.sigmoid(z)\n",
        "      cost = -(1/m) * np.sum(y * np.log(y_pred) + (1 - y) * np.log(1 - y_pred))\n",
        "      regularization = (1/self.C) * np.sum(self.weights ** 2)\n",
        "      if self.penalty == 'l1':\n",
        "        regularization *= np.sum(np.abs(self.weights))\n",
        "      else:\n",
        "        regularization *= np.sum(self.weights ** 2)\n",
        "        return cost + regularization\n",
        "\n",
        "    def calculate_gradients(self, X, y):\n",
        "        m = X.shape[0]\n",
        "        z = np.dot(X, self.weights) + self.intercept\n",
        "        y_pred = self.sigmoid(z)\n",
        "        d_weights = (1/m) * np.dot(X.T, (y_pred - y))\n",
        "        d_intercept = (1/m) * np.sum(y_pred - y)\n",
        "        regularization = (2/self.C) * self.weights\n",
        "        if self.penalty == 'l1':\n",
        "            regularization += self.C * np.sign(self.weights)\n",
        "        else:\n",
        "            regularization += self.C * self.weights\n",
        "        return d_weights + regularization, d_intercept\n",
        "\n",
        "    def fit(self, X, y):  \n",
        "        self.X = X\n",
        "        self.Y= y\n",
        "        self.m = X.shape[0]         # Number of rows in the data\n",
        "        self.n = X.shape[1]         # Number of columns in the data\n",
        "        self.w = np.zeros(self.n)   # Initializing weights\n",
        "        self.b = 0                  # Initializing bias\n",
        "\n",
        "        for i in range(0, self.iterations):\n",
        "            # Prediction\n",
        "            y_hat = self.sigmoid(self.X.dot(self.w) + self.b)\n",
        "            \n",
        "            # Calculating cost function  (binary cross entropy loss)\n",
        "            \n",
        "            #When the predicted probability is close to the true label (i.e., y_hat is close to y), the loss is small.\n",
        "            #When the predicted probability is far from the true label, the loss is large.\n",
        "            cost = (-self.Y * np.log(y_hat) - (1 - self.Y) * np.log(1 - y_hat)).mean()\n",
        "            self.costs.append(cost)\n",
        "            \n",
        "            # Calculating gradients for backward propagation\n",
        "            dw = (1 / self.m) * np.dot(self.X.T, (y_hat - self.Y))\n",
        "            db = (1 / self.m) * np.sum(y_hat - self.Y)\n",
        "            \n",
        "            # Updating parameters\n",
        "            self.w = self.w - self.lr * dw\n",
        "            self.b = self.b - self.lr * db\n",
        "\n",
        "    def predict(self, X):\n",
        "        y_pred = self.sigmoid(X.dot(self.w) + self.b) \n",
        "        y_pred = np.where(y_pred > 0.4, 1, 0)   # y_pred = 1 if prob > 0.5 else 0\n",
        "        return y_pred"
      ],
      "metadata": {
        "id": "1wqVt07FPhqY"
      },
      "execution_count": null,
      "outputs": []
    },
    {
      "cell_type": "code",
      "source": [
        "model = LogisticRegression(lr= 0.01, iterations= 1000)\n",
        "model.fit(X_train, y_train)\n",
        "y_pred = model.predict(X_val)"
      ],
      "metadata": {
        "id": "3WZGKfZjPkp-"
      },
      "execution_count": null,
      "outputs": []
    },
    {
      "cell_type": "code",
      "source": [
        "#Cost Function\n",
        "plt.figure(figsize = (10, 6))\n",
        "plt.title('Cost Function')\n",
        "plt.xlabel('No. of iterations')\n",
        "plt.ylabel('Cost')\n",
        "plt.plot(model.costs)\n",
        "plt.show()"
      ],
      "metadata": {
        "colab": {
          "base_uri": "https://localhost:8080/",
          "height": 410
        },
        "id": "2uDTmxfeP3Iu",
        "outputId": "115b7c51-2b12-4abd-c207-cc0c331ab955"
      },
      "execution_count": null,
      "outputs": [
        {
          "output_type": "display_data",
          "data": {
            "text/plain": [
              "<Figure size 720x432 with 1 Axes>"
            ],
            "image/png": "[encoded data removed]"
          },
          "metadata": {}
        }
      ]
    },
    {
      "cell_type": "code",
      "source": [
        "y_train.shape"
      ],
      "metadata": {
        "colab": {
          "base_uri": "https://localhost:8080/"
        },
        "id": "KANmSogtIigK",
        "outputId": "8a4f5b64-3ac2-4fcb-cc8b-c6d2ef3640e0"
      },
      "execution_count": null,
      "outputs": [
        {
          "output_type": "execute_result",
          "data": {
            "text/plain": [
              "(606,)"
            ]
          },
          "metadata": {},
          "execution_count": 99
        }
      ]
    },
    {
      "cell_type": "code",
      "source": [
        "X_train.shape"
      ],
      "metadata": {
        "colab": {
          "base_uri": "https://localhost:8080/"
        },
        "id": "tssq6hRQIqh6",
        "outputId": "a5d4173c-af8d-43a8-dd50-d1e7952c0309"
      },
      "execution_count": null,
      "outputs": [
        {
          "output_type": "execute_result",
          "data": {
            "text/plain": [
              "(606, 8)"
            ]
          },
          "metadata": {},
          "execution_count": 100
        }
      ]
    },
    {
      "cell_type": "code",
      "source": [
        "y_val.shape"
      ],
      "metadata": {
        "colab": {
          "base_uri": "https://localhost:8080/"
        },
        "id": "R7KCes0tIxpV",
        "outputId": "b5b0d325-3ca3-4718-dfc1-b370bfee97e1"
      },
      "execution_count": null,
      "outputs": [
        {
          "output_type": "execute_result",
          "data": {
            "text/plain": [
              "(259,)"
            ]
          },
          "metadata": {},
          "execution_count": 101
        }
      ]
    },
    {
      "cell_type": "code",
      "source": [
        "X_train.shape"
      ],
      "metadata": {
        "colab": {
          "base_uri": "https://localhost:8080/"
        },
        "id": "Yt3iQ9KmI2xl",
        "outputId": "3400f262-9d8d-4d59-c74e-d4df4ea6c870"
      },
      "execution_count": null,
      "outputs": [
        {
          "output_type": "execute_result",
          "data": {
            "text/plain": [
              "(606, 8)"
            ]
          },
          "metadata": {},
          "execution_count": 102
        }
      ]
    },
    {
      "cell_type": "code",
      "source": [
        "X_val.shape"
      ],
      "metadata": {
        "colab": {
          "base_uri": "https://localhost:8080/"
        },
        "id": "B8TgSo5nJJye",
        "outputId": "c8b80a67-0f96-489f-9861-9b7695184ff2"
      },
      "execution_count": null,
      "outputs": [
        {
          "output_type": "execute_result",
          "data": {
            "text/plain": [
              "(259, 8)"
            ]
          },
          "metadata": {},
          "execution_count": 103
        }
      ]
    },
    {
      "cell_type": "code",
      "source": [
        "print(y_pred.shape)"
      ],
      "metadata": {
        "colab": {
          "base_uri": "https://localhost:8080/"
        },
        "id": "fD4egssUQHPr",
        "outputId": "4df6d6b8-568c-43d9-823d-822e4a37f0f7"
      },
      "execution_count": null,
      "outputs": [
        {
          "output_type": "stream",
          "name": "stdout",
          "text": [
            "(259,)\n"
          ]
        }
      ]
    },
    {
      "cell_type": "code",
      "source": [
        "# function to define accuracy\n",
        "def accuracy(actual, predicted):\n",
        "    correct_predictions = 0\n",
        "    for i in range(len(actual)):\n",
        "        if actual[i] == predicted[i]:\n",
        "            correct_predictions += 1\n",
        "    return correct_predictions / float(len(actual)) * 100.0"
      ],
      "metadata": {
        "id": "UyVbSW86XqIt"
      },
      "execution_count": null,
      "outputs": []
    },
    {
      "cell_type": "code",
      "source": [
        "accuracy = accuracy(y_val.values, y_pred)\n",
        "print(\"accuracy:\",accuracy)"
      ],
      "metadata": {
        "colab": {
          "base_uri": "https://localhost:8080/"
        },
        "id": "8o5YAXUw29_f",
        "outputId": "2d2d4929-2a47-44f0-d3c5-b9fde55629ad"
      },
      "execution_count": null,
      "outputs": [
        {
          "output_type": "stream",
          "name": "stdout",
          "text": [
            "accuracy: 72.97297297297297\n"
          ]
        }
      ]
    },
    {
      "cell_type": "code",
      "source": [
        "# function to define precision\n",
        "def precision(actual, predicted):\n",
        "    true_positives = 0\n",
        "    false_positives = 0\n",
        "    for i in range(len(actual)):\n",
        "        if predicted[i] == 1:\n",
        "            if actual[i] == predicted[i]:\n",
        "                true_positives += 1\n",
        "            else:\n",
        "                false_positives += 1\n",
        "    if true_positives + false_positives == 0:\n",
        "        return 0.0\n",
        "    else:\n",
        "        return true_positives / float(true_positives + false_positives) * 100.00"
      ],
      "metadata": {
        "id": "5niTOxtcXzLO"
      },
      "execution_count": null,
      "outputs": []
    },
    {
      "cell_type": "code",
      "source": [
        "precision = precision(y_val.values, y_pred)\n",
        "print(\"precision:\",precision)"
      ],
      "metadata": {
        "colab": {
          "base_uri": "https://localhost:8080/"
        },
        "id": "zXu1LN9136mg",
        "outputId": "1aa9d5e7-6457-406f-d249-4902d73d353a"
      },
      "execution_count": null,
      "outputs": [
        {
          "output_type": "stream",
          "name": "stdout",
          "text": [
            "precision: 100.0\n"
          ]
        }
      ]
    },
    {
      "cell_type": "code",
      "source": [
        "#function to define recall\n",
        "def recall(actual, predicted):\n",
        "    true_positives = 0\n",
        "    false_negatives = 0\n",
        "    for i in range(len(actual)):\n",
        "        if actual[i] == 1:\n",
        "            if actual[i] == predicted[i]:\n",
        "                true_positives += 1\n",
        "            else:\n",
        "                false_negatives += 1\n",
        "    if true_positives + false_negatives == 0:\n",
        "        return 0\n",
        "    else:\n",
        "        return true_positives / float(true_positives + false_negatives) * 100.0"
      ],
      "metadata": {
        "id": "Cdk48l6PX46W"
      },
      "execution_count": null,
      "outputs": []
    },
    {
      "cell_type": "code",
      "source": [
        "recall=recall(y_val.values, y_pred)\n",
        "print(\"recall:\",recall)"
      ],
      "metadata": {
        "colab": {
          "base_uri": "https://localhost:8080/"
        },
        "id": "pxc77Ffe4bdJ",
        "outputId": "cb19b455-337f-423c-95c9-b693c2214a26"
      },
      "execution_count": null,
      "outputs": [
        {
          "output_type": "stream",
          "name": "stdout",
          "text": [
            "recall: 25.53191489361702\n"
          ]
        }
      ]
    },
    {
      "cell_type": "code",
      "source": [
        "# function to define fi_score\n",
        "def f1_score(actual, predicted):\n",
        "    tp = 0\n",
        "    fp = 0\n",
        "    fn = 0\n",
        "    for i in range(len(actual)):\n",
        "        if actual[i] == 1 and predicted[i] == 1:\n",
        "            tp += 1\n",
        "        elif actual[i] == 0 and predicted[i] == 1:\n",
        "            fp += 1\n",
        "        elif actual[i] == 1 and predicted[i] == 0:\n",
        "            fn += 1\n",
        "    if tp == 0:\n",
        "        return 0\n",
        "    precision = tp / (tp + fp)\n",
        "    recall = tp / (tp + fn)\n",
        "    f1 = 2 * precision * recall / (precision + recall)*100\n",
        "    return f1"
      ],
      "metadata": {
        "id": "azd46Kg2X7D4"
      },
      "execution_count": null,
      "outputs": []
    },
    {
      "cell_type": "code",
      "source": [
        "f1_score=f1_score(y_val.values, y_pred)\n",
        "print(\"f1_score:\",f1_score)"
      ],
      "metadata": {
        "id": "dpkJdxl7vLcy",
        "colab": {
          "base_uri": "https://localhost:8080/"
        },
        "outputId": "b65c55d1-4fcf-46d3-e07f-8602ce3e1425"
      },
      "execution_count": null,
      "outputs": [
        {
          "output_type": "stream",
          "name": "stdout",
          "text": [
            "f1_score: 40.67796610169491\n"
          ]
        }
      ]
    },
    {
      "cell_type": "markdown",
      "source": [
        "![1_S08FTTeOVawJX8AWtrlewg.webp](data:image/webp;base64,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)"
      ],
      "metadata": {
        "id": "KMFU87yyeK-3"
      }
    },
    {
      "cell_type": "code",
      "source": [
        "def auc(y_true, y_pred):\n",
        "    # Sort the predictions in descending order\n",
        "    sorted_indices = sorted(range(len(y_pred)), key=lambda i: y_pred[i], reverse=True)\n",
        "    y_true_sorted = [y_true[i] for i in sorted_indices]\n",
        "    \n",
        "    # Compute the true positive rate and false positive rate\n",
        "    tp = 0\n",
        "    fp = 0\n",
        "    tpr_list = []\n",
        "    fpr_list = []\n",
        "    num_positive = sum(y_true)\n",
        "    num_negative = len(y_true) - num_positive\n",
        "    for i in range(len(sorted_indices)):\n",
        "        if y_true_sorted[i] == 1:\n",
        "            tp += 1\n",
        "        else:\n",
        "            fp += 1\n",
        "        tpr_list.append(tp / num_positive)\n",
        "        fpr_list.append(fp / num_negative)\n",
        "    \n",
        "    # Compute the area under the curve using the trapezoidal rule\n",
        "    auc = 0\n",
        "    for i in range(len(tpr_list) - 1):\n",
        "        auc += (fpr_list[i+1] - fpr_list[i]) * (tpr_list[i+1] + tpr_list[i]) / 2\n",
        "    \n",
        "    return auc\n"
      ],
      "metadata": {
        "id": "t5wOZrndT2Zn"
      },
      "execution_count": null,
      "outputs": []
    },
    {
      "cell_type": "code",
      "source": [
        "auc = auc(y_val.values,y_pred)\n",
        "auc"
      ],
      "metadata": {
        "colab": {
          "base_uri": "https://localhost:8080/"
        },
        "id": "N9TQAvB1TMW-",
        "outputId": "8325d753-ccc0-4513-a401-402b3f368566"
      },
      "execution_count": null,
      "outputs": [
        {
          "output_type": "execute_result",
          "data": {
            "text/plain": [
              "0.6174725983236616"
            ]
          },
          "metadata": {},
          "execution_count": 115
        }
      ]
    },
    {
      "cell_type": "code",
      "source": [
        "import matplotlib.pyplot as plt\n",
        "\n",
        "def roc_curve(y_true, y_pred):\n",
        "    # Sort the predictions in descending order\n",
        "    sorted_indices = sorted(range(len(y_pred)), key=lambda i: y_pred[i], reverse=True)\n",
        "    y_true_sorted = [y_true[i] for i in sorted_indices]\n",
        "    \n",
        "    # Compute the true positive rate and false positive rate\n",
        "    tp = 0\n",
        "    fp = 0\n",
        "    tpr_list = []\n",
        "    fpr_list = []\n",
        "    num_positive = sum(y_true)\n",
        "    num_negative = len(y_true) - num_positive\n",
        "    for i in range(len(sorted_indices)):\n",
        "        if y_true_sorted[i] == 1:\n",
        "            tp += 1\n",
        "        else:\n",
        "            fp += 1\n",
        "        tpr_list.append(tp / num_positive)\n",
        "        fpr_list.append(fp / num_negative)\n",
        "    \n",
        "    # Plot the ROC curve\n",
        "    plt.plot(fpr_list, tpr_list, color = 'orange',label = 'ROC')\n",
        "    plt.plot([0, 1], [0, 1], '--')\n",
        "    plt.xlabel('False Positive Rate')\n",
        "    plt.ylabel('True Positive Rate')\n",
        "    plt.title('ROC Curve')\n",
        "    plt.show()\n",
        "    \n",
        "    return fpr_list, tpr_list\n"
      ],
      "metadata": {
        "id": "tEmuhiJbVTkR"
      },
      "execution_count": null,
      "outputs": []
    },
    {
      "cell_type": "code",
      "source": [
        "fpr_list1, tpr_list1 = roc_curve(y_val.values, y_pred)"
      ],
      "metadata": {
        "colab": {
          "base_uri": "https://localhost:8080/",
          "height": 301
        },
        "id": "eqg1JltkWvbj",
        "outputId": "f8893150-17b7-4659-fd83-d3dee14b460f"
      },
      "execution_count": null,
      "outputs": [
        {
          "output_type": "display_data",
          "data": {
            "text/plain": [
              "<Figure size 432x288 with 1 Axes>"
            ],
            "image/png": "[encoded data removed]"
          },
          "metadata": {}
        }
      ]
    },
    {
      "cell_type": "code",
      "source": [
        "model.fit(X_train, y_train)"
      ],
      "metadata": {
        "id": "sItmQ1w1SdvW"
      },
      "execution_count": null,
      "outputs": []
    },
    {
      "cell_type": "code",
      "source": [
        "y_pred_train = model.predict(X_train.values)"
      ],
      "metadata": {
        "id": "eWjqJbRgB9L-"
      },
      "execution_count": null,
      "outputs": []
    },
    {
      "cell_type": "code",
      "source": [],
      "metadata": {
        "id": "H77y2-W1grnx"
      },
      "execution_count": null,
      "outputs": []
    }
  ]
}